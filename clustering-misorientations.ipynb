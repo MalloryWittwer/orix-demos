{
 "cells": [
  {
   "cell_type": "markdown",
   "metadata": {},
   "source": [
    "# Table of Contents\n",
    "\n",
    "1. [**Dependencies**](#Dependencies)\n",
    "2. [Neo-Euler orientations](#Neo-Euler-orientations)\n",
    "3. [DBSCAN](#DBSCAN)\n",
    "4. [**Clustered Ti Orientations**](#Clustered-Ti-Orientations)\n",
    "5. [Symmetry Demonstration](#Symmetry-Demonstration)\n",
    "6. [Clustering across fundamental region boundaries](#Clustering-across-fundamental-region-boundaries)\n",
    "7. [**Clustered Ti misorientations**](#Clustered-Ti-misorientations)"
   ]
  },
  {
   "cell_type": "markdown",
   "metadata": {},
   "source": [
    "Bold highlighted sections are the ones needed for the manuscript"
   ]
  },
  {
   "cell_type": "markdown",
   "metadata": {},
   "source": [
    "# Dependencies\n",
    "\n",
    "<div class=\"alert alert-info\"><strong>Run this first!</strong></div>"
   ]
  },
  {
   "cell_type": "code",
   "execution_count": 1,
   "metadata": {},
   "outputs": [],
   "source": [
    "%matplotlib inline\n",
    "\n",
    "# Important external dependencies\n",
    "import numpy as np\n",
    "import matplotlib.pyplot as plt\n",
    "from sklearn.cluster import DBSCAN\n",
    "\n",
    "# Other external dependencies\n",
    "from sklearn.datasets import make_blobs\n",
    "from tqdm import tqdm_notebook\n",
    "\n",
    "# Local dependencies\n",
    "from texpy.quaternion.orientation import Orientation, Misorientation\n",
    "from texpy.quaternion.rotation import Rotation\n",
    "from texpy.quaternion.symmetry import C1, D6h, D6, Oh\n",
    "from texpy.quaternion.orientation_region import OrientationRegion\n",
    "from texpy.vector.neo_euler import AxAngle\n",
    "from texpy.vector import Vector3d\n",
    "from texpy import plot\n",
    "\n",
    "# Colorisation\n",
    "from skimage.color import label2rgb\n",
    "from matplotlib.colors import to_rgb, to_hex\n",
    "MPL_COLORS_RGB = [to_rgb('C{}'.format(i)) for i in range(10)]\n",
    "MPL_COLORS_HEX = [to_hex(c) for c in MPL_COLORS_RGB]\n",
    "\n",
    "# Animation\n",
    "import matplotlib.animation as animation\n",
    "\n",
    "# Visualisation\n",
    "from mpl_toolkits.mplot3d.art3d import Line3DCollection\n",
    "from matplotlib.patches import Circle\n",
    "from matplotlib.lines import Line2D\n",
    "from matplotlib.collections import CircleCollection\n",
    "from scipy.spatial import ConvexHull\n",
    "from mpl_toolkits.mplot3d.art3d import Poly3DCollection\n",
    "\n",
    "plt.rc('font', size=6)"
   ]
  },
  {
   "cell_type": "markdown",
   "metadata": {},
   "source": [
    "# Neo-Euler orientations"
   ]
  },
  {
   "cell_type": "code",
   "execution_count": 2,
   "metadata": {},
   "outputs": [
    {
     "name": "stdout",
     "output_type": "stream",
     "text": [
      "Labels: [-1  0  1  2  3  4  5  6]\n"
     ]
    }
   ],
   "source": [
    "# Load data from CTF file\n",
    "dat = np.loadtxt('data/Ti_orientations.ctf', skiprows=1)[:, :3]\n",
    "ori = Orientation.from_euler(np.radians(dat)).reshape(381, 507)[-100:, :200]\n",
    "\n",
    "# Compute distance matrix\n",
    "D = 2 * np.arccos(ori.dot_outer(ori).data)\n",
    "\n",
    "# Get main clusters\n",
    "dbscan = DBSCAN(0.05, 50, metric='precomputed').fit(D.reshape(ori.size, ori.size))\n",
    "labels = dbscan.labels_.reshape(ori.shape)\n",
    "print('Labels:', np.unique(labels))"
   ]
  },
  {
   "cell_type": "code",
   "execution_count": 3,
   "metadata": {},
   "outputs": [],
   "source": [
    "cluster_means = Orientation.stack([ori[labels == label].mean() for label in np.unique(labels)[1:]]).flatten()\n",
    "cluster_means_axangle = AxAngle.from_rotation(cluster_means)\n",
    "cluster_means_axangle_tuples = [tuple(cm) for cm in cluster_means_axangle.data]"
   ]
  },
  {
   "cell_type": "code",
   "execution_count": 5,
   "metadata": {},
   "outputs": [
    {
     "data": {
      "text/plain": [
       "AxAngle (7,)\n",
       "[[-0.498   1.566  -0.4394]\n",
       " [-0.2578  1.3131 -2.1017]\n",
       " [-2.049   0.6918  0.1287]\n",
       " [-0.0563  1.2886 -2.2247]\n",
       " [ 0.3643  1.6187 -1.2893]\n",
       " [ 0.0028  1.9017 -0.7395]\n",
       " [-1.0407  1.8284 -1.3949]]"
      ]
     },
     "execution_count": 5,
     "metadata": {},
     "output_type": "execute_result"
    }
   ],
   "source": [
    "cluster_means_axangle"
   ]
  },
  {
   "cell_type": "code",
   "execution_count": 6,
   "metadata": {},
   "outputs": [],
   "source": [
    "label_mask = np.logical_or(labels==0, labels==1)\n",
    "labels_01 = np.zeros_like(labels, dtype='int') - 1\n",
    "labels_01[label_mask] = labels[label_mask]\n",
    "edgecolors = label2rgb(labels_01, colors=MPL_COLORS_RGB)\n",
    "s = np.zeros_like(labels)\n",
    "s[label_mask] = 15"
   ]
  },
  {
   "cell_type": "code",
   "execution_count": 7,
   "metadata": {},
   "outputs": [],
   "source": [
    "vectors = cluster_means_axangle[:2]\n",
    "delta = vectors[1] - vectors[0]"
   ]
  },
  {
   "cell_type": "code",
   "execution_count": 8,
   "metadata": {},
   "outputs": [
    {
     "data": {
      "image/png": "[encoded data removed]",
      "text/plain": [
       "<Figure size 125.433x144 with 1 Axes>"
      ]
     },
     "metadata": {},
     "output_type": "display_data"
    }
   ],
   "source": [
    "_, sample = ori.sample(5000, return_mask=True)\n",
    "\n",
    "\n",
    "# Plot main figure\n",
    "fig = plt.figure(figsize=(3.484252 * 0.5, 4 * 0.5))\n",
    "# gs = plt.GridSpec(1, 1, fig, left=0, right=1)\n",
    "\n",
    "ax = fig.add_subplot(111, projection='axangle', aspect='equal')\n",
    "ax.scatter(ori[sample], facecolors=edgecolors[sample], edgecolor='none', linewidth=0, alpha=0.333, s=s[sample], cmap='viridis')\n",
    "collection = Line3DCollection(\n",
    "    [((cm[0], cm[1], -3), cm) for cm in cluster_means_axangle_tuples[:2]], \n",
    "    color=['C0', 'C1'], linewidths=0.5,\n",
    ")\n",
    "vector_lines = Line3DCollection(\n",
    "    [\n",
    "        ((0, 0, 0), vectors.data[0]),\n",
    "        ((0, 0, 0), vectors.data[1]),\n",
    "        (vectors.data[0], vectors.data[0] + delta.data[0]),\n",
    "    ],\n",
    "    color=['C0', 'C1', 'C2'],\n",
    "    linestyles=['solid', 'solid', 'dashed'],\n",
    "    linewidths=1,\n",
    ")\n",
    "\n",
    "ax.add_collection3d(collection)\n",
    "ax.add_collection3d(vector_lines)\n",
    "\n",
    "ax.set_xticks([-2, -1, 0, 1])\n",
    "ax.set_yticks([0, 1, 2, 3])\n",
    "ax.set_zticks([-3, -2, -1, 0])\n",
    "ax.tick_params(pad=-3)\n",
    "\n",
    "\n",
    "ax.set_xlim(-2, 1)\n",
    "ax.set_ylim(0, 3)\n",
    "ax.set_zlim(-3, 0)\n",
    "ax.view_init(25, 45)\n",
    "\n",
    "# ax.grid(False)\n",
    "ax.xaxis.set_pane_color((1, 1, 1))\n",
    "ax.yaxis.set_pane_color((1, 1, 1))\n",
    "ax.zaxis.set_pane_color((1, 1, 1))\n",
    "\n",
    "# ax.text3D(-.5, 0, 0, 'Origin (identity)', zdir='x')\n",
    "\n",
    "# The fix\n",
    "for spine in ax.spines.values():\n",
    "    spine.set_visible(False)\n",
    "\n",
    "fig.tight_layout()\n",
    "fig.savefig('./axangles-data.png', dpi=1200, transparent=True)"
   ]
  },
  {
   "cell_type": "code",
   "execution_count": 9,
   "metadata": {},
   "outputs": [
    {
     "data": {
      "text/plain": [
       "['#1f77b4',\n",
       " '#ff7f0e',\n",
       " '#2ca02c',\n",
       " '#d62728',\n",
       " '#9467bd',\n",
       " '#8c564b',\n",
       " '#e377c2',\n",
       " '#7f7f7f',\n",
       " '#bcbd22',\n",
       " '#17becf']"
      ]
     },
     "execution_count": 9,
     "metadata": {},
     "output_type": "execute_result"
    }
   ],
   "source": [
    "MPL_COLORS_HEX"
   ]
  },
  {
   "cell_type": "code",
   "execution_count": 10,
   "metadata": {},
   "outputs": [
    {
     "name": "stderr",
     "output_type": "stream",
     "text": [
      "/home/hremadmin/anaconda3/lib/python3.6/site-packages/matplotlib/figure.py:457: UserWarning: matplotlib is currently using a non-GUI backend, so cannot show the figure\n",
      "  \"matplotlib is currently using a non-GUI backend, \"\n"
     ]
    }
   ],
   "source": [
    "# Generate animation\n",
    "def animate(angle):\n",
    "    ax.view_init(15, angle)\n",
    "    plt.draw()\n",
    "ani = animation.FuncAnimation(fig, animate, np.linspace(75, 360+74, 720), interval=25)\n",
    "fig.show()"
   ]
  },
  {
   "cell_type": "code",
   "execution_count": 11,
   "metadata": {},
   "outputs": [
    {
     "ename": "KeyboardInterrupt",
     "evalue": "",
     "output_type": "error",
     "traceback": [
      "\u001b[0;31m---------------------------------------------------------------------------\u001b[0m",
      "\u001b[0;31mKeyboardInterrupt\u001b[0m                         Traceback (most recent call last)",
      "\u001b[0;32m<ipython-input-11-5d41afdeae01>\u001b[0m in \u001b[0;36m<module>\u001b[0;34m()\u001b[0m\n\u001b[1;32m      4\u001b[0m \u001b[0mwriter\u001b[0m \u001b[0;34m=\u001b[0m \u001b[0mWriter\u001b[0m\u001b[0;34m(\u001b[0m\u001b[0mfps\u001b[0m\u001b[0;34m=\u001b[0m\u001b[0;36m30\u001b[0m\u001b[0;34m,\u001b[0m \u001b[0mmetadata\u001b[0m\u001b[0;34m=\u001b[0m\u001b[0mdict\u001b[0m\u001b[0;34m(\u001b[0m\u001b[0martist\u001b[0m\u001b[0;34m=\u001b[0m\u001b[0;34m'bm424@cam.ac.uk'\u001b[0m\u001b[0;34m)\u001b[0m\u001b[0;34m,\u001b[0m \u001b[0mbitrate\u001b[0m\u001b[0;34m=\u001b[0m\u001b[0;36m1800\u001b[0m\u001b[0;34m)\u001b[0m\u001b[0;34m\u001b[0m\u001b[0m\n\u001b[1;32m      5\u001b[0m \u001b[0;34m\u001b[0m\u001b[0m\n\u001b[0;32m----> 6\u001b[0;31m \u001b[0mani\u001b[0m\u001b[0;34m.\u001b[0m\u001b[0msave\u001b[0m\u001b[0;34m(\u001b[0m\u001b[0;34m'Ti-orientations.mp4'\u001b[0m\u001b[0;34m,\u001b[0m \u001b[0mwriter\u001b[0m\u001b[0;34m=\u001b[0m\u001b[0mwriter\u001b[0m\u001b[0;34m,\u001b[0m \u001b[0mdpi\u001b[0m\u001b[0;34m=\u001b[0m\u001b[0;36m300\u001b[0m\u001b[0;34m)\u001b[0m\u001b[0;34m\u001b[0m\u001b[0m\n\u001b[0m",
      "\u001b[0;32m~/anaconda3/lib/python3.6/site-packages/matplotlib/animation.py\u001b[0m in \u001b[0;36msave\u001b[0;34m(self, filename, writer, fps, dpi, codec, bitrate, extra_args, metadata, extra_anim, savefig_kwargs)\u001b[0m\n\u001b[1;32m   1197\u001b[0m                     \u001b[0;32mfor\u001b[0m \u001b[0manim\u001b[0m\u001b[0;34m,\u001b[0m \u001b[0md\u001b[0m \u001b[0;32min\u001b[0m \u001b[0mzip\u001b[0m\u001b[0;34m(\u001b[0m\u001b[0mall_anim\u001b[0m\u001b[0;34m,\u001b[0m \u001b[0mdata\u001b[0m\u001b[0;34m)\u001b[0m\u001b[0;34m:\u001b[0m\u001b[0;34m\u001b[0m\u001b[0m\n\u001b[1;32m   1198\u001b[0m                         \u001b[0;31m# TODO: See if turning off blit is really necessary\u001b[0m\u001b[0;34m\u001b[0m\u001b[0;34m\u001b[0m\u001b[0m\n\u001b[0;32m-> 1199\u001b[0;31m                         \u001b[0manim\u001b[0m\u001b[0;34m.\u001b[0m\u001b[0m_draw_next_frame\u001b[0m\u001b[0;34m(\u001b[0m\u001b[0md\u001b[0m\u001b[0;34m,\u001b[0m \u001b[0mblit\u001b[0m\u001b[0;34m=\u001b[0m\u001b[0;32mFalse\u001b[0m\u001b[0;34m)\u001b[0m\u001b[0;34m\u001b[0m\u001b[0m\n\u001b[0m\u001b[1;32m   1200\u001b[0m                     \u001b[0mwriter\u001b[0m\u001b[0;34m.\u001b[0m\u001b[0mgrab_frame\u001b[0m\u001b[0;34m(\u001b[0m\u001b[0;34m**\u001b[0m\u001b[0msavefig_kwargs\u001b[0m\u001b[0;34m)\u001b[0m\u001b[0;34m\u001b[0m\u001b[0m\n\u001b[1;32m   1201\u001b[0m \u001b[0;34m\u001b[0m\u001b[0m\n",
      "\u001b[0;32m~/anaconda3/lib/python3.6/site-packages/matplotlib/animation.py\u001b[0m in \u001b[0;36m_draw_next_frame\u001b[0;34m(self, framedata, blit)\u001b[0m\n\u001b[1;32m   1235\u001b[0m         \u001b[0mself\u001b[0m\u001b[0;34m.\u001b[0m\u001b[0m_pre_draw\u001b[0m\u001b[0;34m(\u001b[0m\u001b[0mframedata\u001b[0m\u001b[0;34m,\u001b[0m \u001b[0mblit\u001b[0m\u001b[0;34m)\u001b[0m\u001b[0;34m\u001b[0m\u001b[0m\n\u001b[1;32m   1236\u001b[0m         \u001b[0mself\u001b[0m\u001b[0;34m.\u001b[0m\u001b[0m_draw_frame\u001b[0m\u001b[0;34m(\u001b[0m\u001b[0mframedata\u001b[0m\u001b[0;34m)\u001b[0m\u001b[0;34m\u001b[0m\u001b[0m\n\u001b[0;32m-> 1237\u001b[0;31m         \u001b[0mself\u001b[0m\u001b[0;34m.\u001b[0m\u001b[0m_post_draw\u001b[0m\u001b[0;34m(\u001b[0m\u001b[0mframedata\u001b[0m\u001b[0;34m,\u001b[0m \u001b[0mblit\u001b[0m\u001b[0;34m)\u001b[0m\u001b[0;34m\u001b[0m\u001b[0m\n\u001b[0m\u001b[1;32m   1238\u001b[0m \u001b[0;34m\u001b[0m\u001b[0m\n\u001b[1;32m   1239\u001b[0m     \u001b[0;32mdef\u001b[0m \u001b[0m_init_draw\u001b[0m\u001b[0;34m(\u001b[0m\u001b[0mself\u001b[0m\u001b[0;34m)\u001b[0m\u001b[0;34m:\u001b[0m\u001b[0;34m\u001b[0m\u001b[0m\n",
      "\u001b[0;32m~/anaconda3/lib/python3.6/site-packages/matplotlib/animation.py\u001b[0m in \u001b[0;36m_post_draw\u001b[0;34m(self, framedata, blit)\u001b[0m\n\u001b[1;32m   1260\u001b[0m             \u001b[0mself\u001b[0m\u001b[0;34m.\u001b[0m\u001b[0m_blit_draw\u001b[0m\u001b[0;34m(\u001b[0m\u001b[0mself\u001b[0m\u001b[0;34m.\u001b[0m\u001b[0m_drawn_artists\u001b[0m\u001b[0;34m,\u001b[0m \u001b[0mself\u001b[0m\u001b[0;34m.\u001b[0m\u001b[0m_blit_cache\u001b[0m\u001b[0;34m)\u001b[0m\u001b[0;34m\u001b[0m\u001b[0m\n\u001b[1;32m   1261\u001b[0m         \u001b[0;32melse\u001b[0m\u001b[0;34m:\u001b[0m\u001b[0;34m\u001b[0m\u001b[0m\n\u001b[0;32m-> 1262\u001b[0;31m             \u001b[0mself\u001b[0m\u001b[0;34m.\u001b[0m\u001b[0m_fig\u001b[0m\u001b[0;34m.\u001b[0m\u001b[0mcanvas\u001b[0m\u001b[0;34m.\u001b[0m\u001b[0mdraw_idle\u001b[0m\u001b[0;34m(\u001b[0m\u001b[0;34m)\u001b[0m\u001b[0;34m\u001b[0m\u001b[0m\n\u001b[0m\u001b[1;32m   1263\u001b[0m \u001b[0;34m\u001b[0m\u001b[0m\n\u001b[1;32m   1264\u001b[0m     \u001b[0;31m# The rest of the code in this class is to facilitate easy blitting\u001b[0m\u001b[0;34m\u001b[0m\u001b[0;34m\u001b[0m\u001b[0m\n",
      "\u001b[0;32m~/anaconda3/lib/python3.6/site-packages/matplotlib/backend_bases.py\u001b[0m in \u001b[0;36mdraw_idle\u001b[0;34m(self, *args, **kwargs)\u001b[0m\n\u001b[1;32m   2053\u001b[0m         \u001b[0;32mif\u001b[0m \u001b[0;32mnot\u001b[0m \u001b[0mself\u001b[0m\u001b[0;34m.\u001b[0m\u001b[0m_is_idle_drawing\u001b[0m\u001b[0;34m:\u001b[0m\u001b[0;34m\u001b[0m\u001b[0m\n\u001b[1;32m   2054\u001b[0m             \u001b[0;32mwith\u001b[0m \u001b[0mself\u001b[0m\u001b[0;34m.\u001b[0m\u001b[0m_idle_draw_cntx\u001b[0m\u001b[0;34m(\u001b[0m\u001b[0;34m)\u001b[0m\u001b[0;34m:\u001b[0m\u001b[0;34m\u001b[0m\u001b[0m\n\u001b[0;32m-> 2055\u001b[0;31m                 \u001b[0mself\u001b[0m\u001b[0;34m.\u001b[0m\u001b[0mdraw\u001b[0m\u001b[0;34m(\u001b[0m\u001b[0;34m*\u001b[0m\u001b[0margs\u001b[0m\u001b[0;34m,\u001b[0m \u001b[0;34m**\u001b[0m\u001b[0mkwargs\u001b[0m\u001b[0;34m)\u001b[0m\u001b[0;34m\u001b[0m\u001b[0m\n\u001b[0m\u001b[1;32m   2056\u001b[0m \u001b[0;34m\u001b[0m\u001b[0m\n\u001b[1;32m   2057\u001b[0m     \u001b[0;32mdef\u001b[0m \u001b[0mdraw_cursor\u001b[0m\u001b[0;34m(\u001b[0m\u001b[0mself\u001b[0m\u001b[0;34m,\u001b[0m \u001b[0mevent\u001b[0m\u001b[0;34m)\u001b[0m\u001b[0;34m:\u001b[0m\u001b[0;34m\u001b[0m\u001b[0m\n",
      "\u001b[0;32m~/anaconda3/lib/python3.6/site-packages/matplotlib/backends/backend_agg.py\u001b[0m in \u001b[0;36mdraw\u001b[0;34m(self)\u001b[0m\n\u001b[1;32m    435\u001b[0m             \u001b[0;31m# if toolbar:\u001b[0m\u001b[0;34m\u001b[0m\u001b[0;34m\u001b[0m\u001b[0m\n\u001b[1;32m    436\u001b[0m             \u001b[0;31m#     toolbar.set_cursor(cursors.WAIT)\u001b[0m\u001b[0;34m\u001b[0m\u001b[0;34m\u001b[0m\u001b[0m\n\u001b[0;32m--> 437\u001b[0;31m             \u001b[0mself\u001b[0m\u001b[0;34m.\u001b[0m\u001b[0mfigure\u001b[0m\u001b[0;34m.\u001b[0m\u001b[0mdraw\u001b[0m\u001b[0;34m(\u001b[0m\u001b[0mself\u001b[0m\u001b[0;34m.\u001b[0m\u001b[0mrenderer\u001b[0m\u001b[0;34m)\u001b[0m\u001b[0;34m\u001b[0m\u001b[0m\n\u001b[0m\u001b[1;32m    438\u001b[0m             \u001b[0;31m# A GUI class may be need to update a window using this draw, so\u001b[0m\u001b[0;34m\u001b[0m\u001b[0;34m\u001b[0m\u001b[0m\n\u001b[1;32m    439\u001b[0m             \u001b[0;31m# don't forget to call the superclass.\u001b[0m\u001b[0;34m\u001b[0m\u001b[0;34m\u001b[0m\u001b[0m\n",
      "\u001b[0;32m~/anaconda3/lib/python3.6/site-packages/matplotlib/artist.py\u001b[0m in \u001b[0;36mdraw_wrapper\u001b[0;34m(artist, renderer, *args, **kwargs)\u001b[0m\n\u001b[1;32m     53\u001b[0m                 \u001b[0mrenderer\u001b[0m\u001b[0;34m.\u001b[0m\u001b[0mstart_filter\u001b[0m\u001b[0;34m(\u001b[0m\u001b[0;34m)\u001b[0m\u001b[0;34m\u001b[0m\u001b[0m\n\u001b[1;32m     54\u001b[0m \u001b[0;34m\u001b[0m\u001b[0m\n\u001b[0;32m---> 55\u001b[0;31m             \u001b[0;32mreturn\u001b[0m \u001b[0mdraw\u001b[0m\u001b[0;34m(\u001b[0m\u001b[0martist\u001b[0m\u001b[0;34m,\u001b[0m \u001b[0mrenderer\u001b[0m\u001b[0;34m,\u001b[0m \u001b[0;34m*\u001b[0m\u001b[0margs\u001b[0m\u001b[0;34m,\u001b[0m \u001b[0;34m**\u001b[0m\u001b[0mkwargs\u001b[0m\u001b[0;34m)\u001b[0m\u001b[0;34m\u001b[0m\u001b[0m\n\u001b[0m\u001b[1;32m     56\u001b[0m         \u001b[0;32mfinally\u001b[0m\u001b[0;34m:\u001b[0m\u001b[0;34m\u001b[0m\u001b[0m\n\u001b[1;32m     57\u001b[0m             \u001b[0;32mif\u001b[0m \u001b[0martist\u001b[0m\u001b[0;34m.\u001b[0m\u001b[0mget_agg_filter\u001b[0m\u001b[0;34m(\u001b[0m\u001b[0;34m)\u001b[0m \u001b[0;32mis\u001b[0m \u001b[0;32mnot\u001b[0m \u001b[0;32mNone\u001b[0m\u001b[0;34m:\u001b[0m\u001b[0;34m\u001b[0m\u001b[0m\n",
      "\u001b[0;32m~/anaconda3/lib/python3.6/site-packages/matplotlib/figure.py\u001b[0m in \u001b[0;36mdraw\u001b[0;34m(self, renderer)\u001b[0m\n\u001b[1;32m   1491\u001b[0m \u001b[0;34m\u001b[0m\u001b[0m\n\u001b[1;32m   1492\u001b[0m             mimage._draw_list_compositing_images(\n\u001b[0;32m-> 1493\u001b[0;31m                 renderer, self, artists, self.suppressComposite)\n\u001b[0m\u001b[1;32m   1494\u001b[0m \u001b[0;34m\u001b[0m\u001b[0m\n\u001b[1;32m   1495\u001b[0m             \u001b[0mrenderer\u001b[0m\u001b[0;34m.\u001b[0m\u001b[0mclose_group\u001b[0m\u001b[0;34m(\u001b[0m\u001b[0;34m'figure'\u001b[0m\u001b[0;34m)\u001b[0m\u001b[0;34m\u001b[0m\u001b[0m\n",
      "\u001b[0;32m~/anaconda3/lib/python3.6/site-packages/matplotlib/image.py\u001b[0m in \u001b[0;36m_draw_list_compositing_images\u001b[0;34m(renderer, parent, artists, suppress_composite)\u001b[0m\n\u001b[1;32m    139\u001b[0m     \u001b[0;32mif\u001b[0m \u001b[0mnot_composite\u001b[0m \u001b[0;32mor\u001b[0m \u001b[0;32mnot\u001b[0m \u001b[0mhas_images\u001b[0m\u001b[0;34m:\u001b[0m\u001b[0;34m\u001b[0m\u001b[0m\n\u001b[1;32m    140\u001b[0m         \u001b[0;32mfor\u001b[0m \u001b[0ma\u001b[0m \u001b[0;32min\u001b[0m \u001b[0martists\u001b[0m\u001b[0;34m:\u001b[0m\u001b[0;34m\u001b[0m\u001b[0m\n\u001b[0;32m--> 141\u001b[0;31m             \u001b[0ma\u001b[0m\u001b[0;34m.\u001b[0m\u001b[0mdraw\u001b[0m\u001b[0;34m(\u001b[0m\u001b[0mrenderer\u001b[0m\u001b[0;34m)\u001b[0m\u001b[0;34m\u001b[0m\u001b[0m\n\u001b[0m\u001b[1;32m    142\u001b[0m     \u001b[0;32melse\u001b[0m\u001b[0;34m:\u001b[0m\u001b[0;34m\u001b[0m\u001b[0m\n\u001b[1;32m    143\u001b[0m         \u001b[0;31m# Composite any adjacent images together\u001b[0m\u001b[0;34m\u001b[0m\u001b[0;34m\u001b[0m\u001b[0m\n",
      "\u001b[0;32m~/anaconda3/lib/python3.6/site-packages/mpl_toolkits/mplot3d/axes3d.py\u001b[0m in \u001b[0;36mdraw\u001b[0;34m(self, renderer)\u001b[0m\n\u001b[1;32m    279\u001b[0m                 sorted(self.collections,\n\u001b[1;32m    280\u001b[0m                        \u001b[0mkey\u001b[0m\u001b[0;34m=\u001b[0m\u001b[0;32mlambda\u001b[0m \u001b[0mcol\u001b[0m\u001b[0;34m:\u001b[0m \u001b[0mcol\u001b[0m\u001b[0;34m.\u001b[0m\u001b[0mdo_3d_projection\u001b[0m\u001b[0;34m(\u001b[0m\u001b[0mrenderer\u001b[0m\u001b[0;34m)\u001b[0m\u001b[0;34m,\u001b[0m\u001b[0;34m\u001b[0m\u001b[0m\n\u001b[0;32m--> 281\u001b[0;31m                        reverse=True)):\n\u001b[0m\u001b[1;32m    282\u001b[0m             \u001b[0mcol\u001b[0m\u001b[0;34m.\u001b[0m\u001b[0mzorder\u001b[0m \u001b[0;34m=\u001b[0m \u001b[0mi\u001b[0m\u001b[0;34m\u001b[0m\u001b[0m\n\u001b[1;32m    283\u001b[0m \u001b[0;34m\u001b[0m\u001b[0m\n",
      "\u001b[0;32m~/anaconda3/lib/python3.6/site-packages/mpl_toolkits/mplot3d/axes3d.py\u001b[0m in \u001b[0;36m<lambda>\u001b[0;34m(col)\u001b[0m\n\u001b[1;32m    278\u001b[0m         for i, col in enumerate(\n\u001b[1;32m    279\u001b[0m                 sorted(self.collections,\n\u001b[0;32m--> 280\u001b[0;31m                        \u001b[0mkey\u001b[0m\u001b[0;34m=\u001b[0m\u001b[0;32mlambda\u001b[0m \u001b[0mcol\u001b[0m\u001b[0;34m:\u001b[0m \u001b[0mcol\u001b[0m\u001b[0;34m.\u001b[0m\u001b[0mdo_3d_projection\u001b[0m\u001b[0;34m(\u001b[0m\u001b[0mrenderer\u001b[0m\u001b[0;34m)\u001b[0m\u001b[0;34m,\u001b[0m\u001b[0;34m\u001b[0m\u001b[0m\n\u001b[0m\u001b[1;32m    281\u001b[0m                        reverse=True)):\n\u001b[1;32m    282\u001b[0m             \u001b[0mcol\u001b[0m\u001b[0;34m.\u001b[0m\u001b[0mzorder\u001b[0m \u001b[0;34m=\u001b[0m \u001b[0mi\u001b[0m\u001b[0;34m\u001b[0m\u001b[0m\n",
      "\u001b[0;32m~/anaconda3/lib/python3.6/site-packages/mpl_toolkits/mplot3d/art3d.py\u001b[0m in \u001b[0;36mdo_3d_projection\u001b[0;34m(self, renderer)\u001b[0m\n\u001b[1;32m    460\u001b[0m         \u001b[0mself\u001b[0m\u001b[0;34m.\u001b[0m\u001b[0mset_facecolors\u001b[0m\u001b[0;34m(\u001b[0m\u001b[0mfcs\u001b[0m\u001b[0;34m)\u001b[0m\u001b[0;34m\u001b[0m\u001b[0m\n\u001b[1;32m    461\u001b[0m \u001b[0;34m\u001b[0m\u001b[0m\n\u001b[0;32m--> 462\u001b[0;31m         ecs = (zalpha(self._edgecolor3d, vzs) if self._depthshade else\n\u001b[0m\u001b[1;32m    463\u001b[0m                self._edgecolor3d)\n\u001b[1;32m    464\u001b[0m         \u001b[0mecs\u001b[0m \u001b[0;34m=\u001b[0m \u001b[0mmcolors\u001b[0m\u001b[0;34m.\u001b[0m\u001b[0mto_rgba_array\u001b[0m\u001b[0;34m(\u001b[0m\u001b[0mecs\u001b[0m\u001b[0;34m,\u001b[0m \u001b[0mself\u001b[0m\u001b[0;34m.\u001b[0m\u001b[0m_alpha\u001b[0m\u001b[0;34m)\u001b[0m\u001b[0;34m\u001b[0m\u001b[0m\n",
      "\u001b[0;32m~/anaconda3/lib/python3.6/site-packages/mpl_toolkits/mplot3d/art3d.py\u001b[0m in \u001b[0;36mzalpha\u001b[0;34m(colors, zs)\u001b[0m\n\u001b[1;32m    771\u001b[0m         \u001b[0mnorm\u001b[0m \u001b[0;34m=\u001b[0m \u001b[0mNormalize\u001b[0m\u001b[0;34m(\u001b[0m\u001b[0mmin\u001b[0m\u001b[0;34m(\u001b[0m\u001b[0mzs\u001b[0m\u001b[0;34m)\u001b[0m\u001b[0;34m,\u001b[0m \u001b[0mmax\u001b[0m\u001b[0;34m(\u001b[0m\u001b[0mzs\u001b[0m\u001b[0;34m)\u001b[0m\u001b[0;34m)\u001b[0m\u001b[0;34m\u001b[0m\u001b[0m\n\u001b[1;32m    772\u001b[0m         \u001b[0msats\u001b[0m \u001b[0;34m=\u001b[0m \u001b[0;36m1\u001b[0m \u001b[0;34m-\u001b[0m \u001b[0mnorm\u001b[0m\u001b[0;34m(\u001b[0m\u001b[0mzs\u001b[0m\u001b[0;34m)\u001b[0m \u001b[0;34m*\u001b[0m \u001b[0;36m0.7\u001b[0m\u001b[0;34m\u001b[0m\u001b[0m\n\u001b[0;32m--> 773\u001b[0;31m         \u001b[0mcolors\u001b[0m \u001b[0;34m=\u001b[0m \u001b[0;34m[\u001b[0m\u001b[0;34m(\u001b[0m\u001b[0mc\u001b[0m\u001b[0;34m[\u001b[0m\u001b[0;36m0\u001b[0m\u001b[0;34m]\u001b[0m\u001b[0;34m,\u001b[0m \u001b[0mc\u001b[0m\u001b[0;34m[\u001b[0m\u001b[0;36m1\u001b[0m\u001b[0;34m]\u001b[0m\u001b[0;34m,\u001b[0m \u001b[0mc\u001b[0m\u001b[0;34m[\u001b[0m\u001b[0;36m2\u001b[0m\u001b[0;34m]\u001b[0m\u001b[0;34m,\u001b[0m \u001b[0mc\u001b[0m\u001b[0;34m[\u001b[0m\u001b[0;36m3\u001b[0m\u001b[0;34m]\u001b[0m \u001b[0;34m*\u001b[0m \u001b[0ms\u001b[0m\u001b[0;34m)\u001b[0m \u001b[0;32mfor\u001b[0m \u001b[0mc\u001b[0m\u001b[0;34m,\u001b[0m \u001b[0ms\u001b[0m \u001b[0;32min\u001b[0m \u001b[0mzip\u001b[0m\u001b[0;34m(\u001b[0m\u001b[0mcolors\u001b[0m\u001b[0;34m,\u001b[0m \u001b[0msats\u001b[0m\u001b[0;34m)\u001b[0m\u001b[0;34m]\u001b[0m\u001b[0;34m\u001b[0m\u001b[0m\n\u001b[0m\u001b[1;32m    774\u001b[0m     \u001b[0;32mreturn\u001b[0m \u001b[0mcolors\u001b[0m\u001b[0;34m\u001b[0m\u001b[0m\n",
      "\u001b[0;32m~/anaconda3/lib/python3.6/site-packages/mpl_toolkits/mplot3d/art3d.py\u001b[0m in \u001b[0;36m<listcomp>\u001b[0;34m(.0)\u001b[0m\n\u001b[1;32m    771\u001b[0m         \u001b[0mnorm\u001b[0m \u001b[0;34m=\u001b[0m \u001b[0mNormalize\u001b[0m\u001b[0;34m(\u001b[0m\u001b[0mmin\u001b[0m\u001b[0;34m(\u001b[0m\u001b[0mzs\u001b[0m\u001b[0;34m)\u001b[0m\u001b[0;34m,\u001b[0m \u001b[0mmax\u001b[0m\u001b[0;34m(\u001b[0m\u001b[0mzs\u001b[0m\u001b[0;34m)\u001b[0m\u001b[0;34m)\u001b[0m\u001b[0;34m\u001b[0m\u001b[0m\n\u001b[1;32m    772\u001b[0m         \u001b[0msats\u001b[0m \u001b[0;34m=\u001b[0m \u001b[0;36m1\u001b[0m \u001b[0;34m-\u001b[0m \u001b[0mnorm\u001b[0m\u001b[0;34m(\u001b[0m\u001b[0mzs\u001b[0m\u001b[0;34m)\u001b[0m \u001b[0;34m*\u001b[0m \u001b[0;36m0.7\u001b[0m\u001b[0;34m\u001b[0m\u001b[0m\n\u001b[0;32m--> 773\u001b[0;31m         \u001b[0mcolors\u001b[0m \u001b[0;34m=\u001b[0m \u001b[0;34m[\u001b[0m\u001b[0;34m(\u001b[0m\u001b[0mc\u001b[0m\u001b[0;34m[\u001b[0m\u001b[0;36m0\u001b[0m\u001b[0;34m]\u001b[0m\u001b[0;34m,\u001b[0m \u001b[0mc\u001b[0m\u001b[0;34m[\u001b[0m\u001b[0;36m1\u001b[0m\u001b[0;34m]\u001b[0m\u001b[0;34m,\u001b[0m \u001b[0mc\u001b[0m\u001b[0;34m[\u001b[0m\u001b[0;36m2\u001b[0m\u001b[0;34m]\u001b[0m\u001b[0;34m,\u001b[0m \u001b[0mc\u001b[0m\u001b[0;34m[\u001b[0m\u001b[0;36m3\u001b[0m\u001b[0;34m]\u001b[0m \u001b[0;34m*\u001b[0m \u001b[0ms\u001b[0m\u001b[0;34m)\u001b[0m \u001b[0;32mfor\u001b[0m \u001b[0mc\u001b[0m\u001b[0;34m,\u001b[0m \u001b[0ms\u001b[0m \u001b[0;32min\u001b[0m \u001b[0mzip\u001b[0m\u001b[0;34m(\u001b[0m\u001b[0mcolors\u001b[0m\u001b[0;34m,\u001b[0m \u001b[0msats\u001b[0m\u001b[0;34m)\u001b[0m\u001b[0;34m]\u001b[0m\u001b[0;34m\u001b[0m\u001b[0m\n\u001b[0m\u001b[1;32m    774\u001b[0m     \u001b[0;32mreturn\u001b[0m \u001b[0mcolors\u001b[0m\u001b[0;34m\u001b[0m\u001b[0m\n",
      "\u001b[0;31mKeyboardInterrupt\u001b[0m: "
     ]
    },
    {
     "data": {
      "text/plain": [
       "<Figure size 432x288 with 0 Axes>"
      ]
     },
     "metadata": {},
     "output_type": "display_data"
    }
   ],
   "source": [
    "# Save animation\n",
    "Writer = animation.writers['ffmpeg']\n",
    "\n",
    "writer = Writer(fps=30, metadata=dict(artist='bm424@cam.ac.uk'), bitrate=1800)\n",
    "\n",
    "ani.save('Ti-orientations.mp4', writer=writer, dpi=300)"
   ]
  },
  {
   "cell_type": "markdown",
   "metadata": {},
   "source": [
    "# DBSCAN"
   ]
  },
  {
   "cell_type": "markdown",
   "metadata": {},
   "source": [
    "for interactive poster only"
   ]
  },
  {
   "cell_type": "code",
   "execution_count": null,
   "metadata": {},
   "outputs": [],
   "source": [
    "# Prepare data\n",
    "N = 40\n",
    "std = 0.8\n",
    "dat, labels = make_blobs(N, centers=[(-2, 0), (2, 0)], cluster_std=std)"
   ]
  },
  {
   "cell_type": "code",
   "execution_count": null,
   "metadata": {},
   "outputs": [],
   "source": [
    "# Calculate clusters and labels\n",
    "dbscan = DBSCAN(eps=0.6, min_samples=3).fit(dat)\n",
    "print(np.unique(dbscan.labels_))\n",
    "c = label2rgb(dbscan.labels_, colors=[to_rgb('C0'), to_rgb('C1')])"
   ]
  },
  {
   "cell_type": "code",
   "execution_count": null,
   "metadata": {},
   "outputs": [],
   "source": [
    "# Separate core and border\n",
    "core_mask = np.zeros(N, dtype=bool)\n",
    "core_mask[dbscan.core_sample_indices_] = True\n"
   ]
  },
  {
   "cell_type": "code",
   "execution_count": null,
   "metadata": {},
   "outputs": [],
   "source": [
    "# Plot image\n",
    "ax = plt.figure(figsize=(18, 9)).add_subplot(111, aspect='equal')\n",
    "ax.scatter(dat[core_mask, 0], dat[core_mask, 1], c=c[core_mask], edgecolor='none', s=400)\n",
    "ax.scatter(dat[~core_mask, 0], dat[~core_mask, 1], c=c[~core_mask], edgecolor='none', s=50)\n",
    "\n",
    "circles = [Circle((x, y), radius=0.8, color='lightgray', alpha=0.1) for x, y in dat]\n",
    "for circle in circles:\n",
    "    ax.add_patch(circle)\n",
    "    \n",
    "ax.set_xlim(-6, 6)\n",
    "ax.set_ylim(-3, 3)\n",
    "\n",
    "ax.set_axis_off()\n",
    "plt.tight_layout()\n",
    "plt.savefig('DBSCAN-demo.png', dpi=300, transparent=True)"
   ]
  },
  {
   "cell_type": "markdown",
   "metadata": {},
   "source": [
    "# Clustered Ti Orientations"
   ]
  },
  {
   "cell_type": "code",
   "execution_count": 13,
   "metadata": {},
   "outputs": [],
   "source": [
    "# Load data from CTF file\n",
    "dat = np.loadtxt('./data/Ti_orientations.ctf', skiprows=1)[:, :3]"
   ]
  },
  {
   "cell_type": "code",
   "execution_count": 14,
   "metadata": {},
   "outputs": [
    {
     "name": "stdout",
     "output_type": "stream",
     "text": [
      "Number of orientations: 20000\n"
     ]
    }
   ],
   "source": [
    "ori = Orientation.from_euler(np.radians(dat)).reshape(381, 507)[-100:, :200]\n",
    "fundamental_region = OrientationRegion.from_symmetry(D6)\n",
    "\n",
    "print('Number of orientations:', ori.size)"
   ]
  },
  {
   "cell_type": "markdown",
   "metadata": {},
   "source": [
    "## Naive approach, no symmetry"
   ]
  },
  {
   "cell_type": "markdown",
   "metadata": {},
   "source": [
    "Not really needed, for interest as contrast"
   ]
  },
  {
   "cell_type": "code",
   "execution_count": null,
   "metadata": {},
   "outputs": [],
   "source": [
    "# Compute distance matrix\n",
    "D = 2 * np.arccos(ori.dot_outer(ori).data)"
   ]
  },
  {
   "cell_type": "markdown",
   "metadata": {},
   "source": [
    "## Correct approach, with symmetry"
   ]
  },
  {
   "cell_type": "markdown",
   "metadata": {},
   "source": [
    "**Option 1: quick, will wreck your RAM**\n",
    "\n",
    "Computes every possibility in a single tensor, then minimises."
   ]
  },
  {
   "cell_type": "code",
   "execution_count": null,
   "metadata": {},
   "outputs": [],
   "source": [
    "# Compute misorientations\n",
    "confirm = input('Are you sure? (y/n) ')\n",
    "if confirm == 'y':\n",
    "    misori_equiv = D6.outer(~ori).outer(ori).outer(D6)\n",
    "    D = misori_equiv.angle.data.min(axis=(0, 2))"
   ]
  },
  {
   "cell_type": "markdown",
   "metadata": {},
   "source": [
    "**Option 2: medium-speed, should be OK for RAM**\n",
    "\n",
    "Precomputes one set of equivalent orientations."
   ]
  },
  {
   "cell_type": "code",
   "execution_count": null,
   "metadata": {},
   "outputs": [],
   "source": [
    "D = np.zeros(ori.shape + ori.shape)\n",
    "D.fill(np.infty)\n",
    "\n",
    "OS2 = ori.outer(D6)\n",
    "\n",
    "for i in tqdm_notebook(range(ori.size)):\n",
    "    idx = np.unravel_index(i, ori.shape)\n",
    "    o_1 = ori[idx]\n",
    "    misori = D6.outer(~o_1).outer(OS2)\n",
    "    d = misori.angle.data.min(axis=(0, -1))\n",
    "    D[idx[0], idx[1], ...] = np.minimum(D[idx[0], idx[1], ...], d)"
   ]
  },
  {
   "cell_type": "markdown",
   "metadata": {},
   "source": [
    "**Option 3: slow, safe for RAM**\n",
    "\n",
    "Iterates through every pair of orientations."
   ]
  },
  {
   "cell_type": "code",
   "execution_count": null,
   "metadata": {},
   "outputs": [],
   "source": [
    "from itertools import combinations_with_replacement as icombinations\n",
    "D = np.empty(ori.shape + ori.shape)\n",
    "\n",
    "for i, j in tqdm_notebook(list(icombinations(range(ori.size), 2))):\n",
    "    idx_1, idx_2 = np.unravel_index(i, ori.shape), np.unravel_index(i, ori.shape)\n",
    "    o_1, o_2 = ori[idx_1], ori[idx_2]\n",
    "    misori = D6.outer(~o_1).outer(o_2).outer(D6)\n",
    "    d = misori.angle.data.min(axis=(0, 3))\n",
    "    D[idx_1[0], idx_1[1], idx_2[0], idx_2[1]] = d\n",
    "    D[idx_2[0], idx_2[1], idx_1[0], idx_1[1]] = d"
   ]
  },
  {
   "cell_type": "markdown",
   "metadata": {},
   "source": [
    "**Here's one I made earlier** (won't save to dropbox, lmk if you want it)"
   ]
  },
  {
   "cell_type": "code",
   "execution_count": 15,
   "metadata": {},
   "outputs": [
    {
     "ename": "FileNotFoundError",
     "evalue": "[Errno 2] No such file or directory: './ori-distance((100, 200)).npy'",
     "output_type": "error",
     "traceback": [
      "\u001b[0;31m---------------------------------------------------------------------------\u001b[0m",
      "\u001b[0;31mFileNotFoundError\u001b[0m                         Traceback (most recent call last)",
      "\u001b[0;32m<ipython-input-15-9ea42300b1d0>\u001b[0m in \u001b[0;36m<module>\u001b[0;34m()\u001b[0m\n\u001b[0;32m----> 1\u001b[0;31m \u001b[0mD\u001b[0m \u001b[0;34m=\u001b[0m \u001b[0mnp\u001b[0m\u001b[0;34m.\u001b[0m\u001b[0mload\u001b[0m\u001b[0;34m(\u001b[0m\u001b[0;34m'./ori-distance((100, 200)).npy'\u001b[0m\u001b[0;34m)\u001b[0m\u001b[0;34m\u001b[0m\u001b[0m\n\u001b[0m",
      "\u001b[0;32m~/anaconda3/lib/python3.6/site-packages/numpy/lib/npyio.py\u001b[0m in \u001b[0;36mload\u001b[0;34m(file, mmap_mode, allow_pickle, fix_imports, encoding)\u001b[0m\n\u001b[1;32m    370\u001b[0m     \u001b[0mown_fid\u001b[0m \u001b[0;34m=\u001b[0m \u001b[0;32mFalse\u001b[0m\u001b[0;34m\u001b[0m\u001b[0m\n\u001b[1;32m    371\u001b[0m     \u001b[0;32mif\u001b[0m \u001b[0misinstance\u001b[0m\u001b[0;34m(\u001b[0m\u001b[0mfile\u001b[0m\u001b[0;34m,\u001b[0m \u001b[0mbasestring\u001b[0m\u001b[0;34m)\u001b[0m\u001b[0;34m:\u001b[0m\u001b[0;34m\u001b[0m\u001b[0m\n\u001b[0;32m--> 372\u001b[0;31m         \u001b[0mfid\u001b[0m \u001b[0;34m=\u001b[0m \u001b[0mopen\u001b[0m\u001b[0;34m(\u001b[0m\u001b[0mfile\u001b[0m\u001b[0;34m,\u001b[0m \u001b[0;34m\"rb\"\u001b[0m\u001b[0;34m)\u001b[0m\u001b[0;34m\u001b[0m\u001b[0m\n\u001b[0m\u001b[1;32m    373\u001b[0m         \u001b[0mown_fid\u001b[0m \u001b[0;34m=\u001b[0m \u001b[0;32mTrue\u001b[0m\u001b[0;34m\u001b[0m\u001b[0m\n\u001b[1;32m    374\u001b[0m     \u001b[0;32melif\u001b[0m \u001b[0mis_pathlib_path\u001b[0m\u001b[0;34m(\u001b[0m\u001b[0mfile\u001b[0m\u001b[0;34m)\u001b[0m\u001b[0;34m:\u001b[0m\u001b[0;34m\u001b[0m\u001b[0m\n",
      "\u001b[0;31mFileNotFoundError\u001b[0m: [Errno 2] No such file or directory: './ori-distance((100, 200)).npy'"
     ]
    }
   ],
   "source": [
    "D = np.load('./ori-distance((100, 200)).npy')"
   ]
  },
  {
   "cell_type": "markdown",
   "metadata": {},
   "source": [
    "## Clustering"
   ]
  },
  {
   "cell_type": "code",
   "execution_count": null,
   "metadata": {},
   "outputs": [],
   "source": [
    "# Get main clusters\n",
    "dbscan = DBSCAN(0.05, 40, metric='precomputed').fit(D.reshape(ori.size, ori.size))\n",
    "print('Labels:', np.unique(dbscan.labels_))\n",
    "labels = dbscan.labels_.reshape(ori.shape)\n",
    "n_clusters = len(np.unique(dbscan.labels_)) - 1\n",
    "print('Number of clusters:', n_clusters)"
   ]
  },
  {
   "cell_type": "code",
   "execution_count": null,
   "metadata": {},
   "outputs": [],
   "source": [
    "cluster_means = Orientation.stack([ori[labels == label].mean() for label in np.unique(dbscan.labels_)[1:]]).flatten()\n",
    "cluster_means = cluster_means.set_symmetry(D6)"
   ]
  },
  {
   "cell_type": "code",
   "execution_count": null,
   "metadata": {},
   "outputs": [],
   "source": [
    "cluster_means.axis"
   ]
  },
  {
   "cell_type": "code",
   "execution_count": null,
   "metadata": {
    "scrolled": true
   },
   "outputs": [],
   "source": [
    "# Recenter based on the matrix cluster and recompute means\n",
    "ori_recentered = (~cluster_means[0]) * ori\n",
    "ori_recentered = ori_recentered.set_symmetry(D6)\n",
    "cluster_means_recentered = Orientation.stack([ori_recentered[labels == label].mean() for label in np.unique(dbscan.labels_)[1:]]).flatten()\n",
    "cluster_means_axangle = AxAngle.from_rotation(cluster_means_recentered)"
   ]
  },
  {
   "cell_type": "code",
   "execution_count": null,
   "metadata": {},
   "outputs": [],
   "source": [
    "cluster_means_recentered.axis"
   ]
  },
  {
   "cell_type": "markdown",
   "metadata": {},
   "source": [
    "## Plotting"
   ]
  },
  {
   "cell_type": "code",
   "execution_count": null,
   "metadata": {},
   "outputs": [],
   "source": [
    "%matplotlib qt5\n",
    "fig = plt.figure(figsize=(3.484252, 6.5))\n",
    "ax_ori = fig.add_subplot(gridspec[0], projection='axangle', proj_type='ortho')\n",
    "ax_ori.plot_wireframe(fundamental_region, color='black', linewidth=0.5, alpha=0.1, rcount=181, ccount=361)"
   ]
  },
  {
   "cell_type": "code",
   "execution_count": null,
   "metadata": {},
   "outputs": [],
   "source": [
    "# get label colors\n",
    "colors = [to_rgb('C{}'.format(i)) for i in range(10)]\n",
    "labels_rgb = label2rgb(labels, colors=colors)\n",
    "\n",
    "# Create map and lines pointing to cluster means\n",
    "mapping = labels_rgb\n",
    "collection = Line3DCollection([((0, 0, 0), tuple(cm)) for cm in cluster_means_axangle.data], colors=colors)"
   ]
  },
  {
   "cell_type": "code",
   "execution_count": null,
   "metadata": {},
   "outputs": [],
   "source": [
    "# Main plot\n",
    "fig = plt.figure(figsize=(3.484252, 3.484252))\n",
    "gridspec = plt.GridSpec(1, 1, left=0, right=1, bottom=0, top=1, hspace=0.05)\n",
    "\n",
    "ax_ori = fig.add_subplot(gridspec[0], projection='axangle', proj_type='ortho')\n",
    "ax_ori.scatter(ori_recentered, c=labels_rgb.reshape(-1, 3), s=1)\n",
    "ax_ori.plot_wireframe(fundamental_region, color='black', linewidth=0.5, alpha=0.1, rcount=181, ccount=361)\n",
    "ax_ori.add_collection3d(collection)\n",
    "\n",
    "ax_ori.set_axis_off()\n",
    "ax_ori.set_xlim(-1, 1)\n",
    "ax_ori.set_ylim(-1, 1)\n",
    "ax_ori.set_zlim(-1, 1)\n",
    "ax_ori.view_init(90, -30)\n",
    "\n",
    "# Legend\n",
    "handles = [\n",
    "    Line2D(\n",
    "        [0], [0], \n",
    "        marker='o', color='none', \n",
    "        label=i+1, \n",
    "        markerfacecolor=color, markersize=5\n",
    "    ) for i, color in enumerate(colors[:n_clusters])\n",
    "]\n",
    "\n",
    "ax_ori.legend(handles=handles, loc='lower right', ncol=2, numpoints=1, labelspacing=0.15, columnspacing=0.15, handletextpad=0.05)\n",
    "fig.savefig('./clustered-orientations-top-data.png', transparent=True, dpi=600)"
   ]
  },
  {
   "cell_type": "code",
   "execution_count": null,
   "metadata": {},
   "outputs": [],
   "source": [
    "fig = plt.figure(figsize=(3.484252 * 2, 1.5 * 2))\n",
    "gridspec = plt.GridSpec(1, 1, left=0, right=1, bottom=0, top=1, hspace=0.05)\n",
    "\n",
    "ax_ori = fig.add_subplot(gridspec[0], projection='axangle', proj_type='ortho', aspect='equal')\n",
    "ax_ori.scatter(ori_recentered, c=labels_rgb.reshape(-1, 3), s=1)\n",
    "ax_ori.plot_wireframe(fundamental_region, color='black', linewidth=0.5, alpha=0.1, rcount=181, ccount=361)\n",
    "# ax_ori.add_collection3d(collection)\n",
    "\n",
    "ax_ori.set_axis_off()\n",
    "ax_ori.set_xlim(-1, 1)\n",
    "ax_ori.set_ylim(-1, 1)\n",
    "ax_ori.set_zlim(-1, 1)\n",
    "ax_ori.view_init(0, -30)\n",
    "fig.savefig('./clustered-orientations-side-data.png', transparent=True, dpi=900)"
   ]
  },
  {
   "cell_type": "code",
   "execution_count": null,
   "metadata": {},
   "outputs": [],
   "source": [
    "ax_mapping = fig.add_subplot(gridspec[2])\n",
    "ax_mapping.imshow(mapping)\n",
    "\n",
    "ax_mapping.set_xticks([])\n",
    "ax_mapping.set_yticks([])\n",
    "\n",
    "fig.savefig('./clustered-orientations-data.png', transparent=True, dpi=600)"
   ]
  },
  {
   "cell_type": "markdown",
   "metadata": {},
   "source": [
    "# Symmetry Demonstration"
   ]
  },
  {
   "cell_type": "markdown",
   "metadata": {},
   "source": [
    "### No symmetry (random points)"
   ]
  },
  {
   "cell_type": "code",
   "execution_count": null,
   "metadata": {},
   "outputs": [],
   "source": [
    "# Set up non-symmetric object\n",
    "np.random.seed(10)\n",
    "dat = np.random.random((8, 3))\n",
    "dat -= np.mean(dat)\n",
    "verts = Vector3d(dat)\n",
    "rot = Rotation.identity()\n",
    "fr = OrientationRegion.from_symmetry(C1)\n",
    "\n",
    "# Initial plot object\n",
    "hull = ConvexHull(verts.data)\n",
    "collection = Poly3DCollection([verts.data[s] for s in hull.simplices], edgecolors='black', facecolors=(0.122, 0.467, 0.706, 0.5))\n",
    "fig = plt.figure(figsize=(12, 7))\n",
    "ax1 = fig.add_subplot(121, projection='3d', proj_type = 'ortho', aspect='equal')\n",
    "ax1.plot((0, 0), (0, 0), (-5, 5), 'k-')\n",
    "ax1.add_collection3d(collection)\n",
    "ax1.set_xlim(-0.5, 0.5)\n",
    "ax1.set_ylim(-0.5, 0.5)\n",
    "ax1.set_zlim(-0.5, 0.5)\n",
    "ax1.set_xticks([])\n",
    "ax1.set_yticks([])\n",
    "ax1.set_zticks([])\n",
    "ax1.set_axis_off()\n",
    "ax1.view_init(15, 0)\n",
    "\n",
    "# Initial plot axangle\n",
    "ax2 = fig.add_subplot(122, projection='axangle', aspect='equal')\n",
    "scatter = ax2.scatter(rot, s=200, c='C0')\n",
    "ax2.plot_wireframe(fr, color='lightgray', linewidth=0.5, alpha=0.75)\n",
    "ax2.set_xticks([])\n",
    "ax2.set_yticks([])\n",
    "ax2.set_zticks([])\n",
    "ax2.set_axis_off()\n",
    "ax2.set_xlim(-2, 2)\n",
    "ax2.set_ylim(-2, 2)\n",
    "ax2.set_zlim(-2, 2)\n",
    "\n",
    "plt.tight_layout()\n",
    "\n",
    "# Animate\n",
    "def animate(angle):\n",
    "    rot = Rotation.from_neo_euler(AxAngle.from_axes_angles((0, 0, 1), angle))\n",
    "    verts_new = rot * verts\n",
    "    scatter._offsets3d = tuple(AxAngle.from_rotation(rot).xyz)\n",
    "    collection.set_verts([verts_new.data[s] for s in hull.simplices])\n",
    "ani = animation.FuncAnimation(fig, animate, np.radians(np.linspace(0, 359, 720)), interval=25)\n",
    "fig.show()"
   ]
  },
  {
   "cell_type": "code",
   "execution_count": null,
   "metadata": {},
   "outputs": [],
   "source": [
    "# Save animation\n",
    "Writer = animation.writers['ffmpeg']\n",
    "writer = Writer(fps=30, metadata=dict(artist='Me'), bitrate=1800)\n",
    "ani.save('symmetry-demo-C1.mp4', writer=writer, dpi=300)"
   ]
  },
  {
   "cell_type": "markdown",
   "metadata": {},
   "source": [
    "### Cubic symmetry"
   ]
  },
  {
   "cell_type": "code",
   "execution_count": null,
   "metadata": {},
   "outputs": [],
   "source": [
    "dat = np.array([\n",
    "    [0, 0, 0],\n",
    "    [1, 0, 0],\n",
    "    [1, 1, 0],\n",
    "    [0, 1, 0],\n",
    "    [0, 0, 1],\n",
    "    [1, 0, 1],\n",
    "    [1, 1, 1],\n",
    "    [0, 1, 1],\n",
    "], dtype=float)\n",
    "faces = np.array([\n",
    "    [0, 1, 2, 3],\n",
    "    [0, 1, 5, 4],\n",
    "    [0, 3, 7, 4],\n",
    "    [4, 5, 6, 7],\n",
    "    [1, 2, 6, 5],\n",
    "    [2, 3, 7, 6],\n",
    "])\n",
    "\n",
    "dat -= np.mean(dat)\n",
    "verts = Vector3d(dat)\n",
    "rot = Rotation.identity()\n",
    "fr_0 = OrientationRegion.from_symmetry(C1)\n",
    "fr = OrientationRegion.from_symmetry(Oh)\n",
    "\n",
    "collection = Poly3DCollection([verts.data[f] for f in faces], edgecolors='black', facecolors=(1., 0.498, 0.055, 0.5))\n",
    "\n",
    "\n",
    "fig = plt.figure(figsize=(12, 7))\n",
    "ax1 = fig.add_subplot(121, projection='3d', proj_type='ortho', aspect='equal')\n",
    "ax1.plot((0, 0), (0, 0), (-5, 5), 'k-')\n",
    "ax1.add_collection3d(collection)\n",
    "ax1.set_xlim(-0.5, 0.5)\n",
    "ax1.set_ylim(-0.5, 0.5)\n",
    "ax1.set_zlim(-0.5, 0.5)\n",
    "ax1.set_xticks([])\n",
    "ax1.set_yticks([])\n",
    "ax1.set_zticks([])\n",
    "ax1.set_axis_off()\n",
    "ax1.view_init(15, 0)\n",
    "\n",
    "\n",
    "ax2 = fig.add_subplot(122, projection='axangle', aspect='equal')\n",
    "scatter_0 = ax2.scatter(rot, s=200, c='C0')\n",
    "scatter = ax2.scatter(rot, s=200, c='C1')\n",
    "ax2.plot_wireframe(fr_0, color='lightgray', linewidth=0.5, alpha=0.5)\n",
    "ax2.plot_wireframe(fr, color='lightgray', linewidth=0.5, alpha=0.5)\n",
    "ax2.set_xticks([])\n",
    "ax2.set_yticks([])\n",
    "ax2.set_zticks([])\n",
    "ax2.set_axis_off()\n",
    "ax2.set_xlim(-2, 2)\n",
    "ax2.set_ylim(-2, 2)\n",
    "ax2.set_zlim(-2, 2)\n",
    "\n",
    "plt.tight_layout()\n",
    "\n",
    "def animate(angle):\n",
    "    rot_0 = Orientation.from_neo_euler(AxAngle.from_axes_angles((0, 0, 1), angle))\n",
    "    rot = rot_0.set_symmetry(Oh)\n",
    "    verts_new = rot_0 * verts\n",
    "    scatter_0._offsets3d = tuple(AxAngle.from_rotation(rot_0).xyz)\n",
    "    scatter._offsets3d = tuple(AxAngle.from_rotation(rot).xyz)\n",
    "    collection.set_verts([verts_new.data[f] for f in faces])\n",
    "ani = animation.FuncAnimation(fig, animate, np.radians(np.linspace(0, 359.5, 720)), interval=200)\n",
    "fig.show()"
   ]
  },
  {
   "cell_type": "code",
   "execution_count": null,
   "metadata": {},
   "outputs": [],
   "source": [
    "# Save animation\n",
    "Writer = animation.writers['ffmpeg']\n",
    "writer = Writer(fps=30, metadata=dict(artist='Me'), bitrate=1800)\n",
    "ani.save('symmetry-demo-Oh.mp4', writer=writer, dpi=300)"
   ]
  },
  {
   "cell_type": "markdown",
   "metadata": {},
   "source": [
    "# Clustering across fundamental region boundaries"
   ]
  },
  {
   "cell_type": "code",
   "execution_count": null,
   "metadata": {},
   "outputs": [],
   "source": [
    "# Set up data\n",
    "d1 = Orientation.random_vonmises(50, alpha=50)\n",
    "d2_0 = Rotation.from_neo_euler(AxAngle.from_axes_angles((1, 0, 0), np.pi/4))\n",
    "d2 = Orientation.random_vonmises(50, alpha=50, reference=d2_0)\n",
    "d3_0 = Rotation.from_neo_euler(AxAngle.from_axes_angles((1, 1, 0), np.pi/3))\n",
    "d3 = Orientation.random_vonmises(50, alpha=50, reference=d3_0)\n",
    "dat = Orientation.stack([d1, d2, d3]).flatten().set_symmetry(Oh)\n",
    "\n",
    "fr = OrientationRegion.from_symmetry(Oh)\n",
    "\n",
    "# Naive cluster\n",
    "D = (~dat).outer(dat).angle.data\n",
    "dbscan_naive = DBSCAN(0.3, 10, metric='precomputed').fit(D)\n",
    "print('Labels:', np.unique(dbscan_naive.labels_))\n",
    "\n",
    "# Cluster\n",
    "D = Misorientation((~dat).outer(dat)).set_symmetry((Oh, Oh)).angle.data\n",
    "dbscan = DBSCAN(0.3, 20, metric='precomputed').fit(D)\n",
    "print('Labels:', np.unique(dbscan.labels_))\n",
    "\n",
    "# Generate colors\n",
    "colors = [to_rgb('C{}'.format(i)) for i in range(10)]  # ['C0', 'C1', ...]\n",
    "c = label2rgb(dbscan.labels_, colors=colors)\n",
    "c_naive = label2rgb(dbscan_naive.labels_, colors=colors)"
   ]
  },
  {
   "cell_type": "code",
   "execution_count": null,
   "metadata": {},
   "outputs": [],
   "source": [
    "# Figure\n",
    "fig = plt.figure(figsize=(12, 7))\n",
    "\n",
    "ax1 = fig.add_subplot(121, projection='axangle', aspect='equal')\n",
    "ax1.scatter(dat, c=c_naive)\n",
    "ax1.plot_wireframe(fr, color='gray', alpha=0.5, linewidth=0.5, rcount=30, ccount=30)\n",
    "ax1.set_axis_off()\n",
    "\n",
    "ax1.set_xlim(-0.8, 0.8)\n",
    "ax1.set_ylim(-0.8, 0.8)\n",
    "ax1.set_zlim(-0.8, 0.8)\n",
    "\n",
    "ax2 = fig.add_subplot(122, projection='axangle', aspect='equal')\n",
    "ax2.scatter(dat, c=c)\n",
    "ax2.plot_wireframe(fr, color='gray', alpha=0.5, linewidth=0.5, rcount=30, ccount=30)\n",
    "ax2.set_axis_off()\n",
    "\n",
    "ax2.set_xlim(-0.8, 0.8)\n",
    "ax2.set_ylim(-0.8, 0.8)\n",
    "ax2.set_zlim(-0.8, 0.8)\n",
    "\n",
    "plt.tight_layout()\n",
    "\n",
    "# Generate animation\n",
    "def animate(angle):\n",
    "    ax1.view_init(15, angle)\n",
    "    ax2.view_init(15, angle)\n",
    "    plt.draw()\n",
    "ani = animation.FuncAnimation(fig, animate, np.linspace(75, 360+74, 720), interval=25)"
   ]
  },
  {
   "cell_type": "code",
   "execution_count": null,
   "metadata": {},
   "outputs": [],
   "source": [
    "# Save animation\n",
    "Writer = animation.writers['ffmpeg']\n",
    "writer = Writer(fps=30, metadata=dict(artist='Me'), bitrate=1800)\n",
    "ani.save('clustering-fr-demo.mp4', writer=writer, dpi=300)"
   ]
  },
  {
   "cell_type": "markdown",
   "metadata": {},
   "source": [
    "# Clustered Ti misorientations"
   ]
  },
  {
   "cell_type": "code",
   "execution_count": null,
   "metadata": {},
   "outputs": [],
   "source": [
    "# Load data from CTF file\n",
    "dat = np.loadtxt('/home/bm424/Desktop/upload_scripts_apollo/Ti_orientations.ctf', skiprows=1)[:, :3]\n",
    "\n",
    "ori = Orientation.from_euler(np.radians(dat)).reshape(381, 507)[-100:, :200].set_symmetry(D6)\n",
    "\n",
    "fundamental_region = OrientationRegion.from_symmetry(D6, D6)\n",
    "\n",
    "# Compute misorientations\n",
    "misori_base = Misorientation(~ori[:, :-1] * ori[:, 1:])\n",
    "boundary_mask = misori_base.angle > np.radians(7)\n",
    "misori = misori_base[boundary_mask].set_symmetry(D6, D6)\n",
    "print('Number of misorientations:', misori.size)"
   ]
  },
  {
   "cell_type": "code",
   "execution_count": null,
   "metadata": {},
   "outputs": [],
   "source": [
    "small_mask = misori.angle < np.radians(7)"
   ]
  },
  {
   "cell_type": "markdown",
   "metadata": {},
   "source": [
    "## Compute D-matrix"
   ]
  },
  {
   "cell_type": "markdown",
   "metadata": {},
   "source": [
    "**The RAM-wrecking option**"
   ]
  },
  {
   "cell_type": "code",
   "execution_count": null,
   "metadata": {},
   "outputs": [],
   "source": [
    "mismisori = (~misori).outer(misori)\n",
    "mismisori_equiv = D6.outer(~misori).outer(D6).outer(D6).outer(misori).outer(D6)\n",
    "distance = mismisori_equiv.angle.data.min(axis=(0, 2, 3, 5))"
   ]
  },
  {
   "cell_type": "markdown",
   "metadata": {},
   "source": [
    "**The slow-but-sane option** (about 20 mins)"
   ]
  },
  {
   "cell_type": "code",
   "execution_count": null,
   "metadata": {},
   "outputs": [],
   "source": [
    "from itertools import combinations_with_replacement as icombinations\n",
    "from tqdm import tqdm_notebook\n",
    "distance = np.empty((misori.size, misori.size))\n",
    "\n",
    "for i, j in tqdm_notebook(list(icombinations(range(misori.size), 2))):\n",
    "    m_1, m_2 = misori[i], misori[j]\n",
    "    mismisori = D6.outer(~m_1).outer(D6).outer(D6).outer(m_2).outer(D6)\n",
    "    d = mismisori.angle.data.min(axis=(0, 2, 3, 5))\n",
    "    distance[i, j] = d\n",
    "    distance[j, i] = d"
   ]
  },
  {
   "cell_type": "code",
   "execution_count": null,
   "metadata": {},
   "outputs": [],
   "source": [
    "np.save('./misori-distance((300, 500)).npy', distance)"
   ]
  },
  {
   "cell_type": "markdown",
   "metadata": {},
   "source": [
    "**The priori incantatem option**"
   ]
  },
  {
   "cell_type": "code",
   "execution_count": null,
   "metadata": {},
   "outputs": [],
   "source": [
    "distance = np.load('./misori-distance((100, 200)).npy')"
   ]
  },
  {
   "cell_type": "markdown",
   "metadata": {},
   "source": [
    "## Clusters"
   ]
  },
  {
   "cell_type": "code",
   "execution_count": null,
   "metadata": {},
   "outputs": [],
   "source": [
    "distance = distance[~small_mask][:, ~small_mask]"
   ]
  },
  {
   "cell_type": "code",
   "execution_count": null,
   "metadata": {},
   "outputs": [],
   "source": [
    "# Compute clusters\n",
    "dbscan = DBSCAN(0.05, 10, metric='precomputed').fit(distance)\n",
    "print('Cluster labels:', np.unique(dbscan.labels_))\n",
    "n_clusters = len(np.unique(dbscan.labels_)) - 1\n",
    "print('Number of clusters:', n_clusters)\n",
    "\n",
    "# Generate colors\n",
    "colors = [to_rgb('C{}'.format(i)) for i in range(10)]  # ['C0', 'C1', ...]\n",
    "c = label2rgb(dbscan.labels_, colors=colors)"
   ]
  },
  {
   "cell_type": "code",
   "execution_count": null,
   "metadata": {},
   "outputs": [],
   "source": [
    "misori = misori[~small_mask]"
   ]
  },
  {
   "cell_type": "code",
   "execution_count": null,
   "metadata": {},
   "outputs": [],
   "source": [
    "cluster_means = Misorientation.stack([misori[dbscan.labels_ == label].mean() for label in np.unique(dbscan.labels_)[1:]]).flatten()\n",
    "cluster_means = cluster_means.set_symmetry(D6, D6)"
   ]
  },
  {
   "cell_type": "code",
   "execution_count": null,
   "metadata": {},
   "outputs": [],
   "source": [
    "np.degrees(cluster_means.angle.data)"
   ]
  },
  {
   "cell_type": "code",
   "execution_count": null,
   "metadata": {},
   "outputs": [],
   "source": [
    "# Generate map\n",
    "mapping = np.ones(misori_base.shape + (3,))\n",
    "\n",
    "mapping[np.where(boundary_mask)[0][~small_mask], np.where(boundary_mask)[1][~small_mask]] = c"
   ]
  },
  {
   "cell_type": "markdown",
   "metadata": {},
   "source": [
    "## Plot"
   ]
  },
  {
   "cell_type": "code",
   "execution_count": null,
   "metadata": {},
   "outputs": [],
   "source": [
    "# Plot clustered misorientations\n",
    "fig = plt.figure(figsize=(3.484252, 3.484252))\n",
    "gridspec = plt.GridSpec(1, 1, left=0, right=1, bottom=0, top=1, hspace=0.05)\n",
    "\n",
    "\n",
    "ax_misori = fig.add_subplot(gridspec[0], projection='axangle', aspect='equal', proj_type='ortho')\n",
    "ax_misori.scatter(misori, c=c, s=4, edgecolor='none')\n",
    "ax_misori.plot_wireframe(fundamental_region, color='black', linewidth=0.5, alpha=0.1, rcount=361, ccount=361)\n",
    "\n",
    "ax_misori.set_axis_off()\n",
    "ax_misori.set_xlim(0.2, 1.2)\n",
    "ax_misori.set_ylim(-.1, .9)\n",
    "ax_misori.set_zlim(-0, 1)\n",
    "ax_misori.view_init(90, -60)\n",
    "\n",
    "\n",
    "handles = [\n",
    "    Line2D(\n",
    "        [0], [0], \n",
    "        marker='o', color='none', \n",
    "        label=i+1, \n",
    "        markerfacecolor=color, markersize=5\n",
    "    ) for i, color in enumerate(colors[:n_clusters])\n",
    "]\n",
    "\n",
    "ax_misori.legend(handles=handles, loc='upper center')\n",
    "\n",
    "fig.savefig('./clustered-misorientations-top-data.png', transparent=True, dpi=600)"
   ]
  },
  {
   "cell_type": "code",
   "execution_count": null,
   "metadata": {},
   "outputs": [],
   "source": [
    "fig = plt.figure(figsize=(3.484252*2, 1.5*2))\n",
    "gridspec = plt.GridSpec(1, 1, left=0, right=1, bottom=0, top=1, hspace=0.05)\n",
    "\n",
    "ax_misori = fig.add_subplot(gridspec[0], projection='axangle', proj_type='ortho', aspect='equal')\n",
    "ax_misori.scatter(misori, c=c, s=4, edgecolor='none')\n",
    "ax_misori.plot_wireframe(fundamental_region, color='black', linewidth=0.5, alpha=0.1, rcount=181, ccount=361)\n",
    "\n",
    "ax_misori.set_axis_off()\n",
    "ax_misori.set_xlim(0.1, 1.1)\n",
    "ax_misori.set_ylim(0.1, 1.1)\n",
    "ax_misori.set_zlim(-0, 1)\n",
    "ax_misori.view_init(0, -60)\n",
    "\n",
    "\n",
    "fig.savefig('./clustered-misorientations-side-data.png', transparent=True, dpi=600)"
   ]
  },
  {
   "cell_type": "code",
   "execution_count": null,
   "metadata": {},
   "outputs": [],
   "source": [
    "fig = plt.figure(figsize=(3.484252, 2))\n",
    "\n",
    "gridspec = plt.GridSpec(1, 1, left=0, right=1, bottom=0, top=1, hspace=0.05)\n",
    "ax_mapping = fig.add_subplot(gridspec[0])\n",
    "ax_mapping.imshow(mapping)\n",
    "\n",
    "ax_mapping.set_xticks([])\n",
    "ax_mapping.set_yticks([])\n",
    "\n",
    "fig.savefig('./clustered-misorientations-mapping-data.png', transparent=True, dpi=600)"
   ]
  },
  {
   "cell_type": "code",
   "execution_count": null,
   "metadata": {},
   "outputs": [],
   "source": []
  }
 ],
 "metadata": {
  "kernelspec": {
   "display_name": "Python 3",
   "language": "python",
   "name": "python3"
  },
  "language_info": {
   "codemirror_mode": {
    "name": "ipython",
    "version": 3
   },
   "file_extension": ".py",
   "mimetype": "text/x-python",
   "name": "python",
   "nbconvert_exporter": "python",
   "pygments_lexer": "ipython3",
   "version": "3.6.6"
  }
 },
 "nbformat": 4,
 "nbformat_minor": 2
}
