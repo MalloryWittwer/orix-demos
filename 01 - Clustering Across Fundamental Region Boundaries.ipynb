{
 "cells": [
  {
   "cell_type": "markdown",
   "metadata": {},
   "source": [
    "# Introduction"
   ]
  },
  {
   "cell_type": "markdown",
   "metadata": {},
   "source": [
    "This tutorial demonstrates density based clustering of crystal orientations with and without the application of symmetry using simulated data."
   ]
  },
  {
   "cell_type": "markdown",
   "metadata": {},
   "source": [
    "This functionaility has been checked to run in orix-0.2.0 (December 2019). Bugs are always possible, do not trust the code blindly, and if you experience any issues please report them here: https://github.com/pyxem/orix-demos/issues"
   ]
  },
  {
   "cell_type": "markdown",
   "metadata": {},
   "source": [
    "# Contents"
   ]
  },
  {
   "cell_type": "markdown",
   "metadata": {},
   "source": [
    "1. <a href='#gen'> Generate artificial data</a>\n",
    "2. <a href='#clu'> Misorientation clustering</a>\n",
    "3. <a href='#vis'> Visualisation</a>"
   ]
  },
  {
   "cell_type": "markdown",
   "metadata": {},
   "source": [
    "Import orix classes and various dependencies"
   ]
  },
  {
   "cell_type": "code",
   "execution_count": null,
   "metadata": {},
   "outputs": [],
   "source": [
    "%matplotlib qt\n",
    "\n",
    "# Import core external\n",
    "import numpy as np\n",
    "import matplotlib.pyplot as plt\n",
    "from sklearn.cluster import DBSCAN\n",
    "\n",
    "# Import orix classes \n",
    "from orix.quaternion.orientation import Orientation, Misorientation\n",
    "from orix.quaternion.rotation import Rotation\n",
    "from orix.quaternion.symmetry import Oh\n",
    "from orix.quaternion.orientation_region import OrientationRegion\n",
    "from orix.vector.neo_euler import AxAngle\n",
    "from orix import plot\n",
    "\n",
    "# Colorisation & Animation\n",
    "from skimage.color import label2rgb\n",
    "from matplotlib.colors import to_rgb, to_hex\n",
    "import matplotlib.animation as animation\n",
    "\n",
    "plt.rc('font', size=6)"
   ]
  },
  {
   "cell_type": "markdown",
   "metadata": {},
   "source": [
    "# <a id='gen'></a> 1. Generate artificial data"
   ]
  },
  {
   "cell_type": "markdown",
   "metadata": {},
   "source": [
    "Generate 3 random vonMises distributions as model clusters and set Oh symmetry"
   ]
  },
  {
   "cell_type": "code",
   "execution_count": null,
   "metadata": {},
   "outputs": [],
   "source": [
    "# Set up data\n",
    "d1 = Orientation.random_vonmises(50, alpha=50)\n",
    "d2_0 = Rotation.from_neo_euler(AxAngle.from_axes_angles((1, 0, 0), np.pi/4))\n",
    "d2 = Orientation.random_vonmises(50, alpha=50, reference=d2_0)\n",
    "d3_0 = Rotation.from_neo_euler(AxAngle.from_axes_angles((1, 1, 0), np.pi/3))\n",
    "d3 = Orientation.random_vonmises(50, alpha=50, reference=d3_0)\n",
    "dat = Orientation.stack([d1, d2, d3]).flatten().set_symmetry(Oh)"
   ]
  },
  {
   "cell_type": "markdown",
   "metadata": {},
   "source": [
    "# <a id='clu'></a> 2. Orientation clustering"
   ]
  },
  {
   "cell_type": "markdown",
   "metadata": {},
   "source": [
    "## 2.1 Perform clustering without application of crystal symmetry"
   ]
  },
  {
   "cell_type": "markdown",
   "metadata": {},
   "source": [
    "Compute misorientations, i.e. distance between orientations"
   ]
  },
  {
   "cell_type": "code",
   "execution_count": null,
   "metadata": {},
   "outputs": [],
   "source": [
    "D = (~dat).outer(dat).angle.data"
   ]
  },
  {
   "cell_type": "markdown",
   "metadata": {},
   "source": [
    "Perform clustering"
   ]
  },
  {
   "cell_type": "code",
   "execution_count": null,
   "metadata": {},
   "outputs": [],
   "source": [
    "dbscan_naive = DBSCAN(0.3, 10, metric='precomputed').fit(D)\n",
    "print('Labels:', np.unique(dbscan_naive.labels_))"
   ]
  },
  {
   "cell_type": "markdown",
   "metadata": {},
   "source": [
    "## 2.2 Perform clustering with application of crystal symmetry"
   ]
  },
  {
   "cell_type": "markdown",
   "metadata": {},
   "source": [
    "Compute misorientations, i.e. distance between orientations, with symmetry"
   ]
  },
  {
   "cell_type": "code",
   "execution_count": null,
   "metadata": {},
   "outputs": [],
   "source": [
    "D = Misorientation((~dat).outer(dat)).set_symmetry(Oh,Oh).angle.data"
   ]
  },
  {
   "cell_type": "markdown",
   "metadata": {},
   "source": [
    "Perform clustering"
   ]
  },
  {
   "cell_type": "code",
   "execution_count": null,
   "metadata": {},
   "outputs": [],
   "source": [
    "dbscan = DBSCAN(0.3, 20, metric='precomputed').fit(D)\n",
    "print('Labels:', np.unique(dbscan.labels_))"
   ]
  },
  {
   "cell_type": "markdown",
   "metadata": {},
   "source": [
    "This should have shown that without symmetry there are 6 clusters, whereas with symmetry there are 3."
   ]
  },
  {
   "cell_type": "markdown",
   "metadata": {},
   "source": [
    "# <a id='vis'></a> 1. Visualisation"
   ]
  },
  {
   "cell_type": "markdown",
   "metadata": {},
   "source": [
    "Assign colours to each cluster"
   ]
  },
  {
   "cell_type": "code",
   "execution_count": null,
   "metadata": {},
   "outputs": [],
   "source": [
    "colors = [to_rgb('C{}'.format(i)) for i in range(10)]  # ['C0', 'C1', ...]\n",
    "c = label2rgb(dbscan.labels_, colors=colors)\n",
    "c_naive = label2rgb(dbscan_naive.labels_, colors=colors)"
   ]
  },
  {
   "cell_type": "markdown",
   "metadata": {},
   "source": [
    "Specify fundamental zone based on symmetry"
   ]
  },
  {
   "cell_type": "code",
   "execution_count": null,
   "metadata": {},
   "outputs": [],
   "source": [
    "fr = OrientationRegion.from_symmetry(Oh)"
   ]
  },
  {
   "cell_type": "markdown",
   "metadata": {},
   "source": [
    "Generate plot"
   ]
  },
  {
   "cell_type": "code",
   "execution_count": null,
   "metadata": {},
   "outputs": [],
   "source": [
    "# Figure\n",
    "fig = plt.figure(figsize=(12, 7))\n",
    "\n",
    "# This is the left hand plot\n",
    "ax1 = fig.add_subplot(121, projection='axangle', aspect='equal')\n",
    "ax1.scatter(dat, c=c_naive)\n",
    "ax1.plot_wireframe(fr, color='gray', alpha=0.5, linewidth=0.5, rcount=30, ccount=30)\n",
    "ax1.set_axis_off()\n",
    "\n",
    "ax1.set_xlim(-0.8, 0.8)\n",
    "ax1.set_ylim(-0.8, 0.8)\n",
    "ax1.set_zlim(-0.8, 0.8)\n",
    "\n",
    "# This is the right hand plot\n",
    "ax2 = fig.add_subplot(122, projection='axangle', aspect='equal')\n",
    "ax2.scatter(dat, c=c)\n",
    "ax2.plot_wireframe(fr, color='gray', alpha=0.5, linewidth=0.5, rcount=30, ccount=30)\n",
    "ax2.set_axis_off()\n",
    "\n",
    "ax2.set_xlim(-0.8, 0.8)\n",
    "ax2.set_ylim(-0.8, 0.8)\n",
    "ax2.set_zlim(-0.8, 0.8)\n",
    "\n",
    "plt.tight_layout()"
   ]
  },
  {
   "cell_type": "markdown",
   "metadata": {},
   "source": [
    "Generate an animation of the plot"
   ]
  },
  {
   "cell_type": "code",
   "execution_count": null,
   "metadata": {},
   "outputs": [],
   "source": [
    "def animate(angle):\n",
    "    ax1.view_init(15, angle)\n",
    "    ax2.view_init(15, angle)\n",
    "    plt.draw()\n",
    "\n",
    "ani = animation.FuncAnimation(fig, animate, np.linspace(75, 360+74, 720), interval=25)\n",
    "plt.show()"
   ]
  },
  {
   "cell_type": "code",
   "execution_count": null,
   "metadata": {},
   "outputs": [],
   "source": []
  }
 ],
 "metadata": {
  "kernelspec": {
   "display_name": "Python 3",
   "language": "python",
   "name": "python3"
  },
  "language_info": {
   "codemirror_mode": {
    "name": "ipython",
    "version": 3
   },
   "file_extension": ".py",
   "mimetype": "text/x-python",
   "name": "python",
   "nbconvert_exporter": "python",
   "pygments_lexer": "ipython3",
   "version": "3.7.3"
  }
 },
 "nbformat": 4,
 "nbformat_minor": 2
}
