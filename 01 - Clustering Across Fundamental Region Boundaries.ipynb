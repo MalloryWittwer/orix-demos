{
 "cells": [
  {
   "cell_type": "markdown",
   "metadata": {},
   "source": [
    "<center><h1>Clustering across fundamental region boundaries</center></h1>"
   ]
  },
  {
   "cell_type": "markdown",
   "metadata": {},
   "source": [
    "We start with our imports."
   ]
  },
  {
   "cell_type": "code",
   "execution_count": 1,
   "metadata": {},
   "outputs": [],
   "source": [
    "%matplotlib qt\n",
    "\n",
    "# Important external dependencies\n",
    "import numpy as np\n",
    "import matplotlib.pyplot as plt\n",
    "from sklearn.cluster import DBSCAN\n",
    "\n",
    "# orix dependencies \n",
    "from orix.quaternion.orientation import Orientation, Misorientation\n",
    "from orix.quaternion.rotation import Rotation\n",
    "from orix.quaternion.symmetry import Oh\n",
    "from orix.quaternion.orientation_region import OrientationRegion\n",
    "from orix.vector.neo_euler import AxAngle\n",
    "from orix import plot\n",
    "\n",
    "# Colorisation & Animation\n",
    "from skimage.color import label2rgb\n",
    "from matplotlib.colors import to_rgb, to_hex\n",
    "import matplotlib.animation as animation\n",
    "\n",
    "plt.rc('font', size=6)"
   ]
  },
  {
   "cell_type": "markdown",
   "metadata": {},
   "source": [
    "This notebook uses artificial data, which we create in the cell below."
   ]
  },
  {
   "cell_type": "code",
   "execution_count": 2,
   "metadata": {},
   "outputs": [
    {
     "name": "stdout",
     "output_type": "stream",
     "text": [
      "Labels: [0 1 2 3 4 5]\n",
      "Labels: [0 1 2]\n"
     ]
    }
   ],
   "source": [
    "# Set up data\n",
    "d1 = Orientation.random_vonmises(50, alpha=50)\n",
    "d2_0 = Rotation.from_neo_euler(AxAngle.from_axes_angles((1, 0, 0), np.pi/4))\n",
    "d2 = Orientation.random_vonmises(50, alpha=50, reference=d2_0)\n",
    "d3_0 = Rotation.from_neo_euler(AxAngle.from_axes_angles((1, 1, 0), np.pi/3))\n",
    "d3 = Orientation.random_vonmises(50, alpha=50, reference=d3_0)\n",
    "dat = Orientation.stack([d1, d2, d3]).flatten().set_symmetry(Oh)\n",
    "\n",
    "fr = OrientationRegion.from_symmetry(Oh)\n",
    "\n",
    "# Naive cluster (with no symmetry consideration)\n",
    "D = (~dat).outer(dat).angle.data\n",
    "dbscan_naive = DBSCAN(0.3, 10, metric='precomputed').fit(D)\n",
    "print('Labels:', np.unique(dbscan_naive.labels_))\n",
    "\n",
    "# Cluster\n",
    "D = Misorientation((~dat).outer(dat)).set_symmetry(Oh,Oh).angle.data\n",
    "dbscan = DBSCAN(0.3, 20, metric='precomputed').fit(D)\n",
    "print('Labels:', np.unique(dbscan.labels_))\n",
    "\n",
    "# Generate colors\n",
    "colors = [to_rgb('C{}'.format(i)) for i in range(10)]  # ['C0', 'C1', ...]\n",
    "c = label2rgb(dbscan.labels_, colors=colors)\n",
    "c_naive = label2rgb(dbscan_naive.labels_, colors=colors)"
   ]
  },
  {
   "cell_type": "markdown",
   "metadata": {},
   "source": [
    "We now plot our data, on the left the colours correspond to the labels assinged by the naive implementations. On the right we see the correct solution, which takes us from 6 clusters, to three. The wire grid corresponds to the fundemental zone."
   ]
  },
  {
   "cell_type": "code",
   "execution_count": 5,
   "metadata": {},
   "outputs": [],
   "source": [
    "# Figure\n",
    "fig = plt.figure(figsize=(12, 7))\n",
    "\n",
    "# This is the left hand plot\n",
    "ax1 = fig.add_subplot(121, projection='axangle', aspect='equal')\n",
    "ax1.scatter(dat, c=c_naive)\n",
    "ax1.plot_wireframe(fr, color='gray', alpha=0.5, linewidth=0.5, rcount=30, ccount=30)\n",
    "ax1.set_axis_off()\n",
    "\n",
    "ax1.set_xlim(-0.8, 0.8)\n",
    "ax1.set_ylim(-0.8, 0.8)\n",
    "ax1.set_zlim(-0.8, 0.8)\n",
    "\n",
    "# This is the right hand plot\n",
    "ax2 = fig.add_subplot(122, projection='axangle', aspect='equal')\n",
    "ax2.scatter(dat, c=c)\n",
    "ax2.plot_wireframe(fr, color='gray', alpha=0.5, linewidth=0.5, rcount=30, ccount=30)\n",
    "ax2.set_axis_off()\n",
    "\n",
    "ax2.set_xlim(-0.8, 0.8)\n",
    "ax2.set_ylim(-0.8, 0.8)\n",
    "ax2.set_zlim(-0.8, 0.8)\n",
    "\n",
    "plt.tight_layout()\n",
    "\n",
    "# Generate animation\n",
    "def animate(angle):\n",
    "    ax1.view_init(15, angle)\n",
    "    ax2.view_init(15, angle)\n",
    "    plt.draw()\n",
    "\n",
    "ani = animation.FuncAnimation(fig, animate, np.linspace(75, 360+74, 720), interval=25)\n",
    "plt.show()"
   ]
  }
 ],
 "metadata": {
  "kernelspec": {
   "display_name": "Python 3",
   "language": "python",
   "name": "python3"
  },
  "language_info": {
   "codemirror_mode": {
    "name": "ipython",
    "version": 3
   },
   "file_extension": ".py",
   "mimetype": "text/x-python",
   "name": "python",
   "nbconvert_exporter": "python",
   "pygments_lexer": "ipython3",
   "version": "3.7.3"
  }
 },
 "nbformat": 4,
 "nbformat_minor": 2
}
