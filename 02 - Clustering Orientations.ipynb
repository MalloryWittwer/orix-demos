{
 "cells": [
  {
   "cell_type": "markdown",
   "metadata": {},
   "source": [
    "<h1> <center> Clustered Ti Orientations </center></h1>"
   ]
  },
  {
   "cell_type": "markdown",
   "metadata": {},
   "source": [
    "This notebook illustrates clustering of orientations while accounting for symmettry. It begins by importing the relevant data. It then illustrates how the distance matrix can be formed. This stage can also be skipped and the D matrix loaded directly for this example notbook. The clustering is then conducted using the DBSCAN algorithm and the data plotted."
   ]
  },
  {
   "cell_type": "code",
   "execution_count": null,
   "metadata": {},
   "outputs": [],
   "source": [
    "%matplotlib qt5\n",
    "\n",
    "# Important external dependencies\n",
    "import numpy as np\n",
    "import matplotlib.pyplot as plt\n",
    "from sklearn.cluster import DBSCAN\n",
    "\n",
    "# orix dependencies (tested with orix 0.1.1)\n",
    "from orix.quaternion.orientation import Orientation, Misorientation\n",
    "from orix.quaternion.rotation import Rotation\n",
    "from orix.quaternion.symmetry import D6\n",
    "from orix.quaternion.orientation_region import OrientationRegion\n",
    "from orix.vector.neo_euler import AxAngle\n",
    "from orix.vector import Vector3d\n",
    "from orix import plot\n",
    "\n",
    "# Colorisation\n",
    "from skimage.color import label2rgb\n",
    "from matplotlib.colors import to_rgb, to_hex\n",
    "MPL_COLORS_RGB = [to_rgb('C{}'.format(i)) for i in range(10)]\n",
    "MPL_COLORS_HEX = [to_hex(c) for c in MPL_COLORS_RGB]\n",
    "\n",
    "# Animation\n",
    "import matplotlib.animation as animation\n",
    "\n",
    "# Visualisation\n",
    "from mpl_toolkits.mplot3d.art3d import Line3DCollection\n",
    "from matplotlib.lines import Line2D\n",
    "\n",
    "\n",
    "plt.rc('font', size=6)"
   ]
  },
  {
   "cell_type": "code",
   "execution_count": null,
   "metadata": {},
   "outputs": [],
   "source": [
    "# Load data (euler angles, in degrees, Bunge convention) from CTF file\n",
    "filepath = './data/Ti_orientations.ctf'\n",
    "dat = np.loadtxt(filepath, skiprows=1)[:, :3]"
   ]
  },
  {
   "cell_type": "code",
   "execution_count": null,
   "metadata": {},
   "outputs": [],
   "source": [
    "ori = Orientation.from_euler(np.radians(dat)) # converts to quarternion-like representation\n",
    "ori = ori.reshape(381,507) #reshape to the correct spatial dimensions\n",
    "ori = ori[-100:,:200] #keep a subset of the data to speed process up ([-100:,:200])\n",
    "fundamental_region = OrientationRegion.from_symmetry(D6) #define fundemental zone\n",
    "print(ori.size)"
   ]
  },
  {
   "cell_type": "markdown",
   "metadata": {},
   "source": [
    "<h2><center> Create D, via a correct approach incorperating symmetry </h2></center>"
   ]
  },
  {
   "cell_type": "markdown",
   "metadata": {},
   "source": [
    "**Option 1: quick, will wreck your RAM**\n",
    "\n",
    "Computes every possibility in a single tensor, then minimises."
   ]
  },
  {
   "cell_type": "code",
   "execution_count": null,
   "metadata": {},
   "outputs": [],
   "source": [
    "# Compute misorientations\n",
    "confirm = input('Are you sure? (y/n) ')\n",
    "if confirm == 'y':\n",
    "    misori_equiv = D6.outer(~ori).outer(ori).outer(D6)\n",
    "    D = misori_equiv.angle.data.min(axis=(0, 2))"
   ]
  },
  {
   "cell_type": "markdown",
   "metadata": {},
   "source": [
    "**Option 2: medium-speed, should be OK for RAM**\n",
    "\n",
    "Precomputes one set of equivalent orientations."
   ]
  },
  {
   "cell_type": "code",
   "execution_count": null,
   "metadata": {},
   "outputs": [],
   "source": [
    "confirm = input('This might take some time, are you sure? (y/n) ')\n",
    "if confirm == 'y':\n",
    "    from tqdm import tqdm_notebook\n",
    "    D = np.zeros(ori.shape + ori.shape)\n",
    "    D.fill(np.infty)\n",
    "\n",
    "    OS2 = ori.outer(D6)\n",
    "\n",
    "    for i in tqdm_notebook(range(ori.size)):\n",
    "        idx = np.unravel_index(i, ori.shape)\n",
    "        misori = D6.outer(~ori[idx]).outer(OS2)\n",
    "        d = misori.angle.data.min(axis=(0, -1))\n",
    "        D[idx[0], idx[1], ...] = np.minimum(D[idx[0], idx[1], ...], d)"
   ]
  },
  {
   "cell_type": "markdown",
   "metadata": {},
   "source": [
    "**Option 3: slow, safe for RAM**\n",
    "\n",
    "Iterates through every pair of orientations."
   ]
  },
  {
   "cell_type": "code",
   "execution_count": null,
   "metadata": {},
   "outputs": [],
   "source": [
    "confirm = input('This will take some time, are you sure?(y/n) ')\n",
    "if confirm == 'y':\n",
    "    from itertools import combinations_with_replacement as icombinations\n",
    "    from tqdm import tqdm_notebook\n",
    "\n",
    "    D = np.empty(ori.shape + ori.shape)\n",
    "\n",
    "    for i, j in tqdm_notebook(list(icombinations(range(ori.size), 2))):\n",
    "        idx_1, idx_2 = np.unravel_index(i, ori.shape), np.unravel_index(i, ori.shape)\n",
    "        o_1, o_2 = ori[idx_1], ori[idx_2]\n",
    "        misori = D6.outer(~o_1).outer(o_2).outer(D6)\n",
    "        d = misori.angle.data.min(axis=(0, 3))\n",
    "        D[idx_1[0], idx_1[1], idx_2[0], idx_2[1]] = d\n",
    "        D[idx_2[0], idx_2[1], idx_1[0], idx_1[1]] = d"
   ]
  },
  {
   "cell_type": "markdown",
   "metadata": {},
   "source": [
    "**Option 4: Here is one we made earlier...**"
   ]
  },
  {
   "cell_type": "code",
   "execution_count": null,
   "metadata": {},
   "outputs": [],
   "source": [
    "filepath = './data/ori-distance((100, 200)).npy'\n",
    "D = np.load(filepath)"
   ]
  },
  {
   "cell_type": "markdown",
   "metadata": {},
   "source": [
    "<h2> <center> Clustering </h2> </center>"
   ]
  },
  {
   "cell_type": "code",
   "execution_count": null,
   "metadata": {},
   "outputs": [],
   "source": [
    "dbscan = DBSCAN(0.1, 40, metric='precomputed').fit(D.reshape(ori.size, ori.size))\n",
    "print('Labels:', np.unique(dbscan.labels_))\n",
    "labels = dbscan.labels_.reshape(ori.shape)\n",
    "n_clusters = len(np.unique(dbscan.labels_)) - 1\n",
    "print('Number of clusters:', n_clusters)"
   ]
  },
  {
   "cell_type": "code",
   "execution_count": null,
   "metadata": {},
   "outputs": [],
   "source": [
    "cluster_means = Orientation.stack([ori[labels == label].mean() for label in np.unique(dbscan.labels_)[1:]]).flatten()\n",
    "cluster_means = cluster_means.set_symmetry(D6)"
   ]
  },
  {
   "cell_type": "code",
   "execution_count": null,
   "metadata": {},
   "outputs": [],
   "source": [
    "cluster_means.axis"
   ]
  },
  {
   "cell_type": "code",
   "execution_count": null,
   "metadata": {
    "scrolled": true
   },
   "outputs": [],
   "source": [
    "# Recenter based on the matrix cluster and recompute means\n",
    "ori_recentered = (~cluster_means[0]) * ori\n",
    "ori_recentered = ori_recentered.set_symmetry(D6)\n",
    "cluster_means_recentered = Orientation.stack([ori_recentered[labels == label].mean() for label in np.unique(dbscan.labels_)[1:]]).flatten()\n",
    "cluster_means_axangle = AxAngle.from_rotation(cluster_means_recentered)"
   ]
  },
  {
   "cell_type": "code",
   "execution_count": null,
   "metadata": {},
   "outputs": [],
   "source": [
    "cluster_means_recentered.axis"
   ]
  },
  {
   "cell_type": "markdown",
   "metadata": {},
   "source": [
    "## Plotting"
   ]
  },
  {
   "cell_type": "code",
   "execution_count": null,
   "metadata": {},
   "outputs": [],
   "source": [
    "# get label colors\n",
    "colors = [to_rgb('C{}'.format(i)) for i in range(10)]\n",
    "labels_rgb = label2rgb(labels, colors=colors)\n",
    "\n",
    "# Create map and lines pointing to cluster means\n",
    "mapping = labels_rgb\n",
    "collection = Line3DCollection([((0, 0, 0), tuple(cm)) for cm in cluster_means_axangle.data], colors=colors)"
   ]
  },
  {
   "cell_type": "code",
   "execution_count": null,
   "metadata": {},
   "outputs": [],
   "source": [
    "# Main plot\n",
    "fig = plt.figure(figsize=(3.484252, 3.484252))\n",
    "gridspec = plt.GridSpec(1, 1, left=0, right=1, bottom=0, top=1, hspace=0.05)\n",
    "\n",
    "ax_ori = fig.add_subplot(gridspec[0], projection='axangle', proj_type='ortho')\n",
    "ax_ori.scatter(ori_recentered, c=labels_rgb.reshape(-1, 3), s=1)\n",
    "ax_ori.plot_wireframe(fundamental_region, color='black', linewidth=0.5, alpha=0.1, rcount=181, ccount=361)\n",
    "ax_ori.add_collection3d(collection)\n",
    "\n",
    "ax_ori.set_axis_off()\n",
    "ax_ori.set_xlim(-1, 1)\n",
    "ax_ori.set_ylim(-1, 1)\n",
    "ax_ori.set_zlim(-1, 1)\n",
    "ax_ori.view_init(90, -30)\n",
    "\n",
    "# Legend\n",
    "handles = [\n",
    "    Line2D(\n",
    "        [0], [0], \n",
    "        marker='o', color='none', \n",
    "        label=i+1, \n",
    "        markerfacecolor=color, markersize=5\n",
    "    ) for i, color in enumerate(colors[:n_clusters])\n",
    "]\n",
    "\n",
    "ax_ori.legend(handles=handles, loc='lower right', ncol=2, numpoints=1, labelspacing=0.15, columnspacing=0.15, handletextpad=0.05)"
   ]
  },
  {
   "cell_type": "code",
   "execution_count": null,
   "metadata": {},
   "outputs": [],
   "source": [
    "plt.close('all')\n",
    "fig = plt.figure(figsize=(3.484252 * 2, 1.5 * 2))\n",
    "gridspec = plt.GridSpec(1, 1, left=0, right=1, bottom=0, top=1, hspace=0.05)\n",
    "\n",
    "ax_ori = fig.add_subplot(gridspec[0], projection='axangle', proj_type='ortho', aspect='equal')\n",
    "ax_ori.scatter(ori_recentered, c=labels_rgb.reshape(-1, 3), s=1)\n",
    "ax_ori.plot_wireframe(fundamental_region, color='black', linewidth=0.5, alpha=0.1, rcount=181, ccount=361)\n",
    "# ax_ori.add_collection3d(collection)\n",
    "\n",
    "ax_ori.set_axis_off()\n",
    "ax_ori.set_xlim(-1, 1)\n",
    "ax_ori.set_ylim(-1, 1)\n",
    "ax_ori.set_zlim(-1, 1)\n",
    "ax_ori.view_init(0, -30)"
   ]
  },
  {
   "cell_type": "code",
   "execution_count": null,
   "metadata": {},
   "outputs": [],
   "source": [
    "plt.close('all')\n",
    "map_ax = plt.axes()\n",
    "map_ax.imshow(mapping)\n",
    "\n",
    "map_ax.set_xticks([])\n",
    "map_ax.set_yticks([])"
   ]
  },
  {
   "cell_type": "code",
   "execution_count": null,
   "metadata": {},
   "outputs": [],
   "source": []
  }
 ],
 "metadata": {
  "kernelspec": {
   "display_name": "Python 3",
   "language": "python",
   "name": "python3"
  },
  "language_info": {
   "codemirror_mode": {
    "name": "ipython",
    "version": 3
   },
   "file_extension": ".py",
   "mimetype": "text/x-python",
   "name": "python",
   "nbconvert_exporter": "python",
   "pygments_lexer": "ipython3",
   "version": "3.7.3"
  }
 },
 "nbformat": 4,
 "nbformat_minor": 2
}
