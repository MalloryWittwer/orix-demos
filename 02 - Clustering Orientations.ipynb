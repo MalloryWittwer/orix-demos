{
 "cells": [
  {
   "cell_type": "markdown",
   "metadata": {},
   "source": [
    "# Introduction"
   ]
  },
  {
   "cell_type": "markdown",
   "metadata": {},
   "source": [
    "This notebook illustrates clustering of Ti crystal orientations using data obtained from a highly deformed specimen, using EBSD."
   ]
  },
  {
   "cell_type": "markdown",
   "metadata": {},
   "source": [
    "This functionaility has been checked to run in orix-0.2.3 (May 2020). Bugs are always possible, do not trust the code blindly, and if you experience any issues please report them here: https://github.com/pyxem/orix-demos/issues"
   ]
  },
  {
   "cell_type": "markdown",
   "metadata": {},
   "source": [
    "# Contents"
   ]
  },
  {
   "cell_type": "markdown",
   "metadata": {},
   "source": [
    "1. <a href='#imp'> Import data</a>\n",
    "2. <a href='#dis'> Compute distance matrix</a>\n",
    "3. <a href='#clu'> Clustering</a>\n",
    "4. <a href='#vis'> Visualisation</a>"
   ]
  },
  {
   "cell_type": "markdown",
   "metadata": {},
   "source": [
    "Import orix classes and various dependencies"
   ]
  },
  {
   "cell_type": "code",
   "execution_count": 1,
   "metadata": {},
   "outputs": [],
   "source": [
    "%matplotlib qt5\n",
    "\n",
    "# Important external dependencies\n",
    "import numpy as np\n",
    "import matplotlib.pyplot as plt\n",
    "from sklearn.cluster import DBSCAN\n",
    "\n",
    "# orix dependencies (tested with orix 0.1.1)\n",
    "from orix.quaternion.orientation import Orientation, Misorientation\n",
    "from orix.quaternion.rotation import Rotation\n",
    "from orix.quaternion.symmetry import D6\n",
    "from orix.quaternion.orientation_region import OrientationRegion\n",
    "from orix.vector.neo_euler import AxAngle\n",
    "from orix.vector import Vector3d\n",
    "from orix import plot\n",
    "\n",
    "# Colorisation\n",
    "from skimage.color import label2rgb\n",
    "from matplotlib.colors import to_rgb, to_hex\n",
    "MPL_COLORS_RGB = [to_rgb('C{}'.format(i)) for i in range(10)]\n",
    "MPL_COLORS_HEX = [to_hex(c) for c in MPL_COLORS_RGB]\n",
    "\n",
    "# Animation\n",
    "import matplotlib.animation as animation\n",
    "\n",
    "# Visualisation\n",
    "from mpl_toolkits.mplot3d.art3d import Line3DCollection\n",
    "from matplotlib.lines import Line2D\n",
    "\n",
    "\n",
    "plt.rc('font', size=6)"
   ]
  },
  {
   "cell_type": "markdown",
   "metadata": {},
   "source": [
    "# <a id='imp'></a> 1. Import data"
   ]
  },
  {
   "cell_type": "markdown",
   "metadata": {},
   "source": [
    "Load orientation mapping data specified in a standard CTF file as euler angles in degrees, following the Bunge convention."
   ]
  },
  {
   "cell_type": "code",
   "execution_count": 2,
   "metadata": {},
   "outputs": [],
   "source": [
    "filepath = './data/Ti_orientations.ctf'\n",
    "dat = np.loadtxt(filepath, skiprows=1)[:, :3]"
   ]
  },
  {
   "cell_type": "markdown",
   "metadata": {},
   "source": [
    "Initialize an orix Orientation object containing the data"
   ]
  },
  {
   "cell_type": "code",
   "execution_count": 3,
   "metadata": {},
   "outputs": [
    {
     "name": "stdout",
     "output_type": "stream",
     "text": [
      "193167\n"
     ]
    }
   ],
   "source": [
    "ori = Orientation.from_euler(np.radians(dat))\n",
    "print(ori.size)"
   ]
  },
  {
   "cell_type": "markdown",
   "metadata": {},
   "source": [
    "Reshape the orientation mapping data to the correct spatial dimensions for the scan"
   ]
  },
  {
   "cell_type": "code",
   "execution_count": 4,
   "metadata": {},
   "outputs": [],
   "source": [
    "ori = ori.reshape(381,507)"
   ]
  },
  {
   "cell_type": "markdown",
   "metadata": {},
   "source": [
    "Selct a subset of the data to reduce compute time"
   ]
  },
  {
   "cell_type": "code",
   "execution_count": 5,
   "metadata": {},
   "outputs": [
    {
     "name": "stdout",
     "output_type": "stream",
     "text": [
      "20000\n"
     ]
    }
   ],
   "source": [
    "ori = ori[-100:,:200]\n",
    "print(ori.size)"
   ]
  },
  {
   "cell_type": "markdown",
   "metadata": {},
   "source": [
    "Define the fundamental region based on the D6 symmetry of Ti"
   ]
  },
  {
   "cell_type": "code",
   "execution_count": 6,
   "metadata": {},
   "outputs": [],
   "source": [
    "fundamental_region = OrientationRegion.from_symmetry(D6)"
   ]
  },
  {
   "cell_type": "markdown",
   "metadata": {},
   "source": [
    "# <a id='dis'></a> 2. Compute distance matrix"
   ]
  },
  {
   "cell_type": "markdown",
   "metadata": {},
   "source": [
    "Clustering algorithms require a distance matrix, $D_{ij}$, containing the distance, $d(o_i, o_j)$, between all (mis)orientations to be computed. We define this distance as the minimum rotational angle relating (mis)orientations amongst all symmetry equivalent rotations.\n",
    "\n",
    "Computation of the distance matrix is the most computationally intensive part of this data processing. Here we provide 3 alternative implementations that use resources differently:\n",
    "\n",
    "1. Calculate the outer products needed to determine the distance metric and compute the associated angle. Minimise with respect to the tensor axes corresponding to symmetry. Uses lots of of computer memory.\n",
    "\n",
    "\n",
    "2. Iterate over each factor updating the distance as it gets smaller. Uses little computer memory but computation takes a long time.\n",
    "\n",
    "\n",
    "3. Iterating over pairs of data points while performing an outer product minimisation with respect to the symmetry elements for each pair. Uses more computer memory to avoid excessive computation times.\n",
    "\n",
    "\n",
    "**WARNING: The computation in Section 2.1 takes time and may exceed limits on your machine. This section is commented out to avoid unintentional use. A pre-computed solution is provided in Section 2.2!**"
   ]
  },
  {
   "cell_type": "markdown",
   "metadata": {},
   "source": [
    "## 2.1. Compute the distance matrix yourself (optional)"
   ]
  },
  {
   "cell_type": "markdown",
   "metadata": {},
   "source": [
    "**Option 1: high (ca. 32 Gb) RAM, fast vectorized computation**\n",
    "\n",
    "Computes every possibility in a single tensor, then minimises."
   ]
  },
  {
   "cell_type": "code",
   "execution_count": null,
   "metadata": {},
   "outputs": [],
   "source": [
    "#misori_equiv = D6.outer(~ori).outer(ori).outer(D6)\n",
    "#D = misori_equiv.angle.data.min(axis=(0, 2))"
   ]
  },
  {
   "cell_type": "markdown",
   "metadata": {},
   "source": [
    "**Option 2: low RAM, slow iteration**\n",
    "\n",
    "Iterates through every pair of orientations."
   ]
  },
  {
   "cell_type": "code",
   "execution_count": null,
   "metadata": {},
   "outputs": [],
   "source": [
    "#D = np.empty(ori.shape + ori.shape)\n",
    "#\n",
    "#for i, j in tqdm_notebook(list(icombinations(range(ori.size), 2))):\n",
    "#    idx_1, idx_2 = np.unravel_index(i, ori.shape), np.unravel_index(i, ori.shape)\n",
    "#    o_1, o_2 = ori[idx_1], ori[idx_2]\n",
    "#    misori = D6.outer(~o_1).outer(o_2).outer(D6)\n",
    "#    d = misori.angle.data.min(axis=(0, 3))\n",
    "#    D[idx_1[0], idx_1[1], idx_2[0], idx_2[1]] = d\n",
    "#    D[idx_2[0], idx_2[1], idx_1[0], idx_1[1]] = d"
   ]
  },
  {
   "cell_type": "markdown",
   "metadata": {},
   "source": [
    "**Option 3: RAM vs. speed compromise**\n",
    "\n",
    "Precomputes one set of equivalent orientations."
   ]
  },
  {
   "cell_type": "code",
   "execution_count": null,
   "metadata": {},
   "outputs": [],
   "source": [
    "#D = np.zeros(ori.shape + ori.shape)\n",
    "#D.fill(np.infty)\n",
    "#\n",
    "#OS2 = ori.outer(D6)\n",
    "#\n",
    "#for i in tqdm_notebook(range(ori.size)):\n",
    "#    idx = np.unravel_index(i, ori.shape)\n",
    "#    misori = D6.outer(~ori[idx]).outer(OS2)\n",
    "#    d = misori.angle.data.min(axis=(0, -1))\n",
    "#    D[idx[0], idx[1], ...] = np.minimum(D[idx[0], idx[1], ...], d)"
   ]
  },
  {
   "cell_type": "markdown",
   "metadata": {},
   "source": [
    "## 2.2. Load a distance matrix we computed for you"
   ]
  },
  {
   "cell_type": "markdown",
   "metadata": {},
   "source": [
    "Load the precomputed distance matrix for the data subset"
   ]
  },
  {
   "cell_type": "code",
   "execution_count": 7,
   "metadata": {},
   "outputs": [],
   "source": [
    "filepath = './data/ori-distance((100, 200)).npy'\n",
    "D = np.load(filepath)"
   ]
  },
  {
   "cell_type": "markdown",
   "metadata": {},
   "source": [
    "# <a id='clu'></a> 3. Clustering"
   ]
  },
  {
   "cell_type": "markdown",
   "metadata": {},
   "source": [
    "Perform clustering"
   ]
  },
  {
   "cell_type": "code",
   "execution_count": 8,
   "metadata": {},
   "outputs": [
    {
     "name": "stdout",
     "output_type": "stream",
     "text": [
      "Labels: [-1  0  1  2  3  4  5]\n",
      "Number of clusters: 6\n"
     ]
    }
   ],
   "source": [
    "dbscan = DBSCAN(0.1, 40, metric='precomputed').fit(D.reshape(ori.size, ori.size))\n",
    "print('Labels:', np.unique(dbscan.labels_))\n",
    "labels = dbscan.labels_.reshape(ori.shape)\n",
    "n_clusters = len(np.unique(dbscan.labels_)) - 1\n",
    "print('Number of clusters:', n_clusters)"
   ]
  },
  {
   "cell_type": "markdown",
   "metadata": {},
   "source": [
    "Calculate the mean orientation for each cluster"
   ]
  },
  {
   "cell_type": "code",
   "execution_count": 9,
   "metadata": {},
   "outputs": [],
   "source": [
    "cluster_means = Orientation.stack([ori[labels == label].mean() for label in np.unique(dbscan.labels_)[1:]]).flatten()\n",
    "cluster_means = cluster_means.set_symmetry(D6)"
   ]
  },
  {
   "cell_type": "markdown",
   "metadata": {},
   "source": [
    "Inspect rotation axes in the axis-angle representation"
   ]
  },
  {
   "cell_type": "code",
   "execution_count": 10,
   "metadata": {},
   "outputs": [],
   "source": [
    "cluster_means_axangle = AxAngle.from_rotation(cluster_means)"
   ]
  },
  {
   "cell_type": "markdown",
   "metadata": {},
   "source": [
    "Recenter data relative to the matrix cluster and recompute means"
   ]
  },
  {
   "cell_type": "code",
   "execution_count": 11,
   "metadata": {
    "scrolled": true
   },
   "outputs": [],
   "source": [
    "ori_recentered = (~cluster_means[0]) * ori\n",
    "ori_recentered = ori_recentered.set_symmetry(D6)\n",
    "cluster_means_recentered = Orientation.stack([ori_recentered[labels == label].mean() for label in np.unique(dbscan.labels_)[1:]]).flatten()\n",
    "cluster_means_axangle = AxAngle.from_rotation(cluster_means_recentered)"
   ]
  },
  {
   "cell_type": "markdown",
   "metadata": {},
   "source": [
    "Inspect recentered rotation axes in the axis-angle representation"
   ]
  },
  {
   "cell_type": "code",
   "execution_count": 12,
   "metadata": {},
   "outputs": [
    {
     "data": {
      "text/plain": [
       "Vector3d (6,)\n",
       "[[ 0.      0.      1.    ]\n",
       " [-0.9011 -0.3965 -0.1756]\n",
       " [ 0.0856 -0.8516  0.5172]\n",
       " [-0.5222  0.2419 -0.8178]\n",
       " [-0.8673  0.4797 -0.133 ]\n",
       " [ 0.3198 -0.6549  0.6847]]"
      ]
     },
     "execution_count": 12,
     "metadata": {},
     "output_type": "execute_result"
    }
   ],
   "source": [
    "cluster_means_recentered.axis"
   ]
  },
  {
   "cell_type": "markdown",
   "metadata": {},
   "source": [
    "# <a id='vis'></a> 4. Visualisation"
   ]
  },
  {
   "cell_type": "markdown",
   "metadata": {},
   "source": [
    "Specify colours and lines to identify each cluster"
   ]
  },
  {
   "cell_type": "code",
   "execution_count": 13,
   "metadata": {},
   "outputs": [],
   "source": [
    "# get label colors\n",
    "colors = [to_rgb('C{}'.format(i)) for i in range(10)]\n",
    "labels_rgb = label2rgb(labels, colors=colors)\n",
    "\n",
    "# Create map and lines pointing to cluster means\n",
    "mapping = labels_rgb\n",
    "collection = Line3DCollection([((0, 0, 0), tuple(cm)) for cm in cluster_means_axangle.data], colors=colors)"
   ]
  },
  {
   "cell_type": "markdown",
   "metadata": {},
   "source": [
    "Plot the orientation clusters within the fundamental zone for D6 symmetry Ti"
   ]
  },
  {
   "cell_type": "code",
   "execution_count": 14,
   "metadata": {},
   "outputs": [
    {
     "name": "stderr",
     "output_type": "stream",
     "text": [
      "/home/hremadmin/anaconda3/envs/orix/lib/python3.8/site-packages/orix-0.2.3.dev0-py3.8.egg/orix/quaternion/orientation_region.py:201: RuntimeWarning: divide by zero encountered in reciprocal\n"
     ]
    },
    {
     "data": {
      "text/plain": [
       "<matplotlib.legend.Legend at 0x7f8e22c30df0>"
      ]
     },
     "execution_count": 14,
     "metadata": {},
     "output_type": "execute_result"
    },
    {
     "name": "stderr",
     "output_type": "stream",
     "text": [
      "/home/hremadmin/anaconda3/envs/orix/lib/python3.8/site-packages/mpl_toolkits/mplot3d/proj3d.py:61: RuntimeWarning: invalid value encountered in double_scalars\n",
      "  u = (x01*x21 + y01*y21) / (x21**2 + y21**2)\n"
     ]
    }
   ],
   "source": [
    "fig = plt.figure(figsize=(3.484252, 3.484252))\n",
    "gridspec = plt.GridSpec(1, 1, left=0, right=1, bottom=0, top=1, hspace=0.05)\n",
    "\n",
    "ax_ori = fig.add_subplot(gridspec[0], projection='axangle', proj_type='ortho')\n",
    "ax_ori.scatter(ori_recentered, c=labels_rgb.reshape(-1, 3), s=1)\n",
    "ax_ori.plot_wireframe(fundamental_region, color='black', linewidth=0.5, alpha=0.1, rcount=181, ccount=361)\n",
    "ax_ori.add_collection3d(collection)\n",
    "\n",
    "ax_ori.set_axis_off()\n",
    "ax_ori.set_xlim(-1, 1)\n",
    "ax_ori.set_ylim(-1, 1)\n",
    "ax_ori.set_zlim(-1, 1)\n",
    "ax_ori.view_init(90, -30)\n",
    "\n",
    "handles = [\n",
    "    Line2D(\n",
    "        [0], [0], \n",
    "        marker='o', color='none', \n",
    "        label=i+1, \n",
    "        markerfacecolor=color, markersize=5\n",
    "    ) for i, color in enumerate(colors[:n_clusters])\n",
    "]\n",
    "\n",
    "ax_ori.legend(handles=handles, loc='lower right', ncol=2, numpoints=1, labelspacing=0.15, columnspacing=0.15, handletextpad=0.05)"
   ]
  },
  {
   "cell_type": "markdown",
   "metadata": {},
   "source": [
    "Plot side view of orientation clusters in the fundamental zone for D6 symmetry Ti"
   ]
  },
  {
   "cell_type": "code",
   "execution_count": null,
   "metadata": {},
   "outputs": [],
   "source": [
    "plt.close('all')\n",
    "fig = plt.figure(figsize=(3.484252 * 2, 1.5 * 2))\n",
    "gridspec = plt.GridSpec(1, 1, left=0, right=1, bottom=0, top=1, hspace=0.05)\n",
    "\n",
    "ax_ori = fig.add_subplot(gridspec[0], projection='axangle', proj_type='ortho', aspect='equal')\n",
    "ax_ori.scatter(ori_recentered, c=labels_rgb.reshape(-1, 3), s=1)\n",
    "ax_ori.plot_wireframe(fundamental_region, color='black', linewidth=0.5, alpha=0.1, rcount=181, ccount=361)\n",
    "# ax_ori.add_collection3d(collection)\n",
    "\n",
    "ax_ori.set_axis_off()\n",
    "ax_ori.set_xlim(-1, 1)\n",
    "ax_ori.set_ylim(-1, 1)\n",
    "ax_ori.set_zlim(-1, 1)\n",
    "ax_ori.view_init(0, -30)"
   ]
  },
  {
   "cell_type": "markdown",
   "metadata": {},
   "source": [
    "Plot map indicating spatial locations associated with each cluster"
   ]
  },
  {
   "cell_type": "code",
   "execution_count": null,
   "metadata": {},
   "outputs": [],
   "source": [
    "plt.close('all')\n",
    "map_ax = plt.axes()\n",
    "map_ax.imshow(mapping)\n",
    "\n",
    "map_ax.set_xticks([])\n",
    "map_ax.set_yticks([])"
   ]
  },
  {
   "cell_type": "code",
   "execution_count": null,
   "metadata": {},
   "outputs": [],
   "source": []
  }
 ],
 "metadata": {
  "kernelspec": {
   "display_name": "Python 3",
   "language": "python",
   "name": "python3"
  },
  "language_info": {
   "codemirror_mode": {
    "name": "ipython",
    "version": 3
   },
   "file_extension": ".py",
   "mimetype": "text/x-python",
   "name": "python",
   "nbconvert_exporter": "python",
   "pygments_lexer": "ipython3",
   "version": "3.8.2"
  }
 },
 "nbformat": 4,
 "nbformat_minor": 2
}
