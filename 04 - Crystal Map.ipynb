{
 "cells": [
  {
   "cell_type": "markdown",
   "metadata": {},
   "source": [
    "# `CrystalMap` API\n",
    "\n",
    "* Quick and dirty description of the (more or less) full `CrystalMap` API so far.\n",
    "* .ang and .h5ebsd files for testing are temporarily available here: http://folk.ntnu.no/hakonwii/files/orix-demos/\n",
    "\n",
    "<!--\n",
    "# Introduction\n",
    "\n",
    "This notebook illustrates clustering of Ti crystal orientations using data obtained from a highly deformed specimen, using EBSD.\n",
    "\n",
    "This functionaility has been checked to run in orix-0.2.0 (December 2019). Bugs are always possible, do not trust the code blindly, and if you experience any issues please report them here: https://github.com/pyxem/orix-demos/issues\n",
    "-->\n",
    "\n",
    "# Contents\n",
    "\n",
    "1. <a href='#load'> Load CrystalMap objects from file</a>\n",
    "2. <a href='#init'> Initialize a CrystalMap object</a>\n",
    "3. <a href='#crystalmap'> CrystalMap</a>\n",
    "4. <a href='#phaselist'> PhaseList</a>\n",
    "5. <a href='#phase'> Phase</a>\n",
    "6. <a href='#examples'> Examples</a>\n",
    "7. <a href=\"#gotchas\"> Gotchas</a>\n",
    "\n",
    "Import orix classes and various dependencies"
   ]
  },
  {
   "cell_type": "code",
   "execution_count": 1,
   "metadata": {},
   "outputs": [],
   "source": [
    "%matplotlib qt5\n",
    "\n",
    "# Important external dependencies\n",
    "import os\n",
    "import re\n",
    "import numpy as np\n",
    "import matplotlib.pyplot as plt\n",
    "import h5py  # Needed for h5ebsd reader\n",
    "\n",
    "# orix dependencies (not tested)\n",
    "from orix.crystal_map import CrystalMap, PhaseList, Phase\n",
    "from orix.quaternion.rotation import Rotation\n",
    "from orix import plot\n",
    "from orix.io import load_ang, load_emsoft"
   ]
  },
  {
   "cell_type": "markdown",
   "metadata": {},
   "source": [
    "Set input file and file path"
   ]
  },
  {
   "cell_type": "code",
   "execution_count": 2,
   "metadata": {},
   "outputs": [],
   "source": [
    "datadir = '/home/hakon/phd/data/jarle_emsoft/sdss/em'\n",
    "emsoft_file = os.path.join(datadir, 'sdss_austenite_dp.h5')\n",
    "ang_file = os.path.join(datadir, 'sdss_ferrite_austenite.ang')"
   ]
  },
  {
   "cell_type": "markdown",
   "metadata": {},
   "source": [
    "# <a id='load'></a> 1. Load CrystalMap objects from file"
   ]
  },
  {
   "cell_type": "markdown",
   "metadata": {},
   "source": [
    "The .h5 file comes from dictionary indexing in EMsoft. A map of super-duplex stainless steel of size (100, 117) has been indexed with both austenite and ferrite. This file contains the results from the austenite indexing. Let's load it with `orix.io.load_emsoft`."
   ]
  },
  {
   "cell_type": "code",
   "execution_count": 3,
   "metadata": {},
   "outputs": [
    {
     "name": "stdout",
     "output_type": "stream",
     "text": [
      "Phase    Orientations       Name  Symmetry     Color\n",
      "    0  11700 (100.0%)  austenite      m-3m  tab:blue\n",
      "Properties: AvDotProductMap, CI, CIMap, IQ, IQMap, ISM, ISMap, KAM, OSM, RefinedDotProducts, TopDotProductList, TopMatchIndices\n",
      "Scan unit: px\n"
     ]
    }
   ],
   "source": [
    "cm2 = load_emsoft(emsoft_file)\n",
    "\n",
    "print(cm2)"
   ]
  },
  {
   "cell_type": "markdown",
   "metadata": {},
   "source": [
    "The .ang file used here comes from EMsoft's `EMdpmerge`, where the austenite and ferrite results have been merged. Note that the only property maps available are the image quality and dot product maps.\n",
    "\n",
    "The ang file reader `orix.io.load_ang` should recognize the ang file formats from EDAX TSL (v7), ASTAR Index, and EMsoft."
   ]
  },
  {
   "cell_type": "code",
   "execution_count": 4,
   "metadata": {},
   "outputs": [
    {
     "name": "stdout",
     "output_type": "stream",
     "text": [
      "Phase   Orientations       Name  Symmetry       Color\n",
      "    1   5657 (48.4%)  austenite       432    tab:blue\n",
      "    2   6043 (51.6%)    ferrite       432  tab:orange\n",
      "Properties: iq, dp\n",
      "Scan unit: px\n"
     ]
    }
   ],
   "source": [
    "cm = load_ang(ang_file)\n",
    "\n",
    "print(cm)"
   ]
  },
  {
   "cell_type": "markdown",
   "metadata": {},
   "source": [
    "# <a id='init'></a> 2. Initialize a CrystalMap object"
   ]
  },
  {
   "cell_type": "markdown",
   "metadata": {},
   "source": [
    "A `CrystalMap` object can also be initialized manually. Let's do this for the .ang file"
   ]
  },
  {
   "cell_type": "code",
   "execution_count": 5,
   "metadata": {},
   "outputs": [],
   "source": [
    "euler1, euler2, euler3, x, y, iq, dp, phase = np.loadtxt(\n",
    "    ang_file,\n",
    "    usecols=(0, 1, 2, 3, 4, 5, 6, 7),\n",
    "    unpack=True\n",
    ")\n",
    "\n",
    "euler = np.column_stack((euler1, euler2, euler3))"
   ]
  },
  {
   "cell_type": "markdown",
   "metadata": {},
   "source": [
    "Set up properties"
   ]
  },
  {
   "cell_type": "code",
   "execution_count": 6,
   "metadata": {},
   "outputs": [],
   "source": [
    "properties = {\"dp\": dp, \"iq\": iq}"
   ]
  },
  {
   "cell_type": "markdown",
   "metadata": {},
   "source": [
    "Inspect the crystal map initialization by printing its `__init__` docstring"
   ]
  },
  {
   "cell_type": "code",
   "execution_count": 7,
   "metadata": {},
   "outputs": [
    {
     "name": "stdout",
     "output_type": "stream",
     "text": [
      "\n",
      "        Parameters\n",
      "        ----------\n",
      "        rotations : orix.quaternion.rotation.Rotation\n",
      "            Rotation of each data point. Must contain only one spatial\n",
      "            dimension in the first array axis. May contain multiple\n",
      "            rotations per point, included in the second array axes. Crystal\n",
      "            map data size is set equal to the first array axis' size.\n",
      "        phase_id : numpy.ndarray, optional\n",
      "            Phase ID of each pixel. IDs equal to -1 are considered not\n",
      "            indexed. If ``None`` is passed (default), all points are\n",
      "            considered to belong to one phase with ID 1.\n",
      "        x : numpy.ndarray, optional\n",
      "            Map x coordinate of each data point. If ``None`` is passed,\n",
      "            the map is assumed to be 1D, and it is set to an array of\n",
      "            increasing integers from 0 to the length of the `phase_id`\n",
      "            array.\n",
      "        y : numpy.ndarray, optional\n",
      "            Map y coordinate of each data point. If ``None`` is passed,\n",
      "            the map is assumed to be 1D, and it is set to ``None``.\n",
      "        z : numpy.ndarray, optional\n",
      "            Map z coordinate of each data point. If ``None`` is passed, the\n",
      "            map is assumed to be 2D or 1D, and it is set to ``None``.\n",
      "        phase_name : str or list of str, optional\n",
      "            Name of phases.\n",
      "        symmetry : str or list of str, optional\n",
      "            Point group of crystal symmetries of phases in the map.\n",
      "        prop : dict of numpy.ndarray, optional\n",
      "            Dictionary of properties of each data point.\n",
      "        \n"
     ]
    }
   ],
   "source": [
    "print(CrystalMap.__init__.__doc__)    "
   ]
  },
  {
   "cell_type": "markdown",
   "metadata": {},
   "source": [
    "Initialize the object, also setting the scan unit"
   ]
  },
  {
   "cell_type": "code",
   "execution_count": 8,
   "metadata": {},
   "outputs": [
    {
     "name": "stdout",
     "output_type": "stream",
     "text": [
      "Phase   Orientations       Name  Symmetry       Color\n",
      "    1   5657 (48.4%)  austenite       432    tab:blue\n",
      "    2   6043 (51.6%)    ferrite       432  tab:orange\n",
      "Properties: dp, iq\n",
      "Scan unit: um\n"
     ]
    }
   ],
   "source": [
    "cm = CrystalMap(\n",
    "    rotations=Rotation.from_euler(euler),\n",
    "    phase_id=phase,\n",
    "    x=x,\n",
    "    y=y,\n",
    "    phase_name=[\"austenite\", \"ferrite\"],\n",
    "    symmetry=[\"432\", \"432\"],\n",
    "    prop=properties,\n",
    ")\n",
    "cm.scan_unit = \"um\"\n",
    "\n",
    "print(cm)"
   ]
  },
  {
   "cell_type": "markdown",
   "metadata": {},
   "source": [
    "# <a id='crystalmap'></a> 3. CrystalMap\n",
    "\n",
    "Print class description"
   ]
  },
  {
   "cell_type": "code",
   "execution_count": 9,
   "metadata": {},
   "outputs": [
    {
     "name": "stdout",
     "output_type": "stream",
     "text": [
      "Crystallographic map of rotations, crystal phases and key properties\n",
      "    associated with every spatial coordinate in a 1D, 2D or 3D space.\n",
      "\n",
      "    All properties are stored as 1D arrays, and reshaped when necessary.\n",
      "\n",
      "    Attributes\n",
      "    ----------\n",
      "    all_indexed : bool\n",
      "        Whether all data points are indexed.\n",
      "    dx, dy, dz : float\n",
      "        Step sizes in x, y and z directions.\n",
      "    id : int\n",
      "        Data point ID.\n",
      "    is_indexed : numpy.ndarray\n",
      "        Boolean array with True for indexed data points.\n",
      "    ndim : int\n",
      "        Number of map dimensions.\n",
      "    orientations : orix.quaternion.orientation.Orientation\n",
      "        Orientation(s) of each data point.\n",
      "    phase_id : numpy.ndarray\n",
      "        Phase ID of each data point.\n",
      "    phases : orix.crystal_map.PhaseList\n",
      "        List of phases with their IDs, names, crystal symmetries and\n",
      "        colors (possibly more than are in the data).\n",
      "    phases_in_data : orix.crystal_map.PhaseList\n",
      "        List of phases in the data, with their IDs, names, crystal\n",
      "        symmetries and colors.\n",
      "    prop : dict\n",
      "        Dictionary of numpy arrays of key properties of each data point.\n",
      "    rotations : orix.quaternion.rotation.Rotation\n",
      "        Rotations of each data point.\n",
      "    rotations_per_point : int\n",
      "        Number of rotations per data point.\n",
      "    scan_unit : str\n",
      "        Length unit of data, default is 'px'.\n",
      "    shape : tuple\n",
      "        Shape of data in points (pixels).\n",
      "    size : int\n",
      "        Number of data points.\n",
      "    x, y, z : float\n",
      "        Coordinates in each data direction.\n",
      "\n",
      "    Methods\n",
      "    -------\n",
      "    deepcopy()\n",
      "        Return a deep copy using :py:func:`~copy.deepcopy` function.\n",
      "    get_map_data(item, decimals=3, fill_value=None)\n",
      "        Return an array of a class instance attribute, with masked values\n",
      "        set to `fill_value`, of map shape.\n",
      "    \n"
     ]
    }
   ],
   "source": [
    "print(CrystalMap.__doc__)"
   ]
  },
  {
   "cell_type": "markdown",
   "metadata": {},
   "source": [
    "`__repr__` (inspired by MTEX)"
   ]
  },
  {
   "cell_type": "code",
   "execution_count": 10,
   "metadata": {},
   "outputs": [
    {
     "data": {
      "text/plain": [
       "Phase   Orientations       Name  Symmetry       Color\n",
       "    1   5657 (48.4%)  austenite       432    tab:blue\n",
       "    2   6043 (51.6%)    ferrite       432  tab:orange\n",
       "Properties: dp, iq\n",
       "Scan unit: um"
      ]
     },
     "execution_count": 10,
     "metadata": {},
     "output_type": "execute_result"
    }
   ],
   "source": [
    "cm"
   ]
  },
  {
   "cell_type": "markdown",
   "metadata": {},
   "source": [
    "Custom, private attributes"
   ]
  },
  {
   "cell_type": "code",
   "execution_count": 11,
   "metadata": {},
   "outputs": [
    {
     "data": {
      "text/plain": [
       "['_coordinates',\n",
       " '_data_shape_from_coordinates',\n",
       " '_data_slices_from_coordinates',\n",
       " '_id',\n",
       " '_original_shape',\n",
       " '_phase_id',\n",
       " '_prop',\n",
       " '_rotations',\n",
       " '_step_size_from_coordinates',\n",
       " '_step_sizes',\n",
       " '_x',\n",
       " '_y',\n",
       " '_z']"
      ]
     },
     "execution_count": 11,
     "metadata": {},
     "output_type": "execute_result"
    }
   ],
   "source": [
    "[i for i in dir(cm) if i.startswith('_') and not i.endswith('__')]"
   ]
  },
  {
   "cell_type": "markdown",
   "metadata": {},
   "source": [
    "Public attributes and methods"
   ]
  },
  {
   "cell_type": "code",
   "execution_count": 12,
   "metadata": {},
   "outputs": [
    {
     "data": {
      "text/plain": [
       "['all_indexed',\n",
       " 'deepcopy',\n",
       " 'dx',\n",
       " 'dy',\n",
       " 'dz',\n",
       " 'get_map_data',\n",
       " 'id',\n",
       " 'is_in_data',\n",
       " 'is_indexed',\n",
       " 'ndim',\n",
       " 'orientations',\n",
       " 'phase_id',\n",
       " 'phases',\n",
       " 'phases_in_data',\n",
       " 'prop',\n",
       " 'rotations',\n",
       " 'rotations_per_point',\n",
       " 'scan_unit',\n",
       " 'shape',\n",
       " 'size',\n",
       " 'x',\n",
       " 'y',\n",
       " 'z']"
      ]
     },
     "execution_count": 12,
     "metadata": {},
     "output_type": "execute_result"
    }
   ],
   "source": [
    "[i for i in dir(cm) if not i.startswith('_')]"
   ]
  },
  {
   "cell_type": "markdown",
   "metadata": {},
   "source": [
    "Docstrings of public attributes and their values in the current CrystalMap instance"
   ]
  },
  {
   "cell_type": "code",
   "execution_count": 13,
   "metadata": {},
   "outputs": [
    {
     "name": "stdout",
     "output_type": "stream",
     "text": [
      "Return whether all points in data are indexed.\n"
     ]
    },
    {
     "data": {
      "text/plain": [
       "True"
      ]
     },
     "execution_count": 13,
     "metadata": {},
     "output_type": "execute_result"
    }
   ],
   "source": [
    "print(CrystalMap.all_indexed.__doc__)\n",
    "cm.all_indexed"
   ]
  },
  {
   "cell_type": "code",
   "execution_count": 14,
   "metadata": {},
   "outputs": [
    {
     "name": "stdout",
     "output_type": "stream",
     "text": [
      "Return whether points in data are indexed.\n"
     ]
    },
    {
     "data": {
      "text/plain": [
       "array([ True,  True,  True, ...,  True,  True,  True])"
      ]
     },
     "execution_count": 14,
     "metadata": {},
     "output_type": "execute_result"
    }
   ],
   "source": [
    "print(CrystalMap.is_indexed.__doc__)\n",
    "cm.is_indexed"
   ]
  },
  {
   "cell_type": "code",
   "execution_count": 15,
   "metadata": {},
   "outputs": [
    {
     "name": "stdout",
     "output_type": "stream",
     "text": [
      "Return number of data dimensions of points in the data.\n"
     ]
    },
    {
     "data": {
      "text/plain": [
       "2"
      ]
     },
     "execution_count": 15,
     "metadata": {},
     "output_type": "execute_result"
    }
   ],
   "source": [
    "print(CrystalMap.ndim.__doc__)\n",
    "cm.ndim"
   ]
  },
  {
   "cell_type": "code",
   "execution_count": 16,
   "metadata": {},
   "outputs": [],
   "source": [
    "cma = cm[\"austenite\"]"
   ]
  },
  {
   "cell_type": "code",
   "execution_count": 17,
   "metadata": {},
   "outputs": [
    {
     "data": {
      "text/plain": [
       "Rotation (5657,)\n",
       "[[ 0.8686 -0.3569  0.2749  0.2064]\n",
       " [ 0.8681 -0.3581  0.2744  0.2068]\n",
       " [ 0.8684 -0.3578  0.2751  0.2052]\n",
       " ...\n",
       " [ 0.9639 -0.022  -0.0754  0.2545]\n",
       " [ 0.8854 -0.3337  0.2385 -0.2187]\n",
       " [ 0.885  -0.3341  0.2391 -0.2193]]"
      ]
     },
     "execution_count": 17,
     "metadata": {},
     "output_type": "execute_result"
    }
   ],
   "source": [
    "cma.rotations"
   ]
  },
  {
   "cell_type": "code",
   "execution_count": 18,
   "metadata": {},
   "outputs": [
    {
     "name": "stdout",
     "output_type": "stream",
     "text": [
      "Return an Orientation object of orientations in data.\n"
     ]
    },
    {
     "data": {
      "text/plain": [
       "Orientation (5657,) 1, 432\n",
       "[[ 0.8686 -0.3569  0.2749  0.2064]\n",
       " [ 0.8681 -0.3581  0.2744  0.2068]\n",
       " [ 0.8684 -0.3578  0.2751  0.2052]\n",
       " ...\n",
       " [ 0.9639 -0.022  -0.0754  0.2545]\n",
       " [ 0.8854 -0.3337  0.2385 -0.2187]\n",
       " [ 0.885  -0.3341  0.2391 -0.2193]]"
      ]
     },
     "execution_count": 18,
     "metadata": {},
     "output_type": "execute_result"
    }
   ],
   "source": [
    "print(CrystalMap.orientations.__doc__)\n",
    "cm['austenite'].orientations"
   ]
  },
  {
   "cell_type": "code",
   "execution_count": 19,
   "metadata": {},
   "outputs": [
    {
     "name": "stdout",
     "output_type": "stream",
     "text": [
      "Return phase IDs of points in the data.\n"
     ]
    },
    {
     "data": {
      "text/plain": [
       "array([2, 1, 1, ..., 2, 1, 1])"
      ]
     },
     "execution_count": 19,
     "metadata": {},
     "output_type": "execute_result"
    }
   ],
   "source": [
    "print(CrystalMap.phase_id.__doc__)\n",
    "cm.phase_id"
   ]
  },
  {
   "cell_type": "code",
   "execution_count": 20,
   "metadata": {},
   "outputs": [
    {
     "data": {
      "text/plain": [
       "Id       Name  Symmetry       Color\n",
       " 1  austenite       432    tab:blue\n",
       " 2    ferrite       432  tab:orange"
      ]
     },
     "execution_count": 20,
     "metadata": {},
     "output_type": "execute_result"
    }
   ],
   "source": [
    "# Set during __init__, not a derived attribute, hence no docstring available\n",
    "cm.phases  # similar CrystalMap's __repr__"
   ]
  },
  {
   "cell_type": "code",
   "execution_count": 21,
   "metadata": {},
   "outputs": [
    {
     "name": "stdout",
     "output_type": "stream",
     "text": [
      "Return a list of phases in the data.\n",
      "\n",
      "        This is needed because it can be useful to have phases not in the\n",
      "        data but in `self.phases`.\n",
      "        \n"
     ]
    },
    {
     "data": {
      "text/plain": [
       "Id       Name  Symmetry       Color\n",
       " 1  austenite       432    tab:blue\n",
       " 2    ferrite       432  tab:orange"
      ]
     },
     "execution_count": 21,
     "metadata": {},
     "output_type": "execute_result"
    }
   ],
   "source": [
    "print(CrystalMap.phases_in_data.__doc__)\n",
    "cm.phases_in_data"
   ]
  },
  {
   "cell_type": "code",
   "execution_count": 22,
   "metadata": {},
   "outputs": [
    {
     "name": "stdout",
     "output_type": "stream",
     "text": [
      "Return a :class:`~orix.crystal_map.CrystalMapProperties`\n",
      "        dictionary with data properties.\n",
      "        \n"
     ]
    },
    {
     "data": {
      "text/plain": [
       "{'dp': array([0.799, 0.797, 0.825, ..., 0.817, 0.809, 0.828]),\n",
       " 'iq': array([24.4, 24. , 30.3, ..., 25.3, 25.8, 31.7])}"
      ]
     },
     "execution_count": 22,
     "metadata": {},
     "output_type": "execute_result"
    }
   ],
   "source": [
    "print(CrystalMap.prop.__doc__)\n",
    "cm.prop"
   ]
  },
  {
   "cell_type": "code",
   "execution_count": 23,
   "metadata": {},
   "outputs": [
    {
     "name": "stdout",
     "output_type": "stream",
     "text": [
      "Return a Rotation object of rotations in the data.\n"
     ]
    },
    {
     "data": {
      "text/plain": [
       "Rotation (11700,)\n",
       "[[ 0.9358 -0.3191 -0.0919  0.1185]\n",
       " [ 0.8686 -0.3569  0.2749  0.2064]\n",
       " [ 0.8681 -0.3581  0.2744  0.2068]\n",
       " ...\n",
       " [ 0.9126  0.3022  0.1552 -0.2275]\n",
       " [ 0.8854 -0.3337  0.2385 -0.2187]\n",
       " [ 0.885  -0.3341  0.2391 -0.2193]]"
      ]
     },
     "execution_count": 23,
     "metadata": {},
     "output_type": "execute_result"
    }
   ],
   "source": [
    "print(CrystalMap.rotations.__doc__)\n",
    "cm.rotations"
   ]
  },
  {
   "cell_type": "code",
   "execution_count": 24,
   "metadata": {},
   "outputs": [
    {
     "name": "stdout",
     "output_type": "stream",
     "text": [
      "Return shape of points in the data.\n"
     ]
    },
    {
     "data": {
      "text/plain": [
       "(100, 117)"
      ]
     },
     "execution_count": 24,
     "metadata": {},
     "output_type": "execute_result"
    }
   ],
   "source": [
    "print(CrystalMap.shape.__doc__)\n",
    "cm.shape"
   ]
  },
  {
   "cell_type": "code",
   "execution_count": 25,
   "metadata": {},
   "outputs": [
    {
     "name": "stdout",
     "output_type": "stream",
     "text": [
      "Return total number of points in the data.\n",
      "11700\n",
      "5657\n"
     ]
    }
   ],
   "source": [
    "print(CrystalMap.size.__doc__)\n",
    "print(cm.size)\n",
    "print(cm[\"austenite\"].size)"
   ]
  },
  {
   "cell_type": "markdown",
   "metadata": {},
   "source": [
    "Indexing/slicing ..."
   ]
  },
  {
   "cell_type": "markdown",
   "metadata": {},
   "source": [
    "... by map position (slices)"
   ]
  },
  {
   "cell_type": "code",
   "execution_count": 26,
   "metadata": {},
   "outputs": [
    {
     "data": {
      "text/plain": [
       "Phase   Orientations       Name  Symmetry       Color\n",
       "    1    148 (74.0%)  austenite       432    tab:blue\n",
       "    2     52 (26.0%)    ferrite       432  tab:orange\n",
       "Properties: dp, iq\n",
       "Scan unit: um"
      ]
     },
     "execution_count": 26,
     "metadata": {},
     "output_type": "execute_result"
    }
   ],
   "source": [
    "(y0, y1) = (20, 40)\n",
    "(x0, x1) = (50, 60)\n",
    "cm1 = cm[y0:y1, x0:x1]\n",
    "cm1"
   ]
  },
  {
   "cell_type": "code",
   "execution_count": 27,
   "metadata": {},
   "outputs": [
    {
     "data": {
      "text/plain": [
       "200"
      ]
     },
     "execution_count": 27,
     "metadata": {},
     "output_type": "execute_result"
    }
   ],
   "source": [
    "cm1.size"
   ]
  },
  {
   "cell_type": "markdown",
   "metadata": {},
   "source": [
    "... by phase name"
   ]
  },
  {
   "cell_type": "code",
   "execution_count": 28,
   "metadata": {},
   "outputs": [
    {
     "data": {
      "text/plain": [
       "Phase   Orientations       Name  Symmetry     Color\n",
       "    1  5657 (100.0%)  austenite       432  tab:blue\n",
       "Properties: dp, iq\n",
       "Scan unit: um"
      ]
     },
     "execution_count": 28,
     "metadata": {},
     "output_type": "execute_result"
    }
   ],
   "source": [
    "cm2 = cm['austenite']\n",
    "cm2"
   ]
  },
  {
   "cell_type": "code",
   "execution_count": 29,
   "metadata": {},
   "outputs": [
    {
     "data": {
      "text/plain": [
       "0.4835042735042735"
      ]
     },
     "execution_count": 29,
     "metadata": {},
     "output_type": "execute_result"
    }
   ],
   "source": [
    "cm2.size / cm.size"
   ]
  },
  {
   "cell_type": "code",
   "execution_count": 30,
   "metadata": {},
   "outputs": [
    {
     "data": {
      "text/plain": [
       "Phase   Orientations       Name  Symmetry       Color\n",
       "    1   5657 (48.4%)  austenite       432    tab:blue\n",
       "    2   6043 (51.6%)    ferrite       432  tab:orange\n",
       "Properties: dp, iq\n",
       "Scan unit: um"
      ]
     },
     "execution_count": 30,
     "metadata": {},
     "output_type": "execute_result"
    }
   ],
   "source": [
    "cm['austenite', 'ferrite']"
   ]
  },
  {
   "cell_type": "markdown",
   "metadata": {},
   "source": [
    "... by (chained) conditional(s)"
   ]
  },
  {
   "cell_type": "code",
   "execution_count": 31,
   "metadata": {},
   "outputs": [
    {
     "data": {
      "text/plain": [
       "Phase   Orientations       Name  Symmetry     Color\n",
       "    1  5657 (100.0%)  austenite       432  tab:blue\n",
       "Properties: dp, iq\n",
       "Scan unit: um"
      ]
     },
     "execution_count": 31,
     "metadata": {},
     "output_type": "execute_result"
    }
   ],
   "source": [
    "cm[cm.phase_id == 1]"
   ]
  },
  {
   "cell_type": "code",
   "execution_count": 32,
   "metadata": {},
   "outputs": [
    {
     "data": {
      "text/plain": [
       "Phase   Orientations       Name  Symmetry       Color\n",
       "    1   4092 (44.8%)  austenite       432    tab:blue\n",
       "    2   5035 (55.2%)    ferrite       432  tab:orange\n",
       "Properties: dp, iq\n",
       "Scan unit: um"
      ]
     },
     "execution_count": 32,
     "metadata": {},
     "output_type": "execute_result"
    }
   ],
   "source": [
    "cm[cm.dp > 0.81]"
   ]
  },
  {
   "cell_type": "code",
   "execution_count": 33,
   "metadata": {},
   "outputs": [
    {
     "data": {
      "text/plain": [
       "Phase   Orientations       Name  Symmetry     Color\n",
       "    1  1890 (100.0%)  austenite       432  tab:blue\n",
       "Properties: dp, iq\n",
       "Scan unit: um"
      ]
     },
     "execution_count": 33,
     "metadata": {},
     "output_type": "execute_result"
    }
   ],
   "source": [
    "cm[(cm.iq > np.mean(cm.iq)) & (cm.phase_id == 1)]"
   ]
  },
  {
   "cell_type": "markdown",
   "metadata": {},
   "source": [
    "Add property"
   ]
  },
  {
   "cell_type": "code",
   "execution_count": 34,
   "metadata": {},
   "outputs": [
    {
     "name": "stdout",
     "output_type": "stream",
     "text": [
      "Phase   Orientations       Name  Symmetry       Color\n",
      "    1   5657 (48.4%)  austenite       432    tab:blue\n",
      "    2   6043 (51.6%)    ferrite       432  tab:orange\n",
      "Properties: dp, iq, dp_times_iq\n",
      "Scan unit: um\n",
      "\n",
      " [19.4956 19.128  24.9975 ... 20.6701 20.8722 26.2476]\n"
     ]
    }
   ],
   "source": [
    "cm.prop['dp_times_iq'] = cm.dp * cm.iq\n",
    "print(cm)\n",
    "print(\"\\n\", cm.dp_times_iq)"
   ]
  },
  {
   "cell_type": "markdown",
   "metadata": {},
   "source": [
    "# <a id='phaselist'></a> 4. PhaseList"
   ]
  },
  {
   "cell_type": "code",
   "execution_count": 35,
   "metadata": {},
   "outputs": [
    {
     "name": "stdout",
     "output_type": "stream",
     "text": [
      "A list of phases in a crystallographic map.\n",
      "\n",
      "    Each phase in the list must have a unique phase id and name.\n",
      "\n",
      "    Attributes\n",
      "    ----------\n",
      "    size : int\n",
      "        Number of phases in list.\n",
      "    names : list of str\n",
      "        List of phase names.\n",
      "    symmetries : list of orix.quaternion.symmetry.Symmetry\n",
      "        List of phase crystal symmetries.\n",
      "    colors : list of tuple\n",
      "        List of tuples with three entries, RGB, defining phase colors.\n",
      "    phase_ids : list of int\n",
      "        List of unique phase indices in a crystallographic map as imported.\n",
      "\n",
      "    Methods\n",
      "    -------\n",
      "    deepcopy()\n",
      "        Return a deep copy using :py:func:`~copy.deepcopy` function.\n",
      "    add_not_indexed()\n",
      "        Add a dummy phase to assign to not indexed data points.\n",
      "    sort_by_id()\n",
      "        Sort list according to phase ID.\n",
      "    \n"
     ]
    }
   ],
   "source": [
    "print(PhaseList.__doc__)"
   ]
  },
  {
   "cell_type": "markdown",
   "metadata": {},
   "source": [
    "Get from CrystalMap"
   ]
  },
  {
   "cell_type": "code",
   "execution_count": 36,
   "metadata": {},
   "outputs": [
    {
     "data": {
      "text/plain": [
       "Id       Name  Symmetry       Color\n",
       " 1  austenite       432    tab:blue\n",
       " 2    ferrite       432  tab:orange"
      ]
     },
     "execution_count": 36,
     "metadata": {},
     "output_type": "execute_result"
    }
   ],
   "source": [
    "phases = cm.phases  # As shown above\n",
    "phases"
   ]
  },
  {
   "cell_type": "markdown",
   "metadata": {},
   "source": [
    "Custom, private attributes"
   ]
  },
  {
   "cell_type": "code",
   "execution_count": 37,
   "metadata": {},
   "outputs": [
    {
     "data": {
      "text/plain": [
       "['_dict']"
      ]
     },
     "execution_count": 37,
     "metadata": {},
     "output_type": "execute_result"
    }
   ],
   "source": [
    "[i for i in dir(phases) if i.startswith('_') and not i.endswith('__')]"
   ]
  },
  {
   "cell_type": "markdown",
   "metadata": {},
   "source": [
    "Public attributes"
   ]
  },
  {
   "cell_type": "code",
   "execution_count": 38,
   "metadata": {},
   "outputs": [
    {
     "data": {
      "text/plain": [
       "['add_not_indexed',\n",
       " 'colors',\n",
       " 'colors_rgb',\n",
       " 'deepcopy',\n",
       " 'names',\n",
       " 'phase_ids',\n",
       " 'size',\n",
       " 'sort_by_id',\n",
       " 'symmetries']"
      ]
     },
     "execution_count": 38,
     "metadata": {},
     "output_type": "execute_result"
    }
   ],
   "source": [
    "[i for i in dir(phases) if not i.startswith('_')]"
   ]
  },
  {
   "cell_type": "markdown",
   "metadata": {},
   "source": [
    "Inspect properties"
   ]
  },
  {
   "cell_type": "code",
   "execution_count": 39,
   "metadata": {},
   "outputs": [
    {
     "name": "stdout",
     "output_type": "stream",
     "text": [
      "Return number of phases in the list.\n"
     ]
    },
    {
     "data": {
      "text/plain": [
       "2"
      ]
     },
     "execution_count": 39,
     "metadata": {},
     "output_type": "execute_result"
    }
   ],
   "source": [
    "print(PhaseList.size.__doc__)\n",
    "phases.size"
   ]
  },
  {
   "cell_type": "code",
   "execution_count": 40,
   "metadata": {},
   "outputs": [
    {
     "name": "stdout",
     "output_type": "stream",
     "text": [
      "Return unique phase IDs in the list of phases.\n"
     ]
    },
    {
     "data": {
      "text/plain": [
       "[1, 2]"
      ]
     },
     "execution_count": 40,
     "metadata": {},
     "output_type": "execute_result"
    }
   ],
   "source": [
    "print(PhaseList.phase_ids.__doc__)\n",
    "phases.phase_ids"
   ]
  },
  {
   "cell_type": "code",
   "execution_count": 41,
   "metadata": {},
   "outputs": [
    {
     "name": "stdout",
     "output_type": "stream",
     "text": [
      "Return a list of phase names in the list.\n"
     ]
    },
    {
     "data": {
      "text/plain": [
       "['austenite', 'ferrite']"
      ]
     },
     "execution_count": 41,
     "metadata": {},
     "output_type": "execute_result"
    }
   ],
   "source": [
    "print(PhaseList.names.__doc__)\n",
    "phases.names"
   ]
  },
  {
   "cell_type": "code",
   "execution_count": 42,
   "metadata": {},
   "outputs": [
    {
     "name": "stdout",
     "output_type": "stream",
     "text": [
      "Return a list of crystal symmetries of phases in the list.\n"
     ]
    },
    {
     "data": {
      "text/plain": [
       "[Symmetry (24,) 432\n",
       " [[ 1.      0.      0.      0.    ]\n",
       "  [ 0.7071  0.      0.      0.7071]\n",
       "  [ 0.      0.      0.      1.    ]\n",
       "  [-0.7071  0.      0.      0.7071]\n",
       "  [ 0.5     0.5     0.5     0.5   ]\n",
       "  [ 0.      0.      0.7071  0.7071]\n",
       "  [-0.5    -0.5     0.5     0.5   ]\n",
       "  [-0.7071 -0.7071  0.      0.    ]\n",
       "  [ 0.      1.      0.      0.    ]\n",
       "  [ 0.      0.7071  0.7071  0.    ]\n",
       "  [ 0.      0.      1.      0.    ]\n",
       "  [ 0.     -0.7071  0.7071  0.    ]\n",
       "  [-0.5     0.5     0.5    -0.5   ]\n",
       "  [ 0.      0.      0.7071 -0.7071]\n",
       "  [ 0.5    -0.5     0.5    -0.5   ]\n",
       "  [ 0.7071 -0.7071  0.      0.    ]\n",
       "  [ 0.      0.7071  0.      0.7071]\n",
       "  [-0.5     0.5     0.5     0.5   ]\n",
       "  [-0.7071  0.      0.7071  0.    ]\n",
       "  [-0.5    -0.5     0.5    -0.5   ]\n",
       "  [ 0.      0.7071  0.     -0.7071]\n",
       "  [ 0.5     0.5     0.5    -0.5   ]\n",
       "  [ 0.7071  0.      0.7071  0.    ]\n",
       "  [ 0.5    -0.5     0.5     0.5   ]],\n",
       " Symmetry (24,) 432\n",
       " [[ 1.      0.      0.      0.    ]\n",
       "  [ 0.7071  0.      0.      0.7071]\n",
       "  [ 0.      0.      0.      1.    ]\n",
       "  [-0.7071  0.      0.      0.7071]\n",
       "  [ 0.5     0.5     0.5     0.5   ]\n",
       "  [ 0.      0.      0.7071  0.7071]\n",
       "  [-0.5    -0.5     0.5     0.5   ]\n",
       "  [-0.7071 -0.7071  0.      0.    ]\n",
       "  [ 0.      1.      0.      0.    ]\n",
       "  [ 0.      0.7071  0.7071  0.    ]\n",
       "  [ 0.      0.      1.      0.    ]\n",
       "  [ 0.     -0.7071  0.7071  0.    ]\n",
       "  [-0.5     0.5     0.5    -0.5   ]\n",
       "  [ 0.      0.      0.7071 -0.7071]\n",
       "  [ 0.5    -0.5     0.5    -0.5   ]\n",
       "  [ 0.7071 -0.7071  0.      0.    ]\n",
       "  [ 0.      0.7071  0.      0.7071]\n",
       "  [-0.5     0.5     0.5     0.5   ]\n",
       "  [-0.7071  0.      0.7071  0.    ]\n",
       "  [-0.5    -0.5     0.5    -0.5   ]\n",
       "  [ 0.      0.7071  0.     -0.7071]\n",
       "  [ 0.5     0.5     0.5    -0.5   ]\n",
       "  [ 0.7071  0.      0.7071  0.    ]\n",
       "  [ 0.5    -0.5     0.5     0.5   ]]]"
      ]
     },
     "execution_count": 42,
     "metadata": {},
     "output_type": "execute_result"
    }
   ],
   "source": [
    "print(PhaseList.symmetries.__doc__)\n",
    "phases.symmetries"
   ]
  },
  {
   "cell_type": "code",
   "execution_count": 43,
   "metadata": {},
   "outputs": [
    {
     "name": "stdout",
     "output_type": "stream",
     "text": [
      "Return a list of phase color names in the list.\n"
     ]
    },
    {
     "data": {
      "text/plain": [
       "['tab:blue', 'tab:orange']"
      ]
     },
     "execution_count": 43,
     "metadata": {},
     "output_type": "execute_result"
    }
   ],
   "source": [
    "print(PhaseList.colors.__doc__)\n",
    "phases.colors"
   ]
  },
  {
   "cell_type": "code",
   "execution_count": 44,
   "metadata": {},
   "outputs": [
    {
     "name": "stdout",
     "output_type": "stream",
     "text": [
      "Return a list of phase color RGB values in the list.\n"
     ]
    },
    {
     "data": {
      "text/plain": [
       "[(0.12156862745098039, 0.4666666666666667, 0.7058823529411765),\n",
       " (1.0, 0.4980392156862745, 0.054901960784313725)]"
      ]
     },
     "execution_count": 44,
     "metadata": {},
     "output_type": "execute_result"
    }
   ],
   "source": [
    "print(PhaseList.colors_rgb.__doc__)\n",
    "phases.colors_rgb"
   ]
  },
  {
   "cell_type": "markdown",
   "metadata": {},
   "source": [
    "Add \"not_indexed\" to phase list"
   ]
  },
  {
   "cell_type": "code",
   "execution_count": 45,
   "metadata": {},
   "outputs": [
    {
     "name": "stdout",
     "output_type": "stream",
     "text": [
      "Add a dummy phase to assign to not indexed data points.\n",
      "\n",
      "        The phase, named \"not_indexed\", has a \"symmetry\" equal to None, and\n",
      "        a white color when plotted.\n",
      "        \n",
      "Id         Name  Symmetry       Color\n",
      "-1  not_indexed      None           w\n",
      " 1    austenite       432    tab:blue\n",
      " 2      ferrite       432  tab:orange\n",
      "\n"
     ]
    }
   ],
   "source": [
    "print(PhaseList.add_not_indexed.__doc__)\n",
    "phases.add_not_indexed()\n",
    "print(phases)"
   ]
  },
  {
   "cell_type": "markdown",
   "metadata": {},
   "source": [
    "Initialize a PhaseList..."
   ]
  },
  {
   "cell_type": "code",
   "execution_count": 46,
   "metadata": {},
   "outputs": [
    {
     "name": "stdout",
     "output_type": "stream",
     "text": [
      "\n",
      "        Parameters\n",
      "        ----------\n",
      "        phases : orix.crystal_map.Phase, a list of orix.crystal_map.Phase                or a dictionary of orix.crystal_map.Phase\n",
      "            A list or dict of phases or a single phase. The other arguments\n",
      "            are ignored if this is passed.\n",
      "        names : str or list of str\n",
      "            Phase names.\n",
      "        symmetries : str or list of str\n",
      "            Point group symmetries.\n",
      "        colors : str or list of str\n",
      "            Phase colors.\n",
      "        phase_ids : int, list of int or numpy.ndarray of int\n",
      "            Phase IDs.\n",
      "        \n"
     ]
    }
   ],
   "source": [
    "print(PhaseList.__init__.__doc__)"
   ]
  },
  {
   "cell_type": "markdown",
   "metadata": {},
   "source": [
    "... from input"
   ]
  },
  {
   "cell_type": "code",
   "execution_count": 47,
   "metadata": {},
   "outputs": [
    {
     "data": {
      "text/plain": [
       "Id  Name  Symmetry        Color\n",
       " 0    al      m-3m         lime\n",
       " 1    cu      m-3m  xkcd:violet"
      ]
     },
     "execution_count": 47,
     "metadata": {},
     "output_type": "execute_result"
    }
   ],
   "source": [
    "PhaseList(\n",
    "    names=['al', 'cu'],\n",
    "    symmetries=['m-3m', 'm3m'],  # Note that m3m = m-3m\n",
    "    colors=['lime', 'xkcd:violet'],\n",
    "    phase_ids=[0, 1],\n",
    ")"
   ]
  },
  {
   "cell_type": "markdown",
   "metadata": {},
   "source": [
    "... from a list of Phase objects"
   ]
  },
  {
   "cell_type": "code",
   "execution_count": 48,
   "metadata": {},
   "outputs": [
    {
     "data": {
      "text/plain": [
       "Id  Name  Symmetry     Color\n",
       " 0    al      m-3m  tab:blue"
      ]
     },
     "execution_count": 48,
     "metadata": {},
     "output_type": "execute_result"
    }
   ],
   "source": [
    "al = Phase(name='al', symmetry='m-3m')\n",
    "cu = Phase(name='cu')\n",
    "\n",
    "#PhaseList([al, cu])  # Not working, will implement\n",
    "PhaseList(al)"
   ]
  },
  {
   "cell_type": "markdown",
   "metadata": {},
   "source": [
    "Index PhaseList..."
   ]
  },
  {
   "cell_type": "code",
   "execution_count": 49,
   "metadata": {},
   "outputs": [
    {
     "name": "stdout",
     "output_type": "stream",
     "text": [
      "Return a PhaseList or a Phase object, depending on input.\n",
      "\n",
      "        Examples\n",
      "        --------\n",
      "        A PhaseList object can be indexed in multiple ways.\n",
      "\n",
      "        >>> pl = PhaseList(names=['a', 'b'], symmetries=['1', '3'])\n",
      "        >>> pl\n",
      "        Id  Name  Symmetry  Color\n",
      "        0   a     1         tab:blue\n",
      "        1   b     3         tab:orange\n",
      "\n",
      "        Return a Phase object\n",
      "\n",
      "        >>> pl[0]  # Index with a single phase id\n",
      "        <name: a. symmetry: 1. color: tab:blue>\n",
      "        >>> pl['b']  # Index with a phase name\n",
      "        <name: b. symmetry: 3. color: tab:orange>\n",
      "\n",
      "        Return a PhaseList object\n",
      "\n",
      "        >>> pl[0:]  # Index with slices\n",
      "        Id  Name  Symmetry  Color\n",
      "        0   a     1         tab:blue\n",
      "        1   b     3         tab:orange\n",
      "        >>> pl['a', 'b']  # Index with a tuple of phase names\n",
      "        Id  Name  Symmetry  Color\n",
      "        0   a     1         tab:blue\n",
      "        1   b     3         tab:orange\n",
      "        >>> pl[0, 1]  # Index with a tuple of phase ids\n",
      "        Id  Name  Symmetry  Color\n",
      "        0   a     1         tab:blue\n",
      "        1   b     3         tab:orange\n",
      "        >>> pl[[0, 1]]  # Index with a list of phase_ids\n",
      "        Id  Name  Symmetry  Color\n",
      "        0   a     1         tab:blue\n",
      "        1   b     3         tab:orange\n",
      "        >>> pl[np.array([0, 1])]  # Index with a numpy.ndarray\n",
      "        Id  Name  Symmetry  Color\n",
      "        0   a     1         tab:blue\n",
      "        1   b     3         tab:orange\n",
      "        \n"
     ]
    }
   ],
   "source": [
    "print(PhaseList.__getitem__.__doc__)\n",
    "# This doc should perhaps be moved to a more accessible place"
   ]
  },
  {
   "cell_type": "markdown",
   "metadata": {},
   "source": [
    "... by phase name"
   ]
  },
  {
   "cell_type": "code",
   "execution_count": 50,
   "metadata": {},
   "outputs": [
    {
     "data": {
      "text/plain": [
       "<name: austenite. symmetry: 432. color: tab:blue>"
      ]
     },
     "execution_count": 50,
     "metadata": {},
     "output_type": "execute_result"
    }
   ],
   "source": [
    "phases['austenite']"
   ]
  },
  {
   "cell_type": "code",
   "execution_count": 51,
   "metadata": {},
   "outputs": [
    {
     "data": {
      "text/plain": [
       "Id       Name  Symmetry       Color\n",
       " 1  austenite       432    tab:blue\n",
       " 2    ferrite       432  tab:orange"
      ]
     },
     "execution_count": 51,
     "metadata": {},
     "output_type": "execute_result"
    }
   ],
   "source": [
    "phases['austenite', 'ferrite']"
   ]
  },
  {
   "cell_type": "markdown",
   "metadata": {},
   "source": [
    "... by phase id"
   ]
  },
  {
   "cell_type": "code",
   "execution_count": 52,
   "metadata": {},
   "outputs": [
    {
     "data": {
      "text/plain": [
       "<name: austenite. symmetry: 432. color: tab:blue>"
      ]
     },
     "execution_count": 52,
     "metadata": {},
     "output_type": "execute_result"
    }
   ],
   "source": [
    "phases[1]"
   ]
  },
  {
   "cell_type": "code",
   "execution_count": 53,
   "metadata": {},
   "outputs": [
    {
     "data": {
      "text/plain": [
       "Id       Name  Symmetry       Color\n",
       " 1  austenite       432    tab:blue\n",
       " 2    ferrite       432  tab:orange"
      ]
     },
     "execution_count": 53,
     "metadata": {},
     "output_type": "execute_result"
    }
   ],
   "source": [
    "phases[1, 2]"
   ]
  },
  {
   "cell_type": "markdown",
   "metadata": {},
   "source": [
    "... by slice"
   ]
  },
  {
   "cell_type": "code",
   "execution_count": 54,
   "metadata": {},
   "outputs": [
    {
     "data": {
      "text/plain": [
       "Id       Name  Symmetry       Color\n",
       " 1  austenite       432    tab:blue\n",
       " 2    ferrite       432  tab:orange"
      ]
     },
     "execution_count": 54,
     "metadata": {},
     "output_type": "execute_result"
    }
   ],
   "source": [
    "phases[1:]"
   ]
  },
  {
   "cell_type": "markdown",
   "metadata": {},
   "source": [
    "Add phase to PhaseList"
   ]
  },
  {
   "cell_type": "code",
   "execution_count": 55,
   "metadata": {},
   "outputs": [
    {
     "data": {
      "text/plain": [
       "Id         Name  Symmetry       Color\n",
       "-1  not_indexed      None           w\n",
       " 1    austenite       432    tab:blue\n",
       " 2      ferrite       432  tab:orange\n",
       " 3        sigma     4/mmm   tab:green"
      ]
     },
     "execution_count": 55,
     "metadata": {},
     "output_type": "execute_result"
    }
   ],
   "source": [
    "phases2 = phases.deepcopy()\n",
    "phases2['sigma'] = '4/mmm'\n",
    "phases2"
   ]
  },
  {
   "cell_type": "markdown",
   "metadata": {},
   "source": [
    "# <a id='phase'></a> 5. Phase"
   ]
  },
  {
   "cell_type": "code",
   "execution_count": 56,
   "metadata": {},
   "outputs": [
    {
     "name": "stdout",
     "output_type": "stream",
     "text": [
      "Name, crystal symmetry, and color of a phase in a crystallographic\n",
      "    map.\n",
      "\n",
      "    Attributes\n",
      "    ----------\n",
      "    name : str\n",
      "        Phase name.\n",
      "    symmetry : orix.quaternion.symmetries.Symmetry\n",
      "        Crystal symmetries of the phase.\n",
      "    color : str\n",
      "        Name of phase color in Matplotlib's list of named colors.\n",
      "    color_rgb : tuple\n",
      "        RGB values of phase color, obtained from the color name.\n",
      "\n",
      "    Methods\n",
      "    -------\n",
      "    deepcopy()\n",
      "        Return a deep copy using :py:func:`~copy.deepcopy` function.\n",
      "    \n"
     ]
    }
   ],
   "source": [
    "print(Phase.__doc__)"
   ]
  },
  {
   "cell_type": "markdown",
   "metadata": {},
   "source": [
    "No custom, private attributes."
   ]
  },
  {
   "cell_type": "markdown",
   "metadata": {},
   "source": [
    "Public attributes"
   ]
  },
  {
   "cell_type": "code",
   "execution_count": 57,
   "metadata": {},
   "outputs": [
    {
     "data": {
      "text/plain": [
       "['color', 'color_rgb', 'deepcopy', 'name', 'symmetry']"
      ]
     },
     "execution_count": 57,
     "metadata": {},
     "output_type": "execute_result"
    }
   ],
   "source": [
    "[i for i in dir(Phase) if not i.startswith('_')]"
   ]
  },
  {
   "cell_type": "code",
   "execution_count": 58,
   "metadata": {},
   "outputs": [
    {
     "name": "stdout",
     "output_type": "stream",
     "text": [
      "Return phase color.\n"
     ]
    }
   ],
   "source": [
    "print(Phase.color.__doc__)"
   ]
  },
  {
   "cell_type": "markdown",
   "metadata": {},
   "source": [
    "From PhaseList by..."
   ]
  },
  {
   "cell_type": "markdown",
   "metadata": {},
   "source": [
    "... phase name"
   ]
  },
  {
   "cell_type": "code",
   "execution_count": 59,
   "metadata": {},
   "outputs": [
    {
     "data": {
      "text/plain": [
       "<name: austenite. symmetry: 432. color: tab:blue>"
      ]
     },
     "execution_count": 59,
     "metadata": {},
     "output_type": "execute_result"
    }
   ],
   "source": [
    "phases['austenite']"
   ]
  },
  {
   "cell_type": "markdown",
   "metadata": {},
   "source": [
    "... phase ID"
   ]
  },
  {
   "cell_type": "code",
   "execution_count": 60,
   "metadata": {},
   "outputs": [
    {
     "data": {
      "text/plain": [
       "<name: austenite. symmetry: 432. color: tab:blue>"
      ]
     },
     "execution_count": 60,
     "metadata": {},
     "output_type": "execute_result"
    }
   ],
   "source": [
    "phases[1]"
   ]
  },
  {
   "cell_type": "markdown",
   "metadata": {},
   "source": [
    "Initialize"
   ]
  },
  {
   "cell_type": "code",
   "execution_count": 61,
   "metadata": {},
   "outputs": [
    {
     "data": {
      "text/plain": [
       "<name: au. symmetry: m-3m. color: salmon>"
      ]
     },
     "execution_count": 61,
     "metadata": {},
     "output_type": "execute_result"
    }
   ],
   "source": [
    "Phase('au', symmetry='m-3m', color='salmon')"
   ]
  },
  {
   "cell_type": "markdown",
   "metadata": {},
   "source": [
    "# <a id='examples'></a> 6. Examples"
   ]
  },
  {
   "cell_type": "markdown",
   "metadata": {},
   "source": [
    "All map plotting is done via a so-called Matplotlib \"projection\" named \"plot_map\". To plot a phase map"
   ]
  },
  {
   "cell_type": "code",
   "execution_count": 62,
   "metadata": {},
   "outputs": [],
   "source": [
    "fig = plt.figure()\n",
    "ax = fig.add_subplot(projection=\"plot_map\")\n",
    "im = ax.plot_map(cm)"
   ]
  },
  {
   "cell_type": "markdown",
   "metadata": {},
   "source": [
    "Hover over figure pixels to display the (x,y) position and orientations in that pixel!"
   ]
  },
  {
   "cell_type": "markdown",
   "metadata": {},
   "source": [
    "We can set new colors if we aren't satisfied with Matplotlib's default colors"
   ]
  },
  {
   "cell_type": "code",
   "execution_count": 63,
   "metadata": {},
   "outputs": [],
   "source": [
    "cm.phases[\"austenite\"].color = (0, 1, 1)\n",
    "cm.phases[\"ferrite\"].color = \"xkcd:violet\"\n",
    "\n",
    "fig = plt.figure()\n",
    "ax = fig.add_subplot(projection=\"plot_map\")\n",
    "im = ax.plot_map(cm)"
   ]
  },
  {
   "cell_type": "markdown",
   "metadata": {},
   "source": [
    "We can add any overlay to our map"
   ]
  },
  {
   "cell_type": "code",
   "execution_count": 64,
   "metadata": {},
   "outputs": [],
   "source": [
    "ax.add_overlay(cm, cm.dp)"
   ]
  },
  {
   "cell_type": "markdown",
   "metadata": {},
   "source": [
    "Save phase map with scalebar and legend but without white padding"
   ]
  },
  {
   "cell_type": "code",
   "execution_count": 65,
   "metadata": {},
   "outputs": [],
   "source": [
    "ax.remove_padding()\n",
    "fig.savefig(\n",
    "    os.path.join(datadir, 'phase_map.png'),\n",
    "    bbox_inches=\"tight\",\n",
    "    pad_inches=0,\n",
    "    dpi=300,  # Dots per inch\n",
    ")"
   ]
  },
  {
   "cell_type": "markdown",
   "metadata": {},
   "source": [
    "Save phase map without scalebar, legend and white padding, and one image pixel per map pixel "
   ]
  },
  {
   "cell_type": "code",
   "execution_count": 66,
   "metadata": {},
   "outputs": [],
   "source": [
    "plt.imsave(\n",
    "    os.path.join(datadir, 'phase_no_fluff.png'),\n",
    "    arr=im.get_array()\n",
    ")"
   ]
  },
  {
   "cell_type": "markdown",
   "metadata": {},
   "source": [
    "We can plot arbitrary properties"
   ]
  },
  {
   "cell_type": "code",
   "execution_count": 67,
   "metadata": {},
   "outputs": [],
   "source": [
    "fig = plt.figure()\n",
    "ax = fig.add_subplot(projection=\"plot_map\")\n",
    "im = ax.plot_map(cm, cm.dp, cmap=\"inferno\")"
   ]
  },
  {
   "cell_type": "markdown",
   "metadata": {},
   "source": [
    "And change the colormap later"
   ]
  },
  {
   "cell_type": "code",
   "execution_count": 68,
   "metadata": {},
   "outputs": [],
   "source": [
    "im.set_cmap(\"viridis\")"
   ]
  },
  {
   "cell_type": "markdown",
   "metadata": {},
   "source": [
    "And add a colorbar if we want"
   ]
  },
  {
   "cell_type": "code",
   "execution_count": 69,
   "metadata": {},
   "outputs": [],
   "source": [
    "cbar = ax.add_colorbar(title=\"Oops\")"
   ]
  },
  {
   "cell_type": "code",
   "execution_count": 70,
   "metadata": {},
   "outputs": [],
   "source": [
    "cbar.ax.set_ylabel(\"Dot product\", rotation=270);"
   ]
  },
  {
   "cell_type": "markdown",
   "metadata": {},
   "source": [
    "We can also plot orientation related values, like axis and angles etc., and restrict the color bar maximum"
   ]
  },
  {
   "cell_type": "code",
   "execution_count": 71,
   "metadata": {},
   "outputs": [],
   "source": [
    "# Get rotation angles in degrees\n",
    "angles = cm.rotations.angle.data * 180 / np.pi\n",
    "\n",
    "fig = plt.figure()\n",
    "ax = fig.add_subplot(projection=\"plot_map\")\n",
    "im = ax.plot_map(cm, angles, vmax=angles.max() - 10)\n",
    "ax.add_overlay(cm, cm.dp)\n",
    "ax.add_colorbar(title=\"Rotation angle\");"
   ]
  },
  {
   "cell_type": "code",
   "execution_count": 72,
   "metadata": {},
   "outputs": [
    {
     "data": {
      "text/plain": [
       "Id         Name  Symmetry        Color\n",
       "-1  not_indexed      None            w\n",
       " 1    austenite       432         aqua\n",
       " 2      ferrite       432  xkcd:violet"
      ]
     },
     "execution_count": 72,
     "metadata": {},
     "output_type": "execute_result"
    }
   ],
   "source": [
    "cm.phases"
   ]
  },
  {
   "cell_type": "code",
   "execution_count": 73,
   "metadata": {},
   "outputs": [
    {
     "name": "stderr",
     "output_type": "stream",
     "text": [
      "Clipping input data to the valid range for imshow with RGB data ([0..1] for floats or [0..255] for integers).\n"
     ]
    }
   ],
   "source": [
    "fig = plt.figure()\n",
    "ax = fig.add_subplot(projection=\"plot_map\")\n",
    "im = ax.plot_map(cm, \"orientations\")\n",
    "ax.add_overlay(cm, cm.dp)"
   ]
  },
  {
   "cell_type": "code",
   "execution_count": 74,
   "metadata": {},
   "outputs": [
    {
     "name": "stderr",
     "output_type": "stream",
     "text": [
      "Clipping input data to the valid range for imshow with RGB data ([0..1] for floats or [0..255] for integers).\n"
     ]
    }
   ],
   "source": [
    "fig = plt.figure()\n",
    "ax = fig.add_subplot(projection=\"plot_map\")\n",
    "im = ax.plot_map(cm, cm.rotations.axis)\n",
    "ax.add_overlay(cm, cm.dp)"
   ]
  },
  {
   "cell_type": "markdown",
   "metadata": {},
   "source": [
    "Plot only one phase, while passing custom:\n",
    "* scalebar properties (https://matplotlib.org/mpl_toolkits/axes_grid/api/anchored_artists_api.html#mpl_toolkits.axes_grid1.anchored_artists.AnchoredSizeBar)\n",
    "* legend properties (https://matplotlib.org/3.2.1/api/_as_gen/matplotlib.pyplot.legend.html)"
   ]
  },
  {
   "cell_type": "code",
   "execution_count": 75,
   "metadata": {},
   "outputs": [],
   "source": [
    "fig = plt.figure()\n",
    "ax = fig.add_subplot(projection=\"plot_map\")\n",
    "im = ax.plot_map(\n",
    "    cm[\"austenite\"],\n",
    "    scalebar=True,  # False for removed\n",
    "    scalebar_properties={\n",
    "        \"loc\": 4,  # 1: upper right, 2: upper left, etc. counter-clockwise\n",
    "        \"frameon\": False,\n",
    "        \"sep\": 6,  # Vertical spacing between bar and text\n",
    "        \"size_vertical\": 0.2,  # Bar height\n",
    "    },\n",
    "    legend_properties={\n",
    "        \"framealpha\": 1,  # 0: fully transparent, 1: opaque\n",
    "        \"handlelength\": 1.5,  # Colored square width\n",
    "        \"handletextpad\": 0.1,  # Horizontal space between square and text\n",
    "        \"borderpad\": 0.1,\n",
    "    },\n",
    ")"
   ]
  },
  {
   "cell_type": "markdown",
   "metadata": {},
   "source": [
    "Plot only a square of the map"
   ]
  },
  {
   "cell_type": "code",
   "execution_count": 76,
   "metadata": {},
   "outputs": [],
   "source": [
    "cm2 = cm[20:50, 50:90]\n",
    "\n",
    "#fig = plt.figure()\n",
    "#ax = fig.add_subplot(projection=\"plot_map\")\n",
    "#ax.plot_map(cm2)\n",
    "#ax.add_overlay(cm2, cm2.dp)"
   ]
  },
  {
   "cell_type": "markdown",
   "metadata": {},
   "source": [
    "Plot only parts of a map based on chained conditionals, like belonging to one phase or having a property value above a threshold"
   ]
  },
  {
   "cell_type": "code",
   "execution_count": 77,
   "metadata": {},
   "outputs": [],
   "source": [
    "# Conditional slicing\n",
    "cm2 = cm[cm.dp > 0.81]\n",
    "fig = plt.figure()\n",
    "ax = fig.add_subplot(projection=\"plot_map\")\n",
    "ax.plot_map(cm2, cm2.iq, cmap=\"gray\")\n",
    "ax.add_colorbar(\"Image quality\")\n",
    "\n",
    "# Chained conditional slicing\n",
    "cm2 = cm[(cm.dp > 0.81) & (cm.phase_id == 1)]\n",
    "fig = plt.figure()\n",
    "ax = fig.add_subplot(projection=\"plot_map\")\n",
    "ax.plot_map(cm2, cm2.dp, cmap=\"cividis\")\n",
    "ax.add_colorbar(\"Dot product\");"
   ]
  },
  {
   "cell_type": "markdown",
   "metadata": {},
   "source": [
    "Plot histogram of a property per phase"
   ]
  },
  {
   "cell_type": "code",
   "execution_count": 78,
   "metadata": {},
   "outputs": [],
   "source": [
    "# Change colors again\n",
    "cm.phases['ferrite'].color = (1, 0, 0)  # or 'r' or 'red'\n",
    "cm.phases['austenite'].color = (0, 1, 0)  # or 'lime'\n",
    "\n",
    "# Property of interest\n",
    "this_prop = 'dp'\n",
    "\n",
    "# Plot phase map again to see color changes\n",
    "fig = plt.figure()\n",
    "ax = fig.add_subplot(projection=\"plot_map\")\n",
    "ax.plot_map(cm)\n",
    "ax.add_overlay(cm, this_prop)  # Can also pass str as overlay\n",
    "ax.remove_padding()\n",
    "fig.savefig(os.path.join(datadir, 'test.png'), pad_inches=0, bbox_inches=\"tight\")\n",
    "\n",
    "# Declare lists for plotting\n",
    "data = []\n",
    "labels = []\n",
    "colors = []\n",
    "\n",
    "# Get property values, name and color per phase\n",
    "for _, p in cm.phases_in_data:\n",
    "    labels.append(p.name)\n",
    "    colors.append(p.color)\n",
    "\n",
    "    # Accessing the property dictionary directly\n",
    "    data.append(cm[p.name].prop[this_prop])\n",
    "    # or indirectly\n",
    "    #data.append(cm[p.name].dp)\n",
    "\n",
    "# Nice bar plot with property histogram per phase\n",
    "fig, ax = plt.subplots()\n",
    "ax.hist(\n",
    "    data,\n",
    "    bins=20,\n",
    "    histtype='bar',\n",
    "    density=True,\n",
    "    label=labels,\n",
    "    color=colors\n",
    ")\n",
    "ax.set_xlabel(this_prop)\n",
    "ax.set_ylabel(\"Frequency\")\n",
    "ax.legend();"
   ]
  },
  {
   "cell_type": "markdown",
   "metadata": {},
   "source": [
    "Add a new property to the map, modify it, and plot it"
   ]
  },
  {
   "cell_type": "code",
   "execution_count": 79,
   "metadata": {},
   "outputs": [],
   "source": [
    "# Zero everywhere\n",
    "cm.prop[\"grain_boundary\"] = 0  # or np.zeros(cm.size), which is equivalent"
   ]
  },
  {
   "cell_type": "code",
   "execution_count": 80,
   "metadata": {},
   "outputs": [],
   "source": [
    "# Except at low dot product values\n",
    "cm[cm.dp < 0.81].grain_boundary = 1"
   ]
  },
  {
   "cell_type": "code",
   "execution_count": 81,
   "metadata": {},
   "outputs": [],
   "source": [
    "fig = plt.figure()\n",
    "ax = fig.add_subplot(projection=\"plot_map\")\n",
    "im = ax.plot_map(cm, cm.grain_boundary, cmap=\"gray\")"
   ]
  },
  {
   "cell_type": "markdown",
   "metadata": {},
   "source": [
    "# <a id='gotchas'></a> 7. Gotchas"
   ]
  },
  {
   "cell_type": "markdown",
   "metadata": {},
   "source": [
    "Trying to set a map property in the CrystalMap property dictionary which hasn't been declared will silently fail"
   ]
  },
  {
   "cell_type": "code",
   "execution_count": 82,
   "metadata": {},
   "outputs": [
    {
     "name": "stdout",
     "output_type": "stream",
     "text": [
      "dict_keys(['dp', 'iq', 'dp_times_iq', 'grain_boundary'])\n"
     ]
    }
   ],
   "source": [
    "# When this is forgotten...\n",
    "# cm[\"another_grain_boundary\"] = 0\n",
    "\n",
    "# ... this silently fails\n",
    "cm[cm.dp < 0.82].another_grain_boundary = 1\n",
    "\n",
    "print(cm.prop.keys())"
   ]
  },
  {
   "cell_type": "markdown",
   "metadata": {},
   "source": [
    "An error message *could* be raised if a non-existent property was attempted to be set. The drawback of this would be that the user could not add any arbitrary property to a class instance, as e.g. `matplotlib` allows for all their class instances"
   ]
  },
  {
   "cell_type": "code",
   "execution_count": 83,
   "metadata": {},
   "outputs": [
    {
     "name": "stdout",
     "output_type": "stream",
     "text": [
      "hello\n"
     ]
    }
   ],
   "source": [
    "fig = plt.figure()\n",
    "plt.close(fig)\n",
    "fig.another_grain_boundary = \"hello\"\n",
    "print(fig.another_grain_boundary)"
   ]
  },
  {
   "cell_type": "markdown",
   "metadata": {},
   "source": [
    "`numpy` does not allow this."
   ]
  }
 ],
 "metadata": {
  "kernelspec": {
   "display_name": "Python 3",
   "language": "python",
   "name": "python3"
  },
  "language_info": {
   "codemirror_mode": {
    "name": "ipython",
    "version": 3
   },
   "file_extension": ".py",
   "mimetype": "text/x-python",
   "name": "python",
   "nbconvert_exporter": "python",
   "pygments_lexer": "ipython3",
   "version": "3.7.6"
  }
 },
 "nbformat": 4,
 "nbformat_minor": 4
}
