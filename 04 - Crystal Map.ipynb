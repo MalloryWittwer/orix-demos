{
 "cells": [
  {
   "cell_type": "markdown",
   "metadata": {},
   "source": [
    "# `CrystalMap` API\n",
    "\n",
    "* Quick and dirty description of the (more or less) full `CrystalMap` API so far.\n",
    "* Will of course remove lots of stuff here and make it user friendly before merging into orix-demos.\n",
    "* Notable things missing:\n",
    "    * `__setitem__`\n",
    "* Many try/except and input checks are implemented. Try to break things. An explanatory error message *should* be raised.\n",
    "\n",
    "<!--\n",
    "# Introduction\n",
    "\n",
    "This notebook illustrates clustering of Ti crystal orientations using data obtained from a highly deformed specimen, using EBSD.\n",
    "\n",
    "This functionaility has been checked to run in orix-0.2.0 (December 2019). Bugs are always possible, do not trust the code blindly, and if you experience any issues please report them here: https://github.com/pyxem/orix-demos/issues\n",
    "-->\n",
    "\n",
    "# Contents\n",
    "\n",
    "1. <a href='#load'> Temporary load functions</a>\n",
    "2. <a href='#init'> Initialize a CrystalMap object</a>\n",
    "3. <a href='#crystalmap'> CrystalMap</a>\n",
    "4. <a href='#phaselist'> PhaseList</a>\n",
    "5. <a href='#phase'> Phase</a>\n",
    "6. <a href='#examples'> Examples</a>\n",
    "\n",
    "Import orix classes and various dependencies"
   ]
  },
  {
   "cell_type": "code",
   "execution_count": null,
   "metadata": {},
   "outputs": [],
   "source": [
    "%matplotlib qt5\n",
    "\n",
    "# Important external dependencies\n",
    "import os\n",
    "import re\n",
    "import numpy as np\n",
    "import matplotlib.pyplot as plt\n",
    "import h5py  # Needed for h5ebsd reader\n",
    "\n",
    "# orix dependencies (not tested)\n",
    "from orix.crystal_map import CrystalMap, PhaseList, Phase\n",
    "from orix.quaternion.rotation import Rotation"
   ]
  },
  {
   "cell_type": "markdown",
   "metadata": {},
   "source": [
    "# <a id='load'></a> 1. Temporary load functions"
   ]
  },
  {
   "cell_type": "markdown",
   "metadata": {},
   "source": [
    "### .ang file created by EMsoft's EMdpmerge program\n",
    "\n",
    "Not at all done, just something quick to read all necessary bits."
   ]
  },
  {
   "cell_type": "code",
   "execution_count": null,
   "metadata": {},
   "outputs": [],
   "source": [
    "def load_ang(filename):\n",
    "    data = np.loadtxt(filename)\n",
    "    rows, cols = data.shape\n",
    "\n",
    "    euler = np.radians(data[:, :3])\n",
    "    x = data[:, 3]\n",
    "    y = data[:, 4]\n",
    "    iq = data[:, 5]\n",
    "    ci = data[:, 6]\n",
    "\n",
    "    fit = np.ones_like(iq)\n",
    "    if cols > 8:\n",
    "        fit = data[:, 7]\n",
    "        phase = data[:, 8]\n",
    "    else:\n",
    "        phase = data[:, 7]\n",
    "\n",
    "    properties = {\n",
    "        'iq': iq,\n",
    "        'ci': ci,\n",
    "        'fit': fit,\n",
    "    }\n",
    "\n",
    "    # Read header\n",
    "    header = []\n",
    "    for line in open(filename):\n",
    "        l = line.strip()\n",
    "        if l.startswith(\"#\"):\n",
    "            header.append(l.rstrip())\n",
    "\n",
    "    def get_phase_from_ang(header):\n",
    "        phases = {}\n",
    "        for i, l in enumerate(header):\n",
    "            if l.startswith(\"# Phase\"):\n",
    "                phase_id = re.search(\"# Phase( +)([0-9]+)\", l).group(2)\n",
    "                material_name = ''\n",
    "                formula = ''\n",
    "                try:\n",
    "                    material_name = re.search(\n",
    "                        \"# MaterialName( +)([A-z]+)/([A-z]+)\", header[i + 1],\n",
    "                    ).group(2)\n",
    "                    formula= re.search(\n",
    "                        \"# Formula( +)([A-z]+)/([A-z]+)\", header[i + 2]).group(\n",
    "                        2)\n",
    "                except (AttributeError, IndexError):\n",
    "                    material_name = re.search(\n",
    "                        \"# MaterialName( +)([A-z]+)\", header[i + 1],\n",
    "                    ).group(2)\n",
    "                    formula= re.search(\n",
    "                        \"# Formula( +)([A-z]+)\", header[i + 2]).group(2)\n",
    "                phases[phase_id] = {\n",
    "                    'material_name': material_name,\n",
    "                    'formula': formula,\n",
    "                    'symmetry': re.search(\n",
    "                        \"# Symmetry( +)([A-z0-9]+)\", header[i + 4],\n",
    "                    ).group(2),\n",
    "                }\n",
    "        return phases\n",
    "\n",
    "    # Get phases\n",
    "    phases = get_phase_from_ang(header)\n",
    "\n",
    "    # Get symmetries and minerals\n",
    "    symmetry = []\n",
    "    mineral = []\n",
    "    for p in phases.values():\n",
    "        symmetry.append(p['symmetry'])\n",
    "        mineral.append(p['material_name'])\n",
    "\n",
    "    return x, y, phase, euler, properties, symmetry, mineral"
   ]
  },
  {
   "cell_type": "markdown",
   "metadata": {},
   "source": [
    "### .h5 file created by EMsoft's EMEBSDDI program\n",
    "\n",
    "Not at all done, just something quick to read all necessary bits."
   ]
  },
  {
   "cell_type": "code",
   "execution_count": null,
   "metadata": {},
   "outputs": [],
   "source": [
    "def load_h5ebsd(filename, refined=False, **kwargs):\n",
    "    mode = kwargs.pop(\"mode\", \"r\")\n",
    "    f = h5py.File(filename, mode=mode, **kwargs)\n",
    "\n",
    "    scan_group = f[\"Scan 1\"]\n",
    "    ebsd_group = scan_group[\"EBSD\"]\n",
    "    data_group = ebsd_group[\"Data\"]\n",
    "    header_group = ebsd_group[\"Header\"]\n",
    "\n",
    "    # Get scan coordinates\n",
    "    nx = header_group[\"nColumns\"][()]\n",
    "    ny = header_group[\"nRows\"][()]\n",
    "    dx = header_group[\"Step X\"][()]\n",
    "    dy = header_group[\"Step Y\"][()]\n",
    "    x = np.tile(np.arange(nx*dx, step=dx), reps=ny)\n",
    "    y = np.tile(np.arange(ny*dy, step=dy), reps=nx)\n",
    "    z = np.zeros_like(x)\n",
    "\n",
    "    # Get phase\n",
    "    phase = data_group[\"Phase\"][()]\n",
    "\n",
    "    # Get crystal symmetry\n",
    "    point_group = re.search(\n",
    "        r\"\\[([A-Za-z0-9_]+)\\]\",\n",
    "        ebsd_group[\"Header/Phase/1/Point Group\"][()][0].decode()\n",
    "    ).group(1)\n",
    "\n",
    "    # Get orientations\n",
    "    if refined:\n",
    "        orientation_dataset_name = \"RefinedEulerAngles\"\n",
    "    else:\n",
    "        orientation_dataset_name = \"EulerAngles\"\n",
    "    euler = data_group[orientation_dataset_name][()]\n",
    "\n",
    "    # Get properties\n",
    "    properties = {}\n",
    "    quality_metric_names = [\n",
    "        \"AvDotProductMap\",\n",
    "        \"CI\",\n",
    "        \"IQ\",\n",
    "        \"ISM\",\n",
    "        \"OSM\",\n",
    "    ]\n",
    "    for metric_name in quality_metric_names:\n",
    "        metric = data_group[metric_name][()]\n",
    "        if metric.ndim > 1:\n",
    "            metric = metric.ravel()\n",
    "        properties[metric_name] = metric\n",
    "\n",
    "    return x, y, z, phase, euler, properties, point_group"
   ]
  },
  {
   "cell_type": "markdown",
   "metadata": {},
   "source": [
    "### Utility program to get map shape and step size from x, y arrays\n",
    "\n",
    "All this will be done internally..."
   ]
  },
  {
   "cell_type": "code",
   "execution_count": null,
   "metadata": {},
   "outputs": [],
   "source": [
    "def get_shape_and_step_sizes(x, y=None, z=None):\n",
    "    shape = []\n",
    "    step_sizes = []\n",
    "    for i, direction in enumerate([z, y, x]):\n",
    "        if direction is not None:\n",
    "            unique_sorted = np.sort(np.unique(direction))\n",
    "            step = unique_sorted[1] - unique_sorted[0]\n",
    "            length = int((direction.max() + step) / step)\n",
    "            shape.append(length)\n",
    "            step_sizes.append(step)\n",
    "    return tuple(shape), step_sizes"
   ]
  },
  {
   "cell_type": "markdown",
   "metadata": {},
   "source": [
    "# <a id='init'></a> 2. Initialize a CrystalMap object"
   ]
  },
  {
   "cell_type": "markdown",
   "metadata": {},
   "source": [
    "Set input file and file path.\n",
    "\n",
    ".ang and .h5ebsd files are temporarily available here: http://folk.ntnu.no/hakonwii/files/orix-demos/"
   ]
  },
  {
   "cell_type": "code",
   "execution_count": null,
   "metadata": {},
   "outputs": [],
   "source": [
    "datadir = '/home/hakon/phd/data/jarle_emsoft/sdss/emsoft'\n",
    "#fname = 'sdss_austenite_dp.h5'\n",
    "fname = 'sdss_ferrite_austenite.ang'\n",
    "file = os.path.join(datadir, fname)"
   ]
  },
  {
   "cell_type": "code",
   "execution_count": null,
   "metadata": {},
   "outputs": [],
   "source": [
    "#x, y, z, phase, euler, props, symmetry = load_h5ebsd(file)"
   ]
  },
  {
   "cell_type": "code",
   "execution_count": null,
   "metadata": {},
   "outputs": [],
   "source": [
    "x, y, phase, euler, props, symmetry, mineral = load_ang(file)"
   ]
  },
  {
   "cell_type": "markdown",
   "metadata": {},
   "source": [
    "Reshape 1D arrays to map shape (will be done internally when current readers are expanded)"
   ]
  },
  {
   "cell_type": "code",
   "execution_count": null,
   "metadata": {},
   "outputs": [],
   "source": [
    "shape, step_sizes = get_shape_and_step_sizes(x, y)\n",
    "\n",
    "rotations = Rotation.from_euler(euler.reshape(shape + (3,)))\n",
    "\n",
    "phase = phase.reshape(shape)\n",
    "\n",
    "prop = {}\n",
    "for k, v in props.items():\n",
    "    prop[k] = v.reshape(shape)"
   ]
  },
  {
   "cell_type": "markdown",
   "metadata": {},
   "source": [
    "Print `__init__` docstring"
   ]
  },
  {
   "cell_type": "code",
   "execution_count": null,
   "metadata": {},
   "outputs": [],
   "source": [
    "print(CrystalMap.__init__.__doc__)    "
   ]
  },
  {
   "cell_type": "markdown",
   "metadata": {},
   "source": [
    "Create crystal map"
   ]
  },
  {
   "cell_type": "code",
   "execution_count": null,
   "metadata": {},
   "outputs": [],
   "source": [
    "cm = CrystalMap(\n",
    "    rotations=rotations,\n",
    "    phase_id_map=phase,\n",
    "    phase_name=mineral,\n",
    "    symmetry=symmetry,\n",
    "    prop=prop,\n",
    "    step_sizes=step_sizes,\n",
    ")"
   ]
  },
  {
   "cell_type": "markdown",
   "metadata": {},
   "source": [
    "# <a id='crystalmap'></a> 3. CrystalMap\n",
    "\n",
    "Print class description"
   ]
  },
  {
   "cell_type": "code",
   "execution_count": null,
   "metadata": {},
   "outputs": [],
   "source": [
    "print(CrystalMap.__doc__)"
   ]
  },
  {
   "cell_type": "markdown",
   "metadata": {},
   "source": [
    "`__repr__` (inspired by MTEX)"
   ]
  },
  {
   "cell_type": "code",
   "execution_count": null,
   "metadata": {},
   "outputs": [],
   "source": [
    "cm"
   ]
  },
  {
   "cell_type": "markdown",
   "metadata": {},
   "source": [
    "Custom, private attributes"
   ]
  },
  {
   "cell_type": "code",
   "execution_count": null,
   "metadata": {},
   "outputs": [],
   "source": [
    "[i for i in dir(cm) if i.startswith('_') and not i.endswith('__')]"
   ]
  },
  {
   "cell_type": "markdown",
   "metadata": {},
   "source": [
    "Public attributes and methods"
   ]
  },
  {
   "cell_type": "code",
   "execution_count": null,
   "metadata": {},
   "outputs": [],
   "source": [
    "[i for i in dir(cm) if not i.startswith('_')]"
   ]
  },
  {
   "cell_type": "markdown",
   "metadata": {},
   "source": [
    "Docstrings of public attributes and their values in the current CrystalMap instance"
   ]
  },
  {
   "cell_type": "code",
   "execution_count": null,
   "metadata": {},
   "outputs": [],
   "source": [
    "print(CrystalMap.all_indexed.__doc__)\n",
    "cm.all_indexed"
   ]
  },
  {
   "cell_type": "code",
   "execution_count": null,
   "metadata": {},
   "outputs": [],
   "source": [
    "print(CrystalMap.step_sizes.__doc__)\n",
    "cm.step_sizes"
   ]
  },
  {
   "cell_type": "code",
   "execution_count": null,
   "metadata": {},
   "outputs": [],
   "source": [
    "print(CrystalMap.indexed.__doc__)\n",
    "cm.indexed"
   ]
  },
  {
   "cell_type": "code",
   "execution_count": null,
   "metadata": {},
   "outputs": [],
   "source": [
    "print(CrystalMap.ndim.__doc__)\n",
    "cm.ndim"
   ]
  },
  {
   "cell_type": "code",
   "execution_count": null,
   "metadata": {},
   "outputs": [],
   "source": [
    "print(CrystalMap.orientations.__doc__)\n",
    "cm['austenite'].orientations"
   ]
  },
  {
   "cell_type": "code",
   "execution_count": null,
   "metadata": {},
   "outputs": [],
   "source": [
    "print(CrystalMap.phase_id.__doc__)\n",
    "cm.phase_id"
   ]
  },
  {
   "cell_type": "code",
   "execution_count": null,
   "metadata": {},
   "outputs": [],
   "source": [
    "# Set during __init__, not a derived attribute, hence no docstring available\n",
    "cm.phases  # similar CrystalMap's __repr__"
   ]
  },
  {
   "cell_type": "code",
   "execution_count": null,
   "metadata": {},
   "outputs": [],
   "source": [
    "print(CrystalMap.phases_in_map.__doc__)\n",
    "cm.phases_in_map"
   ]
  },
  {
   "cell_type": "code",
   "execution_count": null,
   "metadata": {},
   "outputs": [],
   "source": [
    "print(CrystalMap.prop.__doc__)\n",
    "cm.prop"
   ]
  },
  {
   "cell_type": "code",
   "execution_count": null,
   "metadata": {},
   "outputs": [],
   "source": [
    "print(CrystalMap.rotations.__doc__)\n",
    "cm.rotations"
   ]
  },
  {
   "cell_type": "code",
   "execution_count": null,
   "metadata": {},
   "outputs": [],
   "source": [
    "print(CrystalMap.scan_unit.__doc__)\n",
    "\n",
    "print(cm.scan_unit)\n",
    "\n",
    "cm.scan_unit = 'um'\n",
    "print(cm.scan_unit)"
   ]
  },
  {
   "cell_type": "code",
   "execution_count": null,
   "metadata": {},
   "outputs": [],
   "source": [
    "print(CrystalMap.shape.__doc__)\n",
    "cm.shape"
   ]
  },
  {
   "cell_type": "code",
   "execution_count": null,
   "metadata": {},
   "outputs": [],
   "source": [
    "print(CrystalMap.size.__doc__)\n",
    "cm.size"
   ]
  },
  {
   "cell_type": "markdown",
   "metadata": {},
   "source": [
    "Docstrings of CrystalMap methods"
   ]
  },
  {
   "cell_type": "code",
   "execution_count": null,
   "metadata": {},
   "outputs": [],
   "source": [
    "print(CrystalMap.plot_phase.__doc__)"
   ]
  },
  {
   "cell_type": "code",
   "execution_count": null,
   "metadata": {},
   "outputs": [],
   "source": [
    "print(CrystalMap.plot_prop.__doc__)"
   ]
  },
  {
   "cell_type": "markdown",
   "metadata": {},
   "source": [
    "Indexing/slicing ..."
   ]
  },
  {
   "cell_type": "markdown",
   "metadata": {},
   "source": [
    "... by map position (slices)"
   ]
  },
  {
   "cell_type": "code",
   "execution_count": null,
   "metadata": {},
   "outputs": [],
   "source": [
    "(y0, y1) = (20, 40)\n",
    "(x0, x1) = (50, 60)\n",
    "cm1 = cm[y0:y1, x0:x1]\n",
    "cm1"
   ]
  },
  {
   "cell_type": "code",
   "execution_count": null,
   "metadata": {},
   "outputs": [],
   "source": [
    "cm1.size"
   ]
  },
  {
   "cell_type": "markdown",
   "metadata": {},
   "source": [
    "... by phase name"
   ]
  },
  {
   "cell_type": "code",
   "execution_count": null,
   "metadata": {},
   "outputs": [],
   "source": [
    "cm2 = cm['austenite']\n",
    "cm2"
   ]
  },
  {
   "cell_type": "code",
   "execution_count": null,
   "metadata": {},
   "outputs": [],
   "source": [
    "# np.sum(cm2.indexed) / cm.size\n",
    "cm2.size / cm.size"
   ]
  },
  {
   "cell_type": "code",
   "execution_count": null,
   "metadata": {},
   "outputs": [],
   "source": [
    "cm3 = cm['austenite', 'ferrite']\n",
    "cm3"
   ]
  },
  {
   "cell_type": "markdown",
   "metadata": {},
   "source": [
    "... by (chained) conditional(s)"
   ]
  },
  {
   "cell_type": "code",
   "execution_count": null,
   "metadata": {},
   "outputs": [],
   "source": [
    "cm4 = cm[cm.phase_id == 1]\n",
    "cm4"
   ]
  },
  {
   "cell_type": "code",
   "execution_count": null,
   "metadata": {},
   "outputs": [],
   "source": [
    "cm5 = cm[cm.ci > 0.81]\n",
    "cm5"
   ]
  },
  {
   "cell_type": "code",
   "execution_count": null,
   "metadata": {},
   "outputs": [],
   "source": [
    "cm6 = cm[(cm.iq > np.mean(cm.iq)) & (cm.phase_id == 1)]\n",
    "cm6"
   ]
  },
  {
   "cell_type": "markdown",
   "metadata": {},
   "source": [
    "Add property"
   ]
  },
  {
   "cell_type": "code",
   "execution_count": null,
   "metadata": {},
   "outputs": [],
   "source": [
    "cm.prop['ci_times_iq'] = cm.ci * cm.iq\n",
    "print(cm)\n",
    "print(\"\\n\", cm.ci_times_iq)"
   ]
  },
  {
   "cell_type": "markdown",
   "metadata": {},
   "source": [
    "# <a id='phaselist'></a> 4. PhaseList"
   ]
  },
  {
   "cell_type": "code",
   "execution_count": null,
   "metadata": {},
   "outputs": [],
   "source": [
    "print(PhaseList.__doc__)"
   ]
  },
  {
   "cell_type": "markdown",
   "metadata": {},
   "source": [
    "Get from CrystalMap"
   ]
  },
  {
   "cell_type": "code",
   "execution_count": null,
   "metadata": {},
   "outputs": [],
   "source": [
    "phases = cm.phases  # As shown above\n",
    "phases"
   ]
  },
  {
   "cell_type": "markdown",
   "metadata": {},
   "source": [
    "Custom, private attributes"
   ]
  },
  {
   "cell_type": "code",
   "execution_count": null,
   "metadata": {},
   "outputs": [],
   "source": [
    "[i for i in dir(phases) if i.startswith('_') and not i.endswith('__')]"
   ]
  },
  {
   "cell_type": "markdown",
   "metadata": {},
   "source": [
    "Public attributes"
   ]
  },
  {
   "cell_type": "code",
   "execution_count": null,
   "metadata": {},
   "outputs": [],
   "source": [
    "[i for i in dir(phases) if not i.startswith('_')]"
   ]
  },
  {
   "cell_type": "markdown",
   "metadata": {},
   "source": [
    "Inspect properties"
   ]
  },
  {
   "cell_type": "code",
   "execution_count": null,
   "metadata": {},
   "outputs": [],
   "source": [
    "print(PhaseList.size.__doc__)\n",
    "phases.size"
   ]
  },
  {
   "cell_type": "code",
   "execution_count": null,
   "metadata": {},
   "outputs": [],
   "source": [
    "print(PhaseList.phase_ids.__doc__)\n",
    "phases.phase_ids"
   ]
  },
  {
   "cell_type": "code",
   "execution_count": null,
   "metadata": {},
   "outputs": [],
   "source": [
    "print(PhaseList.names.__doc__)\n",
    "phases.names"
   ]
  },
  {
   "cell_type": "code",
   "execution_count": null,
   "metadata": {},
   "outputs": [],
   "source": [
    "print(PhaseList.symmetries.__doc__)\n",
    "phases.symmetries"
   ]
  },
  {
   "cell_type": "code",
   "execution_count": null,
   "metadata": {},
   "outputs": [],
   "source": [
    "# Should perhaps add this property\n",
    "#phases.symmetry_names"
   ]
  },
  {
   "cell_type": "code",
   "execution_count": null,
   "metadata": {},
   "outputs": [],
   "source": [
    "print(PhaseList.colors.__doc__)\n",
    "phases.colors"
   ]
  },
  {
   "cell_type": "code",
   "execution_count": null,
   "metadata": {},
   "outputs": [],
   "source": [
    "print(PhaseList.colors_rgb.__doc__)\n",
    "phases.colors_rgb"
   ]
  },
  {
   "cell_type": "markdown",
   "metadata": {},
   "source": [
    "Initialize a PhaseList..."
   ]
  },
  {
   "cell_type": "code",
   "execution_count": null,
   "metadata": {},
   "outputs": [],
   "source": [
    "print(PhaseList.__init__.__doc__)"
   ]
  },
  {
   "cell_type": "markdown",
   "metadata": {},
   "source": [
    "... from input"
   ]
  },
  {
   "cell_type": "code",
   "execution_count": null,
   "metadata": {},
   "outputs": [],
   "source": [
    "PhaseList(\n",
    "    names=['al', 'cu'],\n",
    "    symmetries=['m-3m', 'm3m'],  # Note that m3m = m-3m\n",
    "    colors=['lime', 'xkcd:violet'],\n",
    "    phase_ids=[0, 1],\n",
    ")"
   ]
  },
  {
   "cell_type": "markdown",
   "metadata": {},
   "source": [
    "... from a list of Phase objects"
   ]
  },
  {
   "cell_type": "code",
   "execution_count": null,
   "metadata": {},
   "outputs": [],
   "source": [
    "al = Phase(name='al', symmetry='m-3m')\n",
    "cu = Phase(name='cu')\n",
    "\n",
    "#PhaseList([al, cu])  # Not working, will implement\n",
    "PhaseList(al)"
   ]
  },
  {
   "cell_type": "markdown",
   "metadata": {},
   "source": [
    "Index PhaseList..."
   ]
  },
  {
   "cell_type": "code",
   "execution_count": null,
   "metadata": {},
   "outputs": [],
   "source": [
    "print(PhaseList.__getitem__.__doc__)\n",
    "# This doc should perhaps be moved to a more accessible place"
   ]
  },
  {
   "cell_type": "markdown",
   "metadata": {},
   "source": [
    "... by phase name"
   ]
  },
  {
   "cell_type": "code",
   "execution_count": null,
   "metadata": {},
   "outputs": [],
   "source": [
    "phases['austenite']"
   ]
  },
  {
   "cell_type": "code",
   "execution_count": null,
   "metadata": {},
   "outputs": [],
   "source": [
    "phases['austenite', 'ferrite']"
   ]
  },
  {
   "cell_type": "markdown",
   "metadata": {},
   "source": [
    "... by phase id"
   ]
  },
  {
   "cell_type": "code",
   "execution_count": null,
   "metadata": {},
   "outputs": [],
   "source": [
    "phases[1]"
   ]
  },
  {
   "cell_type": "code",
   "execution_count": null,
   "metadata": {},
   "outputs": [],
   "source": [
    "phases[1, 2]"
   ]
  },
  {
   "cell_type": "markdown",
   "metadata": {},
   "source": [
    "... by slice"
   ]
  },
  {
   "cell_type": "code",
   "execution_count": null,
   "metadata": {},
   "outputs": [],
   "source": [
    "phases[1:]"
   ]
  },
  {
   "cell_type": "markdown",
   "metadata": {},
   "source": [
    "Add phase to PhaseList"
   ]
  },
  {
   "cell_type": "code",
   "execution_count": null,
   "metadata": {},
   "outputs": [],
   "source": [
    "phases2 = phases.deepcopy()\n",
    "phases2['sigma'] = '4/mmm'\n",
    "phases2"
   ]
  },
  {
   "cell_type": "markdown",
   "metadata": {},
   "source": [
    "# <a id='phase'></a> 5. Phase"
   ]
  },
  {
   "cell_type": "code",
   "execution_count": null,
   "metadata": {},
   "outputs": [],
   "source": [
    "print(Phase.__doc__)"
   ]
  },
  {
   "cell_type": "markdown",
   "metadata": {},
   "source": [
    "No custom, private attributes."
   ]
  },
  {
   "cell_type": "markdown",
   "metadata": {},
   "source": [
    "Public attributes"
   ]
  },
  {
   "cell_type": "code",
   "execution_count": null,
   "metadata": {},
   "outputs": [],
   "source": [
    "[i for i in dir(Phase) if not i.startswith('_')]"
   ]
  },
  {
   "cell_type": "code",
   "execution_count": null,
   "metadata": {},
   "outputs": [],
   "source": [
    "print(Phase.color.__doc__)\n"
   ]
  },
  {
   "cell_type": "markdown",
   "metadata": {},
   "source": [
    "From PhaseList by..."
   ]
  },
  {
   "cell_type": "markdown",
   "metadata": {},
   "source": [
    "... phase name"
   ]
  },
  {
   "cell_type": "code",
   "execution_count": null,
   "metadata": {},
   "outputs": [],
   "source": [
    "phases['austenite']"
   ]
  },
  {
   "cell_type": "markdown",
   "metadata": {},
   "source": [
    "... phase ID"
   ]
  },
  {
   "cell_type": "code",
   "execution_count": null,
   "metadata": {},
   "outputs": [],
   "source": [
    "phases[1]"
   ]
  },
  {
   "cell_type": "markdown",
   "metadata": {},
   "source": [
    "Initialize"
   ]
  },
  {
   "cell_type": "code",
   "execution_count": null,
   "metadata": {},
   "outputs": [],
   "source": [
    "Phase('au', symmetry='m-3m', color='salmon')"
   ]
  },
  {
   "cell_type": "markdown",
   "metadata": {},
   "source": [
    "# <a id='examples'></a> 6. Examples"
   ]
  },
  {
   "cell_type": "markdown",
   "metadata": {},
   "source": [
    "Plot phase map with property as alpha"
   ]
  },
  {
   "cell_type": "code",
   "execution_count": null,
   "metadata": {},
   "outputs": [],
   "source": [
    "cm.plot_phase('ci');"
   ]
  },
  {
   "cell_type": "code",
   "execution_count": null,
   "metadata": {},
   "outputs": [],
   "source": [
    "# Alternatively, return data array plotted, figure, image and axes\n",
    "#data, fig, im, ax = cm.plot_phase(\n",
    "#    overlay='ci',\n",
    "#    scalebar=False,\n",
    "#    legend=False,\n",
    "#    padding=False,\n",
    "#)\n",
    "\n",
    "# And e.g. save it as map of pixels or use it as navigatior in HyperSpy\n",
    "#plt.imsave(os.path.join(datadir, 'phase_ci.png'), arr=data)"
   ]
  },
  {
   "cell_type": "code",
   "execution_count": null,
   "metadata": {},
   "outputs": [],
   "source": [
    "# Per phase\n",
    "cm['austenite'].plot_phase('ci');"
   ]
  },
  {
   "cell_type": "markdown",
   "metadata": {},
   "source": [
    "Plot property"
   ]
  },
  {
   "cell_type": "code",
   "execution_count": null,
   "metadata": {},
   "outputs": [],
   "source": [
    "cm.plot_prop('iq');"
   ]
  },
  {
   "cell_type": "code",
   "execution_count": null,
   "metadata": {},
   "outputs": [],
   "source": [
    "#data, fig, im, ax = cm.plot_prop(\n",
    "#    prop='iq',\n",
    "#    scalebar=False,\n",
    "#    colorbar=False,\n",
    "#    padding=False,\n",
    "#    cmap='viridis',\n",
    "#)"
   ]
  },
  {
   "cell_type": "code",
   "execution_count": null,
   "metadata": {},
   "outputs": [],
   "source": [
    "# Per phase\n",
    "cm['ferrite'].plot_prop('iq', cmap='viridis');"
   ]
  },
  {
   "cell_type": "code",
   "execution_count": null,
   "metadata": {},
   "outputs": [],
   "source": [
    "# 2D slicing\n",
    "cm[20:40, 50: 100].plot_prop('ci');"
   ]
  },
  {
   "cell_type": "code",
   "execution_count": null,
   "metadata": {},
   "outputs": [],
   "source": [
    "# Conditional slicing\n",
    "cm[cm.ci > 0.81].plot_prop('ci', cmap='winter');\n",
    "\n",
    "# Chained conditional slicing\n",
    "#cm[(cm.ci > 0.81) & (cm.phase_id == 1)].plot_prop('ci', cmap='winter');"
   ]
  },
  {
   "cell_type": "markdown",
   "metadata": {},
   "source": [
    "Plot histogram of a property per phase"
   ]
  },
  {
   "cell_type": "code",
   "execution_count": null,
   "metadata": {},
   "outputs": [],
   "source": [
    "# Change colors (for fun)\n",
    "cm.phases['ferrite'].color = (1, 0, 0)  # or 'r' or 'red'\n",
    "cm.phases['austenite'].color = (0, 1, 0)  # or 'lime'\n",
    "\n",
    "# Property of interest\n",
    "this_prop = 'ci'\n",
    "\n",
    "# Plot phase map again to see color changes\n",
    "cm.plot_phase(this_prop)\n",
    "\n",
    "# Declare lists for plotting\n",
    "data = []\n",
    "labels = []\n",
    "colors = []\n",
    "\n",
    "# Get property values, name and color per phase\n",
    "for _, p in cm.phases_in_map:\n",
    "    labels.append(p.name)\n",
    "    colors.append(p.color)\n",
    "\n",
    "    mask = cm[p.name].indexed\n",
    "    data.append(cm[p.name].prop[this_prop][mask])\n",
    "    # Alternatively, without the two above lines:\n",
    "    #data.append(cm[p.name].ci.compressed())\n",
    "    # Need compressed() because cm['some_masking'].ci returns a\n",
    "    # masked array, which does not play nicely with matplotlib.hist.\n",
    "    # This works because properties are made available as properties via\n",
    "    # __getattr__\n",
    "\n",
    "# Nice bar plot with property histogram per phase\n",
    "fig, ax = plt.subplots()\n",
    "ax.hist(\n",
    "    data,\n",
    "    bins=20,\n",
    "    histtype='bar',\n",
    "    density=True,\n",
    "    label=labels,\n",
    "    color=colors\n",
    ")\n",
    "ax.set_xlabel(this_prop)\n",
    "ax.set_ylabel(\"Frequency\")\n",
    "ax.legend();"
   ]
  }
 ],
 "metadata": {
  "kernelspec": {
   "display_name": "Python 3",
   "language": "python",
   "name": "python3"
  },
  "language_info": {
   "codemirror_mode": {
    "name": "ipython",
    "version": 3
   },
   "file_extension": ".py",
   "mimetype": "text/x-python",
   "name": "python",
   "nbconvert_exporter": "python",
   "pygments_lexer": "ipython3",
   "version": "3.7.6"
  }
 },
 "nbformat": 4,
 "nbformat_minor": 4
}
