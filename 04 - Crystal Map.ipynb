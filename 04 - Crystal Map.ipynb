{
 "cells": [
  {
   "cell_type": "markdown",
   "metadata": {},
   "source": [
    "# `CrystalMap` API\n",
    "\n",
    "* Quick and dirty description of the (more or less) full `CrystalMap` API so far.\n",
    "* Will of course remove lots of stuff here and make it user friendly before merging into orix-demos.\n",
    "* Notable things missing:\n",
    "    * `__setitem__`\n",
    "* Many try/except and input checks are implemented. Try to break things. An explanatory error message *should* be raised.\n",
    "\n",
    "<!--\n",
    "# Introduction\n",
    "\n",
    "This notebook illustrates clustering of Ti crystal orientations using data obtained from a highly deformed specimen, using EBSD.\n",
    "\n",
    "This functionaility has been checked to run in orix-0.2.0 (December 2019). Bugs are always possible, do not trust the code blindly, and if you experience any issues please report them here: https://github.com/pyxem/orix-demos/issues\n",
    "-->\n",
    "\n",
    "# Contents\n",
    "\n",
    "1. <a href='#load'> Temporary load functions</a>\n",
    "2. <a href='#init'> Initialize a CrystalMap object</a>\n",
    "3. <a href='#crystalmap'> Inspect a CrystalMap object</a>\n",
    "4. <a href='#phaselist'> PhaseList</a>\n",
    "5. <a href='#phase'> Phase</a>\n",
    "6. <a href='#examples'> Examples</a>\n",
    "\n",
    "Import orix classes and various dependencies"
   ]
  },
  {
   "cell_type": "code",
   "execution_count": 1,
   "metadata": {},
   "outputs": [],
   "source": [
    "%matplotlib qt5\n",
    "\n",
    "# Important external dependencies\n",
    "import os\n",
    "import re\n",
    "import numpy as np\n",
    "import matplotlib.pyplot as plt\n",
    "import h5py  # Needed for h5ebsd reader\n",
    "\n",
    "# orix dependencies (not tested)\n",
    "from orix.crystal_map import CrystalMap, PhaseList, Phase"
   ]
  },
  {
   "cell_type": "markdown",
   "metadata": {},
   "source": [
    "# <a id='load'></a> 1. Temporary load functions"
   ]
  },
  {
   "cell_type": "markdown",
   "metadata": {},
   "source": [
    "### .ang file created by EMsoft's EMdpmerge program\n",
    "\n",
    "Not at all done, just something quick to read all necessary bits."
   ]
  },
  {
   "cell_type": "code",
   "execution_count": 2,
   "metadata": {},
   "outputs": [],
   "source": [
    "def load_ang(filename):\n",
    "    data = np.loadtxt(filename)\n",
    "    rows, cols = data.shape\n",
    "\n",
    "    euler = np.radians(data[:, :3])\n",
    "    x = data[:, 3]\n",
    "    y = data[:, 4]\n",
    "    iq = data[:, 5]\n",
    "    ci = data[:, 6]\n",
    "\n",
    "    fit = np.ones_like(iq)\n",
    "    if cols > 8:\n",
    "        fit = data[:, 7]\n",
    "        phase = data[:, 8]\n",
    "    else:\n",
    "        phase = data[:, 7]\n",
    "\n",
    "    properties = {\n",
    "        'iq': iq,\n",
    "        'ci': ci,\n",
    "        'fit': fit,\n",
    "    }\n",
    "\n",
    "    # Read header\n",
    "    header = []\n",
    "    for line in open(filename):\n",
    "        l = line.strip()\n",
    "        if l.startswith(\"#\"):\n",
    "            header.append(l.rstrip())\n",
    "\n",
    "    def get_phase_from_ang(header):\n",
    "        phases = {}\n",
    "        for i, l in enumerate(header):\n",
    "            if l.startswith(\"# Phase\"):\n",
    "                phase_id = re.search(\"# Phase( +)([0-9]+)\", l).group(2)\n",
    "                material_name = ''\n",
    "                formula = ''\n",
    "                try:\n",
    "                    material_name = re.search(\n",
    "                        \"# MaterialName( +)([A-z]+)/([A-z]+)\", header[i + 1],\n",
    "                    ).group(2)\n",
    "                    formula= re.search(\n",
    "                        \"# Formula( +)([A-z]+)/([A-z]+)\", header[i + 2]).group(\n",
    "                        2)\n",
    "                except (AttributeError, IndexError):\n",
    "                    material_name = re.search(\n",
    "                        \"# MaterialName( +)([A-z]+)\", header[i + 1],\n",
    "                    ).group(2)\n",
    "                    formula= re.search(\n",
    "                        \"# Formula( +)([A-z]+)\", header[i + 2]).group(2)\n",
    "                phases[phase_id] = {\n",
    "                    'material_name': material_name,\n",
    "                    'formula': formula,\n",
    "                    'symmetry': re.search(\n",
    "                        \"# Symmetry( +)([A-z0-9]+)\", header[i + 4],\n",
    "                    ).group(2),\n",
    "                }\n",
    "        return phases\n",
    "\n",
    "    # Get phases\n",
    "    phases = get_phase_from_ang(header)\n",
    "\n",
    "    # Get symmetries and minerals\n",
    "    symmetry = []\n",
    "    mineral = []\n",
    "    for p in phases.values():\n",
    "        symmetry.append(p['symmetry'])\n",
    "        mineral.append(p['material_name'])\n",
    "\n",
    "    return x, y, phase, euler, properties, symmetry, mineral"
   ]
  },
  {
   "cell_type": "markdown",
   "metadata": {},
   "source": [
    "### .h5 file created by EMsoft's EMEBSDDI program\n",
    "\n",
    "Not at all done, just something quick to read all necessary bits."
   ]
  },
  {
   "cell_type": "code",
   "execution_count": 3,
   "metadata": {},
   "outputs": [],
   "source": [
    "def load_h5ebsd(filename, refined=False, **kwargs):\n",
    "    mode = kwargs.pop(\"mode\", \"r\")\n",
    "    f = h5py.File(filename, mode=mode, **kwargs)\n",
    "\n",
    "    scan_group = f[\"Scan 1\"]\n",
    "    ebsd_group = scan_group[\"EBSD\"]\n",
    "    data_group = ebsd_group[\"Data\"]\n",
    "    header_group = ebsd_group[\"Header\"]\n",
    "\n",
    "    # Get scan coordinates\n",
    "    nx = header_group[\"nColumns\"][()]\n",
    "    ny = header_group[\"nRows\"][()]\n",
    "    dx = header_group[\"Step X\"][()]\n",
    "    dy = header_group[\"Step Y\"][()]\n",
    "    x = np.tile(np.arange(nx*dx, step=dx), reps=ny)\n",
    "    y = np.tile(np.arange(ny*dy, step=dy), reps=nx)\n",
    "    z = np.zeros_like(x)\n",
    "\n",
    "    # Get phase\n",
    "    phase = data_group[\"Phase\"][()]\n",
    "\n",
    "    # Get crystal symmetry\n",
    "    point_group = re.search(\n",
    "        r\"\\[([A-Za-z0-9_]+)\\]\",\n",
    "        ebsd_group[\"Header/Phase/1/Point Group\"][()][0].decode()\n",
    "    ).group(1)\n",
    "\n",
    "    # Get orientations\n",
    "    if refined:\n",
    "        orientation_dataset_name = \"RefinedEulerAngles\"\n",
    "    else:\n",
    "        orientation_dataset_name = \"EulerAngles\"\n",
    "    euler = data_group[orientation_dataset_name][()]\n",
    "\n",
    "    # Get properties\n",
    "    properties = {}\n",
    "    quality_metric_names = [\n",
    "        \"AvDotProductMap\",\n",
    "        \"CI\",\n",
    "        \"IQ\",\n",
    "        \"ISM\",\n",
    "        \"OSM\",\n",
    "    ]\n",
    "    for metric_name in quality_metric_names:\n",
    "        metric = data_group[metric_name][()]\n",
    "        if metric.ndim > 1:\n",
    "            metric = metric.ravel()\n",
    "        properties[metric_name] = metric\n",
    "\n",
    "    return x, y, z, phase, euler, properties, point_group"
   ]
  },
  {
   "cell_type": "markdown",
   "metadata": {},
   "source": [
    "### Utility program to get map shape and step size from x, y arrays\n",
    "\n",
    "All this will be done internally..."
   ]
  },
  {
   "cell_type": "code",
   "execution_count": 4,
   "metadata": {},
   "outputs": [],
   "source": [
    "def get_shape_and_step_sizes(x, y=None, z=None):\n",
    "    shape = []\n",
    "    step_sizes = []\n",
    "    for i, direction in enumerate([z, y, x]):\n",
    "        if direction is not None:\n",
    "            unique_sorted = np.sort(np.unique(direction))\n",
    "            step = unique_sorted[1] - unique_sorted[0]\n",
    "            length = int((direction.max() + step) / step)\n",
    "            shape.append(length)\n",
    "            step_sizes.append(step)\n",
    "    return tuple(shape), step_sizes"
   ]
  },
  {
   "cell_type": "markdown",
   "metadata": {},
   "source": [
    "# <a id='init'></a> 2. Initialize a CrystalMap object"
   ]
  },
  {
   "cell_type": "code",
   "execution_count": 5,
   "metadata": {},
   "outputs": [],
   "source": [
    "datadir = '/home/hakon/phd/data/jarle_emsoft/sdss/emsoft/'\n",
    "fname = 'sdss_ferrite_austenite.ang'\n",
    "file = os.path.join(datadir, fname)\n",
    "\n",
    "x, y, phase, euler, props, symmetry, mineral = load_ang(file)"
   ]
  },
  {
   "cell_type": "markdown",
   "metadata": {},
   "source": [
    "Reshape 1D arrays to map shape (will be done internally when current readers are expanded)"
   ]
  },
  {
   "cell_type": "code",
   "execution_count": 6,
   "metadata": {},
   "outputs": [],
   "source": [
    "shape, step_sizes = get_shape_and_step_sizes(x, y)\n",
    "euler = euler.reshape(shape + (3,))\n",
    "phase = phase.reshape(shape)\n",
    "prop = {}\n",
    "for k, v in props.items():\n",
    "    prop[k] = v.reshape(shape)"
   ]
  },
  {
   "cell_type": "markdown",
   "metadata": {},
   "source": [
    "Print `__init__` docstring"
   ]
  },
  {
   "cell_type": "code",
   "execution_count": 7,
   "metadata": {},
   "outputs": [
    {
     "name": "stdout",
     "output_type": "stream",
     "text": [
      "\n",
      "        Parameters\n",
      "        ----------\n",
      "        rotations : numpy.ndarray, optional\n",
      "            Rotation of each pixel.\n",
      "        phase_id : numpy.ndarray, optional\n",
      "            Phase ID of each pixel.\n",
      "        phase_name : str or list of str, optional\n",
      "            Name of phases.\n",
      "        symmetry : str or list of str, optional\n",
      "            Point group of crystal symmetries of phases in the map.\n",
      "        prop : dict of numpy.ndarray, optional\n",
      "            Dictionary of quality metrics or other properties of each\n",
      "            pixel.\n",
      "        indexed : numpy.ndarray\n",
      "            Boolean array with True for indexed pixels.\n",
      "        dx : numpy.ndarray, optional\n",
      "            Step sizes in each map direction.\n",
      "        \n"
     ]
    }
   ],
   "source": [
    "print(CrystalMap.__init__.__doc__)    "
   ]
  },
  {
   "cell_type": "markdown",
   "metadata": {},
   "source": [
    "Create crystal map"
   ]
  },
  {
   "cell_type": "code",
   "execution_count": 8,
   "metadata": {},
   "outputs": [],
   "source": [
    "cm = CrystalMap(\n",
    "    rotations=euler,\n",
    "    phase_id=phase,\n",
    "    phase_name=mineral,\n",
    "    symmetry=symmetry,\n",
    "    prop=prop,\n",
    "    dx=step_sizes,\n",
    ")"
   ]
  },
  {
   "cell_type": "markdown",
   "metadata": {},
   "source": [
    "# <a id='crystalmap'></a> 3. CrystalMap\n",
    "\n",
    "Print class description"
   ]
  },
  {
   "cell_type": "code",
   "execution_count": 9,
   "metadata": {},
   "outputs": [
    {
     "name": "stdout",
     "output_type": "stream",
     "text": [
      "Crystallographic map storing rotations, phases and pixel properties.\n",
      "\n",
      "    Phases and pixel properties are stored in the map shape, while\n",
      "    rotations are always stored as a 1D array.\n",
      "\n",
      "    This class is inspired by the EBSD class available in MTEX\n",
      "    [Bachmann2010]_.\n",
      "\n",
      "    Attributes\n",
      "    ----------\n",
      "    all_indexed : bool\n",
      "        Whether all pixels are indexed.\n",
      "    dx : numpy.ndarray\n",
      "        Step sizes in each map direction.\n",
      "    indexed : numpy.ndarray\n",
      "        Boolean array with True for indexed pixels.\n",
      "    ndim : int\n",
      "        Number of map dimensions.\n",
      "    orientations : orix.quaternion.orientation.Orientation\n",
      "        Orientations of each pixel. Always 1D.\n",
      "    phase_id : numpy.ndarray\n",
      "        Phase ID of each pixel as imported.\n",
      "    phases : orix.crystal_map.PhaseList\n",
      "        List of phases with their IDs, names, crystal symmetries and\n",
      "        colors (possibly more than are in the map).\n",
      "    phases_in_map : orix.crystal_map.PhaseList\n",
      "        List of phases in the map, with their IDs, names, crystal\n",
      "        symmetries and colors.\n",
      "    pixel_id : numpy.ndarray\n",
      "        ID of each map pixel.\n",
      "    prop : dict\n",
      "        Dictionary of numpy arrays of quality metrics or other properties\n",
      "        of each pixel.\n",
      "    rotations : orix.quaternion.rotation.Rotation\n",
      "        Rotations of each pixel. Always 1D.\n",
      "    scan_unit : str\n",
      "        Length unit of map, default is 'um'.\n",
      "    shape : tuple\n",
      "        Shape of map in pixels.\n",
      "    size : int\n",
      "        Number of pixels in map.\n",
      "\n",
      "    Methods\n",
      "    -------\n",
      "    deepcopy()\n",
      "        Return a deep copy using :py:func:`~copy.deepcopy` function.\n",
      "    plot_prop(\n",
      "        prop, colorbar=True, scalebar=True, padding=False, **kwargs)\n",
      "        Plot of a map property.\n",
      "    plot_phase(\n",
      "        overlay=None, legend=True, scalebar=True, padding=False,\n",
      "        **kwargs)\n",
      "        Return and plot map phases.\n",
      "\n",
      "    References\n",
      "    ----------\n",
      "    .. [Bachmann2010] F. Bachmann, R. Hielscher, H. Schaeben, \"Texture        Analysis with MTEX – Free and Open Source Software Toolbox,\" Solid\n",
      "        State Phenomena 160, 63–68, 2010.\n",
      "\n",
      "    \n"
     ]
    }
   ],
   "source": [
    "print(CrystalMap.__doc__)"
   ]
  },
  {
   "cell_type": "markdown",
   "metadata": {},
   "source": [
    "`__repr__` (inspired by MTEX)"
   ]
  },
  {
   "cell_type": "code",
   "execution_count": 10,
   "metadata": {},
   "outputs": [
    {
     "data": {
      "text/plain": [
       "Phase  Orientations   Name       Symmetry  Color     \n",
       "1      5657 (48.4%)   austenite  432       tab:blue  \n",
       "2      6043 (51.6%)   ferrite    432       tab:orange\n",
       "Properties: iq, ci, fit\n",
       "Scan unit: um"
      ]
     },
     "execution_count": 10,
     "metadata": {},
     "output_type": "execute_result"
    }
   ],
   "source": [
    "cm"
   ]
  },
  {
   "cell_type": "markdown",
   "metadata": {},
   "source": [
    "Custom, private attributes"
   ]
  },
  {
   "cell_type": "code",
   "execution_count": 11,
   "metadata": {},
   "outputs": [
    {
     "data": {
      "text/plain": [
       "['_dx',\n",
       " '_indexed',\n",
       " '_phase_id',\n",
       " '_phases',\n",
       " '_prop',\n",
       " '_rotations',\n",
       " '_scan_unit']"
      ]
     },
     "execution_count": 11,
     "metadata": {},
     "output_type": "execute_result"
    }
   ],
   "source": [
    "[i for i in dir(cm) if i.startswith('_') and not i.endswith('__')]"
   ]
  },
  {
   "cell_type": "markdown",
   "metadata": {},
   "source": [
    "Public attributes and methods"
   ]
  },
  {
   "cell_type": "code",
   "execution_count": 12,
   "metadata": {},
   "outputs": [
    {
     "data": {
      "text/plain": [
       "['all_indexed',\n",
       " 'deepcopy',\n",
       " 'dx',\n",
       " 'indexed',\n",
       " 'ndim',\n",
       " 'orientations',\n",
       " 'phase_id',\n",
       " 'phases',\n",
       " 'phases_in_map',\n",
       " 'pixel_id',\n",
       " 'plot_phase',\n",
       " 'plot_prop',\n",
       " 'prop',\n",
       " 'rotations',\n",
       " 'scan_unit',\n",
       " 'shape',\n",
       " 'size']"
      ]
     },
     "execution_count": 12,
     "metadata": {},
     "output_type": "execute_result"
    }
   ],
   "source": [
    "[i for i in dir(cm) if not i.startswith('_')]"
   ]
  },
  {
   "cell_type": "markdown",
   "metadata": {},
   "source": [
    "Docstrings of public attributes and their values in the current CrystalMap instance"
   ]
  },
  {
   "cell_type": "code",
   "execution_count": 13,
   "metadata": {},
   "outputs": [
    {
     "name": "stdout",
     "output_type": "stream",
     "text": [
      "Return whether all map pixels are indexed.\n"
     ]
    },
    {
     "data": {
      "text/plain": [
       "True"
      ]
     },
     "execution_count": 13,
     "metadata": {},
     "output_type": "execute_result"
    }
   ],
   "source": [
    "print(CrystalMap.all_indexed.__doc__)\n",
    "cm.all_indexed"
   ]
  },
  {
   "cell_type": "code",
   "execution_count": 14,
   "metadata": {},
   "outputs": [
    {
     "name": "stdout",
     "output_type": "stream",
     "text": [
      "Return pixel step size in each direction in scan units.\n"
     ]
    },
    {
     "data": {
      "text/plain": [
       "[1.5, 1.5]"
      ]
     },
     "execution_count": 14,
     "metadata": {},
     "output_type": "execute_result"
    }
   ],
   "source": [
    "print(CrystalMap.dx.__doc__)\n",
    "cm.dx"
   ]
  },
  {
   "cell_type": "code",
   "execution_count": 15,
   "metadata": {},
   "outputs": [
    {
     "name": "stdout",
     "output_type": "stream",
     "text": [
      "Return boolean numpy.ndarray with indexed pixels set to True.\n"
     ]
    },
    {
     "data": {
      "text/plain": [
       "array([[ True,  True,  True, ...,  True,  True,  True],\n",
       "       [ True,  True,  True, ...,  True,  True,  True],\n",
       "       [ True,  True,  True, ...,  True,  True,  True],\n",
       "       ...,\n",
       "       [ True,  True,  True, ...,  True,  True,  True],\n",
       "       [ True,  True,  True, ...,  True,  True,  True],\n",
       "       [ True,  True,  True, ...,  True,  True,  True]])"
      ]
     },
     "execution_count": 15,
     "metadata": {},
     "output_type": "execute_result"
    }
   ],
   "source": [
    "print(CrystalMap.indexed.__doc__)\n",
    "cm.indexed"
   ]
  },
  {
   "cell_type": "code",
   "execution_count": 16,
   "metadata": {},
   "outputs": [
    {
     "name": "stdout",
     "output_type": "stream",
     "text": [
      "Return number of map dimensions.\n"
     ]
    },
    {
     "data": {
      "text/plain": [
       "2"
      ]
     },
     "execution_count": 16,
     "metadata": {},
     "output_type": "execute_result"
    }
   ],
   "source": [
    "print(CrystalMap.ndim.__doc__)\n",
    "cm.ndim"
   ]
  },
  {
   "cell_type": "code",
   "execution_count": 17,
   "metadata": {},
   "outputs": [
    {
     "name": "stdout",
     "output_type": "stream",
     "text": [
      "Return an Orientation object, which is always 1D.\n"
     ]
    },
    {
     "data": {
      "text/plain": [
       "Orientation (5657,) 1, 432\n",
       "[[-0.9982 -0.0082  0.0001 -0.0589]\n",
       " [-0.9982 -0.0082  0.0001 -0.0589]\n",
       " [-0.9982 -0.0082  0.0001 -0.0588]\n",
       " ...\n",
       " [-0.9982 -0.0014 -0.     -0.0593]\n",
       " [-0.9987 -0.0074  0.0001 -0.0506]\n",
       " [-0.9987 -0.0074  0.0001 -0.0506]]"
      ]
     },
     "execution_count": 17,
     "metadata": {},
     "output_type": "execute_result"
    }
   ],
   "source": [
    "print(CrystalMap.orientations.__doc__)\n",
    "cm['austenite'].orientations"
   ]
  },
  {
   "cell_type": "code",
   "execution_count": 18,
   "metadata": {},
   "outputs": [
    {
     "name": "stdout",
     "output_type": "stream",
     "text": [
      "Return numpy.ndarray of the phase ID of each map pixel.\n"
     ]
    },
    {
     "data": {
      "text/plain": [
       "array([[2, 1, 1, ..., 1, 1, 1],\n",
       "       [2, 2, 1, ..., 1, 1, 1],\n",
       "       [2, 2, 2, ..., 1, 1, 1],\n",
       "       ...,\n",
       "       [2, 2, 2, ..., 2, 2, 1],\n",
       "       [2, 2, 2, ..., 2, 2, 1],\n",
       "       [2, 2, 2, ..., 2, 1, 1]])"
      ]
     },
     "execution_count": 18,
     "metadata": {},
     "output_type": "execute_result"
    }
   ],
   "source": [
    "print(CrystalMap.phase_id.__doc__)\n",
    "cm.phase_id"
   ]
  },
  {
   "cell_type": "code",
   "execution_count": 19,
   "metadata": {},
   "outputs": [
    {
     "name": "stdout",
     "output_type": "stream",
     "text": [
      "Return a list of phases in the map (and potentially more).\n"
     ]
    },
    {
     "data": {
      "text/plain": [
       "Id  Name      Symmetry Color     \n",
       "1   austenite 432      tab:blue  \n",
       "2   ferrite   432      tab:orange"
      ]
     },
     "execution_count": 19,
     "metadata": {},
     "output_type": "execute_result"
    }
   ],
   "source": [
    "print(CrystalMap.phases.__doc__)\n",
    "cm.phases  # similar CrystalMap's __repr__"
   ]
  },
  {
   "cell_type": "code",
   "execution_count": 20,
   "metadata": {},
   "outputs": [
    {
     "name": "stdout",
     "output_type": "stream",
     "text": [
      "Return a list of phases in the map.\n"
     ]
    },
    {
     "data": {
      "text/plain": [
       "Id  Name      Symmetry Color     \n",
       "1   austenite 432      tab:blue  \n",
       "2   ferrite   432      tab:orange"
      ]
     },
     "execution_count": 20,
     "metadata": {},
     "output_type": "execute_result"
    }
   ],
   "source": [
    "print(CrystalMap.phases_in_map.__doc__)\n",
    "cm.phases_in_map"
   ]
  },
  {
   "cell_type": "code",
   "execution_count": 21,
   "metadata": {},
   "outputs": [
    {
     "name": "stdout",
     "output_type": "stream",
     "text": [
      "Return map pixel IDs as a numpy.ndarray of same shape as map.\n"
     ]
    },
    {
     "data": {
      "text/plain": [
       "array([[    0,     1,     2, ...,   114,   115,   116],\n",
       "       [  117,   118,   119, ...,   231,   232,   233],\n",
       "       [  234,   235,   236, ...,   348,   349,   350],\n",
       "       ...,\n",
       "       [11349, 11350, 11351, ..., 11463, 11464, 11465],\n",
       "       [11466, 11467, 11468, ..., 11580, 11581, 11582],\n",
       "       [11583, 11584, 11585, ..., 11697, 11698, 11699]])"
      ]
     },
     "execution_count": 21,
     "metadata": {},
     "output_type": "execute_result"
    }
   ],
   "source": [
    "print(CrystalMap.pixel_id.__doc__)\n",
    "cm.pixel_id"
   ]
  },
  {
   "cell_type": "code",
   "execution_count": 22,
   "metadata": {},
   "outputs": [
    {
     "name": "stdout",
     "output_type": "stream",
     "text": [
      "Return a dict of properties of each pixel.\n"
     ]
    },
    {
     "data": {
      "text/plain": [
       "{'iq': array([[24.4, 24. , 30.3, ..., 31.4, 29.1, 30.3],\n",
       "        [23.1, 27. , 19.8, ..., 31.5, 32.7, 30.2],\n",
       "        [27.5, 33.7, 24.3, ..., 31.5, 30.9, 30.1],\n",
       "        ...,\n",
       "        [22.4, 31.1, 32.1, ..., 35.8, 33.4, 25.1],\n",
       "        [21.9, 35.5, 33.8, ..., 33. , 23.9, 23.5],\n",
       "        [24.7, 33.2, 33.3, ..., 25.3, 25.8, 31.7]]),\n",
       " 'ci': array([[0.799, 0.797, 0.825, ..., 0.826, 0.826, 0.828],\n",
       "        [0.799, 0.815, 0.807, ..., 0.827, 0.828, 0.824],\n",
       "        [0.797, 0.828, 0.809, ..., 0.829, 0.831, 0.827],\n",
       "        ...,\n",
       "        [0.798, 0.825, 0.831, ..., 0.833, 0.829, 0.8  ],\n",
       "        [0.803, 0.83 , 0.835, ..., 0.828, 0.811, 0.818],\n",
       "        [0.806, 0.831, 0.832, ..., 0.817, 0.809, 0.828]]),\n",
       " 'fit': array([[1., 1., 1., ..., 1., 1., 1.],\n",
       "        [1., 1., 1., ..., 1., 1., 1.],\n",
       "        [1., 1., 1., ..., 1., 1., 1.],\n",
       "        ...,\n",
       "        [1., 1., 1., ..., 1., 1., 1.],\n",
       "        [1., 1., 1., ..., 1., 1., 1.],\n",
       "        [1., 1., 1., ..., 1., 1., 1.]])}"
      ]
     },
     "execution_count": 22,
     "metadata": {},
     "output_type": "execute_result"
    }
   ],
   "source": [
    "print(CrystalMap.prop.__doc__)\n",
    "cm.prop"
   ]
  },
  {
   "cell_type": "code",
   "execution_count": 23,
   "metadata": {},
   "outputs": [
    {
     "name": "stdout",
     "output_type": "stream",
     "text": [
      "Return a Rotation object, which is always 1D.\n",
      "\n",
      "        Must always be 1D because of possible masked elements in indexed\n",
      "        attribute.\n",
      "        \n"
     ]
    },
    {
     "data": {
      "text/plain": [
       "Rotation (11700,)\n",
       "[[-0.9984 -0.0059 -0.     -0.057 ]\n",
       " [-0.9982 -0.0082  0.0001 -0.0589]\n",
       " [-0.9982 -0.0082  0.0001 -0.0589]\n",
       " ...\n",
       " [-0.9987 -0.006   0.0003 -0.0505]\n",
       " [-0.9987 -0.0074  0.0001 -0.0506]\n",
       " [-0.9987 -0.0074  0.0001 -0.0506]]"
      ]
     },
     "execution_count": 23,
     "metadata": {},
     "output_type": "execute_result"
    }
   ],
   "source": [
    "print(CrystalMap.rotations.__doc__)\n",
    "cm.rotations"
   ]
  },
  {
   "cell_type": "code",
   "execution_count": 24,
   "metadata": {},
   "outputs": [
    {
     "name": "stdout",
     "output_type": "stream",
     "text": [
      "Return scan unit as a string.\n"
     ]
    },
    {
     "data": {
      "text/plain": [
       "'um'"
      ]
     },
     "execution_count": 24,
     "metadata": {},
     "output_type": "execute_result"
    }
   ],
   "source": [
    "print(CrystalMap.scan_unit.__doc__)\n",
    "cm.scan_unit"
   ]
  },
  {
   "cell_type": "code",
   "execution_count": 25,
   "metadata": {},
   "outputs": [
    {
     "name": "stdout",
     "output_type": "stream",
     "text": [
      "Return shape of map in pixels.\n"
     ]
    },
    {
     "data": {
      "text/plain": [
       "(100, 117)"
      ]
     },
     "execution_count": 25,
     "metadata": {},
     "output_type": "execute_result"
    }
   ],
   "source": [
    "print(CrystalMap.shape.__doc__)\n",
    "cm.shape"
   ]
  },
  {
   "cell_type": "code",
   "execution_count": 26,
   "metadata": {},
   "outputs": [
    {
     "name": "stdout",
     "output_type": "stream",
     "text": [
      "Return total number of map pixels.\n"
     ]
    },
    {
     "data": {
      "text/plain": [
       "11700"
      ]
     },
     "execution_count": 26,
     "metadata": {},
     "output_type": "execute_result"
    }
   ],
   "source": [
    "print(CrystalMap.size.__doc__)\n",
    "cm.size"
   ]
  },
  {
   "cell_type": "markdown",
   "metadata": {},
   "source": [
    "Docstrings of CrystalMap methods"
   ]
  },
  {
   "cell_type": "code",
   "execution_count": 27,
   "metadata": {},
   "outputs": [
    {
     "name": "stdout",
     "output_type": "stream",
     "text": [
      "Return and plot map phases.\n",
      "\n",
      "        Parameters\n",
      "        ----------\n",
      "        overlay : str, optional\n",
      "            Map property to use as alpha value. The property is adjusted\n",
      "            for maximum contrast.\n",
      "        legend : bool, optional\n",
      "            Whether to display a legend with phases in the map (default is\n",
      "            ``True``).\n",
      "        scalebar : bool, optional\n",
      "            Whether to add a scalebar (default is ``True``) along the last\n",
      "            map dimension.\n",
      "        padding : bool, optional\n",
      "            Whether to show white padding (default is ``True``). Setting\n",
      "            this to false removes all white padding outside of plot,\n",
      "            including pixel coordinate ticks.\n",
      "        **kwargs :\n",
      "            Optional keyword arguments passed to\n",
      "            :meth:`matplotlib.pyplot.imshow`.\n",
      "\n",
      "        Returns\n",
      "        -------\n",
      "        phase : numpy.ndarray\n",
      "            Phase array as passed to :meth:`matplotlib.pyplot.imshow` with\n",
      "            colors and potential alpha value if a valid `overlay` argument\n",
      "            was passed.\n",
      "        fig : matplotlib.figure.Figure\n",
      "            Top level container for all plot elements.\n",
      "        ax : matplotlib.axes.Axes\n",
      "            Axes object returned by :meth:`matplotlib.pyplot.subplots`.\n",
      "        im : matplotlib.image.AxesImage\n",
      "            Image object returned by :meth:`matplotlib.axes.Axes.imshow`.\n",
      "\n",
      "        Examples\n",
      "        --------\n",
      "        >>> cm\n",
      "        Phase  Orientations   Name       Symmetry  Color\n",
      "        1      5657 (48.4%)   austenite  432       tab:blue\n",
      "        2      6043 (51.6%)   ferrite    432       tab:orange\n",
      "        Properties: iq, ci, fit\n",
      "        Scan unit: um\n",
      "        >>> phase, fig, ax, im = cm.plot_phase(overlay='ci')\n",
      "        \n"
     ]
    }
   ],
   "source": [
    "print(CrystalMap.plot_phase.__doc__)"
   ]
  },
  {
   "cell_type": "code",
   "execution_count": 28,
   "metadata": {},
   "outputs": [
    {
     "name": "stdout",
     "output_type": "stream",
     "text": [
      "Plot of a map property.\n",
      "\n",
      "        Parameters\n",
      "        ----------\n",
      "        prop : str\n",
      "            The property in `prop` to plot.\n",
      "        colorbar : bool, optional\n",
      "            Whether to add a colorbar (default is ``True``).\n",
      "        scalebar : bool, optional\n",
      "            Whether to add a scalebar (default is ``True``) along the last\n",
      "            map dimension.\n",
      "        padding : bool, optional\n",
      "            Whether to show white padding (default is ``True``). Setting\n",
      "            this to ``False`` removes all white padding outside of plot,\n",
      "            including pixel coordinate ticks.\n",
      "        **kwargs :\n",
      "            Optional keyword arguments passed to\n",
      "            :meth:`matplotlib.pyplot.imshow`.\n",
      "\n",
      "        Returns\n",
      "        -------\n",
      "        fig : matplotlib.figure.Figure\n",
      "            Top level container for all plot elements.\n",
      "        ax : matplotlib.axes.Axes\n",
      "            Axes object returned by :meth:`matplotlib.pyplot.subplots`.\n",
      "        im : matplotlib.image.AxesImage\n",
      "            Image object returned by :meth:`matplotlib.axes.Axes.imshow`.\n",
      "        prop_to_plot : numpy.ndarray\n",
      "            Property array as passed to :meth:`matplotlib.pyplot.imshow`.\n",
      "\n",
      "        Examples\n",
      "        --------\n",
      "        >>> cm\n",
      "        Phase  Orientations   Name       Symmetry  Color\n",
      "        1      5657 (48.4%)   austenite  432       tab:blue\n",
      "        2      6043 (51.6%)   ferrite    432       tab:orange\n",
      "        Properties: iq, ci, fit\n",
      "        Scan unit: um\n",
      "        >>> data, fig, ax, im = cm.plot_prop('ci')\n",
      "        \n"
     ]
    }
   ],
   "source": [
    "print(CrystalMap.plot_prop.__doc__)"
   ]
  },
  {
   "cell_type": "markdown",
   "metadata": {},
   "source": [
    "Indexing/slicing ..."
   ]
  },
  {
   "cell_type": "markdown",
   "metadata": {},
   "source": [
    "... by map position (slices)"
   ]
  },
  {
   "cell_type": "code",
   "execution_count": 29,
   "metadata": {},
   "outputs": [
    {
     "data": {
      "text/plain": [
       "Phase  Orientations   Name       Symmetry  Color     \n",
       "1      148 (74.0%)    austenite  432       tab:blue  \n",
       "2      52 (26.0%)     ferrite    432       tab:orange\n",
       "Properties: iq, ci, fit\n",
       "Scan unit: um"
      ]
     },
     "execution_count": 29,
     "metadata": {},
     "output_type": "execute_result"
    }
   ],
   "source": [
    "(y0, y1) = (20, 40)\n",
    "(x0, x1) = (50, 60)\n",
    "cm1 = cm[y0:y1, x0:x1]\n",
    "cm1"
   ]
  },
  {
   "cell_type": "code",
   "execution_count": 30,
   "metadata": {},
   "outputs": [
    {
     "data": {
      "text/plain": [
       "200"
      ]
     },
     "execution_count": 30,
     "metadata": {},
     "output_type": "execute_result"
    }
   ],
   "source": [
    "cm1.size"
   ]
  },
  {
   "cell_type": "markdown",
   "metadata": {},
   "source": [
    "... by phase name"
   ]
  },
  {
   "cell_type": "code",
   "execution_count": 31,
   "metadata": {},
   "outputs": [
    {
     "data": {
      "text/plain": [
       "Phase  Orientations   Name       Symmetry  Color   \n",
       "1      5657 (100.0%)  austenite  432       tab:blue\n",
       "Properties: iq, ci, fit\n",
       "Scan unit: um"
      ]
     },
     "execution_count": 31,
     "metadata": {},
     "output_type": "execute_result"
    }
   ],
   "source": [
    "cm2 = cm['austenite']\n",
    "cm2"
   ]
  },
  {
   "cell_type": "code",
   "execution_count": 32,
   "metadata": {},
   "outputs": [
    {
     "data": {
      "text/plain": [
       "0.4835042735042735"
      ]
     },
     "execution_count": 32,
     "metadata": {},
     "output_type": "execute_result"
    }
   ],
   "source": [
    "# np.sum(cm2.indexed) / cm.size\n",
    "cm2.size / cm.size"
   ]
  },
  {
   "cell_type": "code",
   "execution_count": 33,
   "metadata": {},
   "outputs": [
    {
     "data": {
      "text/plain": [
       "Phase  Orientations   Name       Symmetry  Color     \n",
       "1      5657 (48.4%)   austenite  432       tab:blue  \n",
       "2      6043 (51.6%)   ferrite    432       tab:orange\n",
       "Properties: iq, ci, fit\n",
       "Scan unit: um"
      ]
     },
     "execution_count": 33,
     "metadata": {},
     "output_type": "execute_result"
    }
   ],
   "source": [
    "cm3 = cm['austenite', 'ferrite']\n",
    "cm3"
   ]
  },
  {
   "cell_type": "markdown",
   "metadata": {},
   "source": [
    "... by (chained) conditional(s)"
   ]
  },
  {
   "cell_type": "code",
   "execution_count": 34,
   "metadata": {},
   "outputs": [
    {
     "data": {
      "text/plain": [
       "Phase  Orientations   Name       Symmetry  Color   \n",
       "1      5657 (100.0%)  austenite  432       tab:blue\n",
       "Properties: iq, ci, fit\n",
       "Scan unit: um"
      ]
     },
     "execution_count": 34,
     "metadata": {},
     "output_type": "execute_result"
    }
   ],
   "source": [
    "cm4 = cm[cm.phase_id == 1]\n",
    "cm4"
   ]
  },
  {
   "cell_type": "code",
   "execution_count": 35,
   "metadata": {},
   "outputs": [
    {
     "data": {
      "text/plain": [
       "Phase  Orientations   Name       Symmetry  Color     \n",
       "1      4092 (44.8%)   austenite  432       tab:blue  \n",
       "2      5035 (55.2%)   ferrite    432       tab:orange\n",
       "Properties: iq, ci, fit\n",
       "Scan unit: um"
      ]
     },
     "execution_count": 35,
     "metadata": {},
     "output_type": "execute_result"
    }
   ],
   "source": [
    "cm5 = cm[cm.ci > 0.81]\n",
    "cm5"
   ]
  },
  {
   "cell_type": "code",
   "execution_count": 36,
   "metadata": {},
   "outputs": [
    {
     "data": {
      "text/plain": [
       "Phase  Orientations   Name       Symmetry  Color   \n",
       "1      1890 (100.0%)  austenite  432       tab:blue\n",
       "Properties: iq, ci, fit\n",
       "Scan unit: um"
      ]
     },
     "execution_count": 36,
     "metadata": {},
     "output_type": "execute_result"
    }
   ],
   "source": [
    "cm6 = cm[(cm.iq > np.mean(cm.iq)) & (cm.phase_id == 1)]\n",
    "cm6"
   ]
  },
  {
   "cell_type": "markdown",
   "metadata": {},
   "source": [
    "Add property"
   ]
  },
  {
   "cell_type": "code",
   "execution_count": 37,
   "metadata": {},
   "outputs": [
    {
     "name": "stdout",
     "output_type": "stream",
     "text": [
      "Phase  Orientations   Name       Symmetry  Color     \n",
      "1      5657 (48.4%)   austenite  432       tab:blue  \n",
      "2      6043 (51.6%)   ferrite    432       tab:orange\n",
      "Properties: iq, ci, fit, ci_times_iq\n",
      "Scan unit: um\n",
      "\n",
      " [[19.4956 19.128  24.9975 ... 25.9364 24.0366 25.0884]\n",
      " [18.4569 22.005  15.9786 ... 26.0505 27.0756 24.8848]\n",
      " [21.9175 27.9036 19.6587 ... 26.1135 25.6779 24.8927]\n",
      " ...\n",
      " [17.8752 25.6575 26.6751 ... 29.8214 27.6886 20.08  ]\n",
      " [17.5857 29.465  28.223  ... 27.324  19.3829 19.223 ]\n",
      " [19.9082 27.5892 27.7056 ... 20.6701 20.8722 26.2476]]\n"
     ]
    }
   ],
   "source": [
    "cm.prop['ci_times_iq'] = cm.ci * cm.iq\n",
    "print(cm)\n",
    "print(\"\\n\", cm.ci_times_iq)"
   ]
  },
  {
   "cell_type": "markdown",
   "metadata": {},
   "source": [
    "# <a id='phaselist'></a> 4. PhaseList"
   ]
  },
  {
   "cell_type": "code",
   "execution_count": 38,
   "metadata": {},
   "outputs": [
    {
     "name": "stdout",
     "output_type": "stream",
     "text": [
      "A dictionary of phases in a crystallographic map.\n",
      "\n",
      "    Each phase in the dictionary must has a unique phase id as key.\n",
      "\n",
      "    Attributes\n",
      "    ----------\n",
      "    size : int\n",
      "        Number of phases in list.\n",
      "    names : list of str\n",
      "        List of phase names.\n",
      "    symmetries : list of orix.quaternion.symmetry.Symmetry\n",
      "        List of phase crystal symmetries.\n",
      "    colors : list of tuple\n",
      "        List of tuples with three entries, RGB, defining phase colors.\n",
      "    phase_ids : list of int\n",
      "        List of unique phase indices in a crystallographic map as imported.\n",
      "    \n"
     ]
    }
   ],
   "source": [
    "print(PhaseList.__doc__)"
   ]
  },
  {
   "cell_type": "markdown",
   "metadata": {},
   "source": [
    "Get from CrystalMap"
   ]
  },
  {
   "cell_type": "code",
   "execution_count": 39,
   "metadata": {},
   "outputs": [
    {
     "data": {
      "text/plain": [
       "Id  Name      Symmetry Color     \n",
       "1   austenite 432      tab:blue  \n",
       "2   ferrite   432      tab:orange"
      ]
     },
     "execution_count": 39,
     "metadata": {},
     "output_type": "execute_result"
    }
   ],
   "source": [
    "phases = cm.phases  # As shown above\n",
    "phases"
   ]
  },
  {
   "cell_type": "markdown",
   "metadata": {},
   "source": [
    "Custom, private attributes"
   ]
  },
  {
   "cell_type": "code",
   "execution_count": 40,
   "metadata": {},
   "outputs": [
    {
     "data": {
      "text/plain": [
       "['_dict']"
      ]
     },
     "execution_count": 40,
     "metadata": {},
     "output_type": "execute_result"
    }
   ],
   "source": [
    "[i for i in dir(phases) if i.startswith('_') and not i.endswith('__')]"
   ]
  },
  {
   "cell_type": "markdown",
   "metadata": {},
   "source": [
    "Public attributes"
   ]
  },
  {
   "cell_type": "code",
   "execution_count": 41,
   "metadata": {},
   "outputs": [
    {
     "data": {
      "text/plain": [
       "['colors',\n",
       " 'colors_rgb',\n",
       " 'deepcopy',\n",
       " 'names',\n",
       " 'phase_ids',\n",
       " 'size',\n",
       " 'symmetries']"
      ]
     },
     "execution_count": 41,
     "metadata": {},
     "output_type": "execute_result"
    }
   ],
   "source": [
    "[i for i in dir(phases) if not i.startswith('_')]"
   ]
  },
  {
   "cell_type": "markdown",
   "metadata": {},
   "source": [
    "Inspect properties"
   ]
  },
  {
   "cell_type": "code",
   "execution_count": 42,
   "metadata": {},
   "outputs": [
    {
     "name": "stdout",
     "output_type": "stream",
     "text": [
      "Number of phases in the list.\n"
     ]
    },
    {
     "data": {
      "text/plain": [
       "2"
      ]
     },
     "execution_count": 42,
     "metadata": {},
     "output_type": "execute_result"
    }
   ],
   "source": [
    "print(PhaseList.size.__doc__)\n",
    "phases.size"
   ]
  },
  {
   "cell_type": "code",
   "execution_count": 43,
   "metadata": {},
   "outputs": [
    {
     "name": "stdout",
     "output_type": "stream",
     "text": [
      "Unique phase IDs in the list of phases.\n"
     ]
    },
    {
     "data": {
      "text/plain": [
       "[1, 2]"
      ]
     },
     "execution_count": 43,
     "metadata": {},
     "output_type": "execute_result"
    }
   ],
   "source": [
    "print(PhaseList.phase_ids.__doc__)\n",
    "phases.phase_ids"
   ]
  },
  {
   "cell_type": "code",
   "execution_count": 44,
   "metadata": {},
   "outputs": [
    {
     "name": "stdout",
     "output_type": "stream",
     "text": [
      "List of phase names in the list.\n"
     ]
    },
    {
     "data": {
      "text/plain": [
       "['austenite', 'ferrite']"
      ]
     },
     "execution_count": 44,
     "metadata": {},
     "output_type": "execute_result"
    }
   ],
   "source": [
    "print(PhaseList.names.__doc__)\n",
    "phases.names"
   ]
  },
  {
   "cell_type": "code",
   "execution_count": 45,
   "metadata": {},
   "outputs": [
    {
     "name": "stdout",
     "output_type": "stream",
     "text": [
      "List of crystal symmetries of phases in the list.\n"
     ]
    },
    {
     "data": {
      "text/plain": [
       "[Symmetry (24,) 432\n",
       " [[ 1.      0.      0.      0.    ]\n",
       "  [ 0.7071  0.      0.      0.7071]\n",
       "  [ 0.      0.      0.      1.    ]\n",
       "  [-0.7071  0.      0.      0.7071]\n",
       "  [ 0.5     0.5     0.5     0.5   ]\n",
       "  [ 0.      0.      0.7071  0.7071]\n",
       "  [-0.5    -0.5     0.5     0.5   ]\n",
       "  [-0.7071 -0.7071  0.      0.    ]\n",
       "  [ 0.      1.      0.      0.    ]\n",
       "  [ 0.      0.7071  0.7071  0.    ]\n",
       "  [ 0.      0.      1.      0.    ]\n",
       "  [ 0.     -0.7071  0.7071  0.    ]\n",
       "  [-0.5     0.5     0.5    -0.5   ]\n",
       "  [ 0.      0.      0.7071 -0.7071]\n",
       "  [ 0.5    -0.5     0.5    -0.5   ]\n",
       "  [ 0.7071 -0.7071  0.      0.    ]\n",
       "  [ 0.      0.7071  0.      0.7071]\n",
       "  [-0.5     0.5     0.5     0.5   ]\n",
       "  [-0.7071  0.      0.7071  0.    ]\n",
       "  [-0.5    -0.5     0.5    -0.5   ]\n",
       "  [ 0.      0.7071  0.     -0.7071]\n",
       "  [ 0.5     0.5     0.5    -0.5   ]\n",
       "  [ 0.7071  0.      0.7071  0.    ]\n",
       "  [ 0.5    -0.5     0.5     0.5   ]],\n",
       " Symmetry (24,) 432\n",
       " [[ 1.      0.      0.      0.    ]\n",
       "  [ 0.7071  0.      0.      0.7071]\n",
       "  [ 0.      0.      0.      1.    ]\n",
       "  [-0.7071  0.      0.      0.7071]\n",
       "  [ 0.5     0.5     0.5     0.5   ]\n",
       "  [ 0.      0.      0.7071  0.7071]\n",
       "  [-0.5    -0.5     0.5     0.5   ]\n",
       "  [-0.7071 -0.7071  0.      0.    ]\n",
       "  [ 0.      1.      0.      0.    ]\n",
       "  [ 0.      0.7071  0.7071  0.    ]\n",
       "  [ 0.      0.      1.      0.    ]\n",
       "  [ 0.     -0.7071  0.7071  0.    ]\n",
       "  [-0.5     0.5     0.5    -0.5   ]\n",
       "  [ 0.      0.      0.7071 -0.7071]\n",
       "  [ 0.5    -0.5     0.5    -0.5   ]\n",
       "  [ 0.7071 -0.7071  0.      0.    ]\n",
       "  [ 0.      0.7071  0.      0.7071]\n",
       "  [-0.5     0.5     0.5     0.5   ]\n",
       "  [-0.7071  0.      0.7071  0.    ]\n",
       "  [-0.5    -0.5     0.5    -0.5   ]\n",
       "  [ 0.      0.7071  0.     -0.7071]\n",
       "  [ 0.5     0.5     0.5    -0.5   ]\n",
       "  [ 0.7071  0.      0.7071  0.    ]\n",
       "  [ 0.5    -0.5     0.5     0.5   ]]]"
      ]
     },
     "execution_count": 45,
     "metadata": {},
     "output_type": "execute_result"
    }
   ],
   "source": [
    "print(PhaseList.symmetries.__doc__)\n",
    "phases.symmetries"
   ]
  },
  {
   "cell_type": "code",
   "execution_count": 46,
   "metadata": {},
   "outputs": [],
   "source": [
    "# Should perhaps add this property\n",
    "#phases.symmetry_names"
   ]
  },
  {
   "cell_type": "code",
   "execution_count": 47,
   "metadata": {},
   "outputs": [
    {
     "name": "stdout",
     "output_type": "stream",
     "text": [
      "List of phase color names in the list.\n"
     ]
    },
    {
     "data": {
      "text/plain": [
       "['tab:blue', 'tab:orange']"
      ]
     },
     "execution_count": 47,
     "metadata": {},
     "output_type": "execute_result"
    }
   ],
   "source": [
    "print(PhaseList.colors.__doc__)\n",
    "phases.colors"
   ]
  },
  {
   "cell_type": "code",
   "execution_count": 48,
   "metadata": {},
   "outputs": [
    {
     "name": "stdout",
     "output_type": "stream",
     "text": [
      "List of phase color RGB values in the list.\n"
     ]
    },
    {
     "data": {
      "text/plain": [
       "[(0.12156862745098039, 0.4666666666666667, 0.7058823529411765),\n",
       " (1.0, 0.4980392156862745, 0.054901960784313725)]"
      ]
     },
     "execution_count": 48,
     "metadata": {},
     "output_type": "execute_result"
    }
   ],
   "source": [
    "print(PhaseList.colors_rgb.__doc__)\n",
    "phases.colors_rgb"
   ]
  },
  {
   "cell_type": "markdown",
   "metadata": {},
   "source": [
    "Initialize a PhaseList..."
   ]
  },
  {
   "cell_type": "code",
   "execution_count": 49,
   "metadata": {},
   "outputs": [
    {
     "name": "stdout",
     "output_type": "stream",
     "text": [
      "None\n"
     ]
    }
   ],
   "source": [
    "print(PhaseList.__init__.__doc__)"
   ]
  },
  {
   "cell_type": "markdown",
   "metadata": {},
   "source": [
    "... from input"
   ]
  },
  {
   "cell_type": "code",
   "execution_count": 50,
   "metadata": {},
   "outputs": [
    {
     "data": {
      "text/plain": [
       "Id  Name  Symmetry Color      \n",
       "0   al    m-3m     lime       \n",
       "1   cu    m-3m     xkcd:violet"
      ]
     },
     "execution_count": 50,
     "metadata": {},
     "output_type": "execute_result"
    }
   ],
   "source": [
    "PhaseList(\n",
    "    names=['al', 'cu'],\n",
    "    symmetries=['m-3m', 'm3m'],  # Note that m3m = m-3m\n",
    "    colors=['lime', 'xkcd:violet'],\n",
    "    phase_ids=[0, 1],\n",
    ")"
   ]
  },
  {
   "cell_type": "markdown",
   "metadata": {},
   "source": [
    "... from a list of Phase objects"
   ]
  },
  {
   "cell_type": "code",
   "execution_count": 74,
   "metadata": {},
   "outputs": [
    {
     "data": {
      "text/plain": [
       "Id  Name  Symmetry Color   \n",
       "0   al    m-3m     tab:blue"
      ]
     },
     "execution_count": 74,
     "metadata": {},
     "output_type": "execute_result"
    }
   ],
   "source": [
    "al = Phase(name='al', symmetry='m-3m')\n",
    "cu = Phase(name='cu')\n",
    "\n",
    "#PhaseList([al, cu])  # Not working, will implement\n",
    "PhaseList(al)"
   ]
  },
  {
   "cell_type": "markdown",
   "metadata": {},
   "source": [
    "Index PhaseList..."
   ]
  },
  {
   "cell_type": "code",
   "execution_count": 52,
   "metadata": {},
   "outputs": [
    {
     "name": "stdout",
     "output_type": "stream",
     "text": [
      "Return a PhaseList or a Phase object, depending on input.\n",
      "\n",
      "        Examples\n",
      "        --------\n",
      "        A PhaseList object can be indexed in multiple ways.\n",
      "        >>> pl = PhaseList(names=['a', 'b'], symmetries=['1', '3'])\n",
      "        >>> pl\n",
      "        Id  Name  Symmetry  Color\n",
      "        0   a     1         tab:blue\n",
      "        1   b     3         tab:orange\n",
      "\n",
      "        Return a Phase object\n",
      "\n",
      "        >>> pl[0]  # Index with a single phase id\n",
      "        <name: a. symmetry: 1. color: tab:blue>\n",
      "        >>> pl['b']  # Index with a phase name\n",
      "        <name: b. symmetry: 3. color: tab:orange>\n",
      "\n",
      "        Return a PhaseList object\n",
      "\n",
      "        >>> pl[0:]  # Index with slices\n",
      "        Id  Name  Symmetry  Color\n",
      "        0   a     1         tab:blue\n",
      "        1   b     3         tab:orange\n",
      "        >>> pl['a', 'b']  # Index with a tuple of phase names\n",
      "        Id  Name  Symmetry  Color\n",
      "        0   a     1         tab:blue\n",
      "        1   b     3         tab:orange\n",
      "        >>> pl[0, 1]  # Index with a tuple of phase ids\n",
      "        Id  Name  Symmetry  Color\n",
      "        0   a     1         tab:blue\n",
      "        1   b     3         tab:orange\n",
      "        >>> pl[[0, 1]]  # Index with a list of phase_ids\n",
      "        Id  Name  Symmetry  Color\n",
      "        0   a     1         tab:blue\n",
      "        1   b     3         tab:orange\n",
      "        >>> pl[np.array([0, 1])]  # Index with a numpy.ndarray\n",
      "        Id  Name  Symmetry  Color\n",
      "        0   a     1         tab:blue\n",
      "        1   b     3         tab:orange\n",
      "        \n"
     ]
    }
   ],
   "source": [
    "print(PhaseList.__getitem__.__doc__)\n",
    "# This doc should perhaps be moved to a more accessible place"
   ]
  },
  {
   "cell_type": "markdown",
   "metadata": {},
   "source": [
    "... by phase name"
   ]
  },
  {
   "cell_type": "code",
   "execution_count": 53,
   "metadata": {},
   "outputs": [
    {
     "data": {
      "text/plain": [
       "<name: austenite. symmetry: 432. color: tab:blue>"
      ]
     },
     "execution_count": 53,
     "metadata": {},
     "output_type": "execute_result"
    }
   ],
   "source": [
    "phases['austenite']"
   ]
  },
  {
   "cell_type": "code",
   "execution_count": 54,
   "metadata": {},
   "outputs": [
    {
     "data": {
      "text/plain": [
       "Id  Name      Symmetry Color     \n",
       "1   austenite 432      tab:blue  \n",
       "2   ferrite   432      tab:orange"
      ]
     },
     "execution_count": 54,
     "metadata": {},
     "output_type": "execute_result"
    }
   ],
   "source": [
    "phases['austenite', 'ferrite']"
   ]
  },
  {
   "cell_type": "markdown",
   "metadata": {},
   "source": [
    "... by phase id"
   ]
  },
  {
   "cell_type": "code",
   "execution_count": 55,
   "metadata": {},
   "outputs": [
    {
     "data": {
      "text/plain": [
       "<name: austenite. symmetry: 432. color: tab:blue>"
      ]
     },
     "execution_count": 55,
     "metadata": {},
     "output_type": "execute_result"
    }
   ],
   "source": [
    "phases[1]"
   ]
  },
  {
   "cell_type": "code",
   "execution_count": 56,
   "metadata": {},
   "outputs": [
    {
     "data": {
      "text/plain": [
       "Id  Name      Symmetry Color     \n",
       "1   austenite 432      tab:blue  \n",
       "2   ferrite   432      tab:orange"
      ]
     },
     "execution_count": 56,
     "metadata": {},
     "output_type": "execute_result"
    }
   ],
   "source": [
    "phases[1, 2]"
   ]
  },
  {
   "cell_type": "markdown",
   "metadata": {},
   "source": [
    "... by slice"
   ]
  },
  {
   "cell_type": "code",
   "execution_count": 57,
   "metadata": {},
   "outputs": [
    {
     "data": {
      "text/plain": [
       "Id  Name      Symmetry Color     \n",
       "1   austenite 432      tab:blue  \n",
       "2   ferrite   432      tab:orange"
      ]
     },
     "execution_count": 57,
     "metadata": {},
     "output_type": "execute_result"
    }
   ],
   "source": [
    "phases[1:]"
   ]
  },
  {
   "cell_type": "markdown",
   "metadata": {},
   "source": [
    "Add phase to PhaseList"
   ]
  },
  {
   "cell_type": "code",
   "execution_count": 58,
   "metadata": {},
   "outputs": [
    {
     "data": {
      "text/plain": [
       "Id  Name      Symmetry Color     \n",
       "1   austenite 432      tab:blue  \n",
       "2   ferrite   432      tab:orange\n",
       "3   sigma     4/mmm    tab:green "
      ]
     },
     "execution_count": 58,
     "metadata": {},
     "output_type": "execute_result"
    }
   ],
   "source": [
    "phases2 = phases.deepcopy()\n",
    "phases2['sigma'] = '4/mmm'\n",
    "phases2"
   ]
  },
  {
   "cell_type": "markdown",
   "metadata": {},
   "source": [
    "# <a id='phase'></a> 5. Phase"
   ]
  },
  {
   "cell_type": "code",
   "execution_count": 59,
   "metadata": {},
   "outputs": [
    {
     "name": "stdout",
     "output_type": "stream",
     "text": [
      "Name, crystal symmetry, and color of a phase in a crystallographic\n",
      "    map.\n",
      "\n",
      "    Attributes\n",
      "    ----------\n",
      "    name : str, None\n",
      "        Phase name.\n",
      "    symmetry : orix.quaternion.symmetries.Symmetry, None\n",
      "        Crystal symmetries of the phase.\n",
      "    color : str\n",
      "        Name of phase color in Matplotlib's list of named colors.\n",
      "    color_rgb : tuple\n",
      "        RGB values of phase color, obtained from the color name.\n",
      "    \n"
     ]
    }
   ],
   "source": [
    "print(Phase.__doc__)"
   ]
  },
  {
   "cell_type": "markdown",
   "metadata": {},
   "source": [
    "No custom, private attributes."
   ]
  },
  {
   "cell_type": "markdown",
   "metadata": {},
   "source": [
    "Public attributes"
   ]
  },
  {
   "cell_type": "code",
   "execution_count": 60,
   "metadata": {},
   "outputs": [
    {
     "data": {
      "text/plain": [
       "['color', 'color_rgb', 'deepcopy', 'name', 'symmetry']"
      ]
     },
     "execution_count": 60,
     "metadata": {},
     "output_type": "execute_result"
    }
   ],
   "source": [
    "[i for i in dir(Phase) if not i.startswith('_')]"
   ]
  },
  {
   "cell_type": "code",
   "execution_count": 61,
   "metadata": {},
   "outputs": [
    {
     "name": "stdout",
     "output_type": "stream",
     "text": [
      "None\n"
     ]
    }
   ],
   "source": [
    "print(Phase.color.__doc__)\n"
   ]
  },
  {
   "cell_type": "markdown",
   "metadata": {},
   "source": [
    "From PhaseList by..."
   ]
  },
  {
   "cell_type": "markdown",
   "metadata": {},
   "source": [
    "... phase name"
   ]
  },
  {
   "cell_type": "code",
   "execution_count": 62,
   "metadata": {},
   "outputs": [
    {
     "data": {
      "text/plain": [
       "<name: austenite. symmetry: 432. color: tab:blue>"
      ]
     },
     "execution_count": 62,
     "metadata": {},
     "output_type": "execute_result"
    }
   ],
   "source": [
    "phases['austenite']"
   ]
  },
  {
   "cell_type": "markdown",
   "metadata": {},
   "source": [
    "... phase ID"
   ]
  },
  {
   "cell_type": "code",
   "execution_count": 63,
   "metadata": {},
   "outputs": [
    {
     "data": {
      "text/plain": [
       "<name: austenite. symmetry: 432. color: tab:blue>"
      ]
     },
     "execution_count": 63,
     "metadata": {},
     "output_type": "execute_result"
    }
   ],
   "source": [
    "phases[1]"
   ]
  },
  {
   "cell_type": "markdown",
   "metadata": {},
   "source": [
    "Initialize"
   ]
  },
  {
   "cell_type": "code",
   "execution_count": 64,
   "metadata": {},
   "outputs": [
    {
     "data": {
      "text/plain": [
       "<name: au. symmetry: m-3m. color: salmon>"
      ]
     },
     "execution_count": 64,
     "metadata": {},
     "output_type": "execute_result"
    }
   ],
   "source": [
    "Phase('au', symmetry='m-3m', color='salmon')"
   ]
  },
  {
   "cell_type": "markdown",
   "metadata": {},
   "source": [
    "# <a id='examples'></a> 6. Examples"
   ]
  },
  {
   "cell_type": "markdown",
   "metadata": {},
   "source": [
    "Plot phase map with property as alpha"
   ]
  },
  {
   "cell_type": "code",
   "execution_count": 65,
   "metadata": {},
   "outputs": [],
   "source": [
    "cm.plot_phase('ci');"
   ]
  },
  {
   "cell_type": "code",
   "execution_count": 75,
   "metadata": {},
   "outputs": [],
   "source": [
    "# Alternatively, return data array plotted, figure, image and axes\n",
    "#data, fig, im, ax = cm.plot_phase(\n",
    "#    overlay='ci',\n",
    "#    scalebar=False,\n",
    "#    legend=False,\n",
    "#    padding=False,\n",
    "#)\n",
    "\n",
    "# And e.g. save it as map of pixels or use it as navigatior in HyperSpy\n",
    "#plt.imsave(os.path.join(datadir, 'phase_ci.png'), arr=data)"
   ]
  },
  {
   "cell_type": "code",
   "execution_count": 67,
   "metadata": {},
   "outputs": [],
   "source": [
    "# Per phase\n",
    "cm['austenite'].plot_phase('ci');"
   ]
  },
  {
   "cell_type": "markdown",
   "metadata": {},
   "source": [
    "Plot property"
   ]
  },
  {
   "cell_type": "code",
   "execution_count": 68,
   "metadata": {},
   "outputs": [],
   "source": [
    "cm.plot_prop('iq');"
   ]
  },
  {
   "cell_type": "code",
   "execution_count": 76,
   "metadata": {},
   "outputs": [],
   "source": [
    "#data, fig, im, ax = cm.plot_prop(\n",
    "#    prop='iq',\n",
    "#    scalebar=False,\n",
    "#    colorbar=False,\n",
    "#    padding=False,\n",
    "#    cmap='viridis',\n",
    "#)"
   ]
  },
  {
   "cell_type": "code",
   "execution_count": 70,
   "metadata": {},
   "outputs": [],
   "source": [
    "# Per phase\n",
    "cm['ferrite'].plot_prop('iq', cmap='viridis');"
   ]
  },
  {
   "cell_type": "code",
   "execution_count": 71,
   "metadata": {},
   "outputs": [],
   "source": [
    "# 2D slicing\n",
    "cm[20:40, 50: 100].plot_prop('ci');"
   ]
  },
  {
   "cell_type": "code",
   "execution_count": 77,
   "metadata": {},
   "outputs": [],
   "source": [
    "# Conditional slicing\n",
    "cm[cm.ci > 0.81].plot_prop('ci', cmap='winter');\n",
    "\n",
    "# Chained conditional slicing\n",
    "#cm[(cm.ci > 0.81) & (cm.phase_id == 1)].plot_prop('ci', cmap='winter');"
   ]
  },
  {
   "cell_type": "markdown",
   "metadata": {},
   "source": [
    "Plot histogram of a property per phase"
   ]
  },
  {
   "cell_type": "code",
   "execution_count": 79,
   "metadata": {},
   "outputs": [],
   "source": [
    "# Change colors (for fun)\n",
    "cm.phases['ferrite'].color = (1, 0, 0)  # or 'r' or 'red'\n",
    "cm.phases['austenite'].color = (0, 1, 0)  # or 'lime'\n",
    "\n",
    "# Property of interest\n",
    "this_prop = 'ci'\n",
    "\n",
    "# Plot phase map again to see color changes\n",
    "cm.plot_phase(this_prop)\n",
    "\n",
    "# Declare lists for plotting\n",
    "data = []\n",
    "labels = []\n",
    "colors = []\n",
    "\n",
    "# Get property values, name and color per phase\n",
    "for _, p in cm.phases_in_map:\n",
    "    labels.append(p.name)\n",
    "    colors.append(p.color)\n",
    "\n",
    "    mask = cm[p.name].indexed\n",
    "    data.append(cm[p.name].prop[this_prop][mask])\n",
    "    # Alternatively, without the two above lines:\n",
    "    #data.append(cm[p.name].ci.compressed())\n",
    "    # Need compressed() because cm['some_masking'].ci returns a\n",
    "    # masked array, which does not play nicely with matplotlib.hist.\n",
    "    # This works because properties are made available as properties via\n",
    "    # __getattr__\n",
    "\n",
    "# Nice bar plot with property histogram per phase\n",
    "fig, ax = plt.subplots()\n",
    "ax.hist(\n",
    "    data,\n",
    "    bins=20,\n",
    "    histtype='bar',\n",
    "    density=True,\n",
    "    label=labels,\n",
    "    color=colors\n",
    ")\n",
    "ax.set_xlabel(this_prop)\n",
    "ax.set_ylabel(\"Frequency\")\n",
    "ax.legend();"
   ]
  }
 ],
 "metadata": {
  "kernelspec": {
   "display_name": "Python 3",
   "language": "python",
   "name": "python3"
  },
  "language_info": {
   "codemirror_mode": {
    "name": "ipython",
    "version": 3
   },
   "file_extension": ".py",
   "mimetype": "text/x-python",
   "name": "python",
   "nbconvert_exporter": "python",
   "pygments_lexer": "ipython3",
   "version": "3.7.6"
  }
 },
 "nbformat": 4,
 "nbformat_minor": 4
}
