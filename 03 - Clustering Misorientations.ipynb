{
 "cells": [
  {
   "cell_type": "markdown",
   "metadata": {},
   "source": [
    "# Introduction"
   ]
  },
  {
   "cell_type": "markdown",
   "metadata": {},
   "source": [
    "This notebook illustrates clustering of Ti crystal misorientations using data obtained from a highly deformed specimen, using EBSD."
   ]
  },
  {
   "cell_type": "markdown",
   "metadata": {},
   "source": [
    "This functionaility has been checked to run in orix-0.2.3 (May 2020). Bugs are always possible, do not trust the code blindly, and if you experience any issues please report them here: https://github.com/pyxem/orix-demos/issues"
   ]
  },
  {
   "cell_type": "markdown",
   "metadata": {},
   "source": [
    "# Contents"
   ]
  },
  {
   "cell_type": "markdown",
   "metadata": {},
   "source": [
    "1. <a href='#imp'> Import data</a>\n",
    "2. <a href='#dis'> Compute distance matrix</a>\n",
    "3. <a href='#clu'> Clustering</a>\n",
    "4. <a href='#vis'> Visualisation</a>"
   ]
  },
  {
   "cell_type": "markdown",
   "metadata": {},
   "source": [
    "Import orix classes and various dependencies"
   ]
  },
  {
   "cell_type": "code",
   "execution_count": null,
   "metadata": {},
   "outputs": [],
   "source": [
    "%matplotlib qt5\n",
    "\n",
    "# Important external dependencies\n",
    "import numpy as np\n",
    "import matplotlib.pyplot as plt\n",
    "from sklearn.cluster import DBSCAN\n",
    "\n",
    "# Import orix classes and functions\n",
    "from orix.quaternion.orientation import Orientation, Misorientation\n",
    "from orix.quaternion.symmetry import D6\n",
    "from orix.quaternion.orientation_region import OrientationRegion\n",
    "from orix.vector import Vector3d\n",
    "from orix.quaternion.rotation import Rotation\n",
    "from orix.vector.neo_euler import AxAngle\n",
    "from orix import plot\n",
    "\n",
    "# Colorisation\n",
    "from skimage.color import label2rgb\n",
    "from matplotlib.colors import to_rgb, to_hex\n",
    "\n",
    "# Visualisation\n",
    "from matplotlib.lines import Line2D"
   ]
  },
  {
   "cell_type": "markdown",
   "metadata": {},
   "source": [
    "# <a id='imp'></a> 1. Import data"
   ]
  },
  {
   "cell_type": "markdown",
   "metadata": {},
   "source": [
    "Load orientation mapping data specified in a standard CTF file as euler angles in degrees, following the Bunge convention."
   ]
  },
  {
   "cell_type": "code",
   "execution_count": null,
   "metadata": {},
   "outputs": [],
   "source": [
    "filepath = './data/Ti_orientations.ctf'\n",
    "dat = np.loadtxt(filepath, skiprows=1)[:, :3]"
   ]
  },
  {
   "cell_type": "markdown",
   "metadata": {},
   "source": [
    "Initialize an orix Orientation object containing the data, with reshape, subset selection and symmetry setting"
   ]
  },
  {
   "cell_type": "code",
   "execution_count": null,
   "metadata": {},
   "outputs": [],
   "source": [
    "ori = Orientation.from_euler(np.radians(dat), convention=\"Krakow_Hielscher\").reshape(381, 507)[-100:, :200].set_symmetry(D6)"
   ]
  },
  {
   "cell_type": "markdown",
   "metadata": {},
   "source": [
    "Compute misorientations and set symmetry"
   ]
  },
  {
   "cell_type": "code",
   "execution_count": null,
   "metadata": {},
   "outputs": [],
   "source": [
    "misori_base = Misorientation(~ori[:, :-1] * ori[:, 1:])\n",
    "boundary_mask = misori_base.angle > np.radians(7)\n",
    "misori = misori_base[boundary_mask].set_symmetry(D6, D6)\n",
    "print('Number of misorientations:', misori.size)"
   ]
  },
  {
   "cell_type": "markdown",
   "metadata": {},
   "source": [
    "Define the fundamental region based on the D6 symmetry of Ti"
   ]
  },
  {
   "cell_type": "code",
   "execution_count": null,
   "metadata": {},
   "outputs": [],
   "source": [
    "fundamental_region = OrientationRegion.from_symmetry(D6, D6)"
   ]
  },
  {
   "cell_type": "markdown",
   "metadata": {},
   "source": [
    "# <a id='dis'></a> 2. Compute distance matrix"
   ]
  },
  {
   "cell_type": "markdown",
   "metadata": {},
   "source": [
    "Clustering algorithms require a distance matrix, $D_{ij}$, containing the distance, $d(o_i, o_j)$, between all (mis)orientations to be computed. We define this distance as the minimum rotational angle relating (mis)orientations amongst all symmetry equivalent rotations.\n",
    "\n",
    "Computation of the distance matrix is the most computationally intensive part of this data processing. Here we provide 3 alternative implementations that use resources differently:\n",
    "\n",
    "1. Calculate the outer products needed to determine the distance metric and compute the associated angle. Minimise with respect to the tensor axes corresponding to symmetry. Uses lots of of computer memory.\n",
    "\n",
    "\n",
    "2. Iterating over pairs of data points while performing an outer product minimisation with respect to the symmetry elements for each pair. Uses more computer memory to avoid excessive computation times.\n",
    "\n",
    "\n",
    "**WARNING: The computation in Section 2.1 takes time and may exceed limits on your machine. This section is commented out to avoid unintentional use. A pre-computed solution is provided in Section 2.2!**"
   ]
  },
  {
   "cell_type": "markdown",
   "metadata": {},
   "source": [
    "## 2.1. Compute the distance matrix yourself (optional)"
   ]
  },
  {
   "cell_type": "markdown",
   "metadata": {},
   "source": [
    "**Option 1: high (ca. 32 Gb) RAM, fast vectorized computation**\n",
    "\n",
    "Computes every possibility in a single tensor, then minimises."
   ]
  },
  {
   "cell_type": "code",
   "execution_count": null,
   "metadata": {},
   "outputs": [],
   "source": [
    "#mismisori = (~misori).outer(misori)\n",
    "#mismisori_equiv = D6.outer(~misori).outer(D6).outer(D6).outer(misori).outer(D6)\n",
    "#distance = mismisori_equiv.angle.data.min(axis=(0, 2, 3, 5))"
   ]
  },
  {
   "cell_type": "markdown",
   "metadata": {},
   "source": [
    "**Option 3: RAM vs. speed compromise**\n",
    "\n",
    "Precomputes one set of equivalent orientations."
   ]
  },
  {
   "cell_type": "code",
   "execution_count": null,
   "metadata": {},
   "outputs": [],
   "source": [
    "from itertools import combinations_with_replacement as icombinations\n",
    "from tqdm import tqdm_notebook\n",
    "distance = np.empty((misori.size, misori.size))\n",
    "\n",
    "for i, j in tqdm_notebook(list(icombinations(range(misori.size), 2))):\n",
    "    m_1, m_2 = misori[i], misori[j]\n",
    "    mismisori = D6.outer(~m_1).outer(D6).outer(D6).outer(m_2).outer(D6)\n",
    "    d = mismisori.angle.data.min(axis=(0, 2, 3, 5))\n",
    "    distance[i, j] = d\n",
    "    distance[j, i] = d"
   ]
  },
  {
   "cell_type": "markdown",
   "metadata": {},
   "source": [
    "## 2.2. Load a distance matrix we computed for you"
   ]
  },
  {
   "cell_type": "code",
   "execution_count": null,
   "metadata": {},
   "outputs": [],
   "source": [
    "filepath_2 = './data/misori-distance((100, 200)).npy'\n",
    "distance = np.load(filepath_2)"
   ]
  },
  {
   "cell_type": "markdown",
   "metadata": {},
   "source": [
    "# <a id='clu'></a> 3. Clustering"
   ]
  },
  {
   "cell_type": "markdown",
   "metadata": {},
   "source": [
    "Apply mask to remove small misorientations associated with grain orientation spread"
   ]
  },
  {
   "cell_type": "code",
   "execution_count": null,
   "metadata": {},
   "outputs": [],
   "source": [
    "small_mask = misori.angle < np.radians(7)\n",
    "distance = distance[~small_mask][:, ~small_mask]\n",
    "misori = misori[~small_mask]"
   ]
  },
  {
   "cell_type": "markdown",
   "metadata": {},
   "source": [
    "Perform clustering"
   ]
  },
  {
   "cell_type": "code",
   "execution_count": null,
   "metadata": {},
   "outputs": [],
   "source": [
    "# Compute clusters\n",
    "dbscan = DBSCAN(0.05, 10, metric='precomputed').fit(distance)\n",
    "print('Cluster labels:', np.unique(dbscan.labels_))\n",
    "n_clusters = len(np.unique(dbscan.labels_)) - 1\n",
    "print('Number of clusters:', n_clusters)"
   ]
  },
  {
   "cell_type": "markdown",
   "metadata": {},
   "source": [
    "Calculate the mean misorientation associated with each cluster"
   ]
  },
  {
   "cell_type": "code",
   "execution_count": null,
   "metadata": {},
   "outputs": [],
   "source": [
    "theta = 15\n",
    "rc = Orientation([np.cos(np.deg2rad(theta/2)),0,0,np.sin(np.deg2rad(theta/2))])\n",
    "list_of_means = []\n",
    "for label in np.unique(dbscan.labels_)[1:]:\n",
    "    cluster_mean_local = (~rc) * ((rc * misori[dbscan.labels_ == label]).set_symmetry(D6,D6).mean())\n",
    "    list_of_means.append(cluster_mean_local)\n",
    "cluster_means = Misorientation.stack(list_of_means).flatten()\n",
    "cluster_means = cluster_means.set_symmetry(D6, D6)"
   ]
  },
  {
   "cell_type": "markdown",
   "metadata": {},
   "source": [
    "Inspect cluster means in axis-angle representation"
   ]
  },
  {
   "cell_type": "code",
   "execution_count": null,
   "metadata": {},
   "outputs": [],
   "source": [
    "np.degrees(cluster_means.angle.data)"
   ]
  },
  {
   "cell_type": "code",
   "execution_count": null,
   "metadata": {},
   "outputs": [],
   "source": [
    "cluster_means.axis"
   ]
  },
  {
   "cell_type": "markdown",
   "metadata": {},
   "source": [
    "Define reference misorientations associated with twinning orientation relationships"
   ]
  },
  {
   "cell_type": "code",
   "execution_count": null,
   "metadata": {},
   "outputs": [],
   "source": [
    "# From Krakow et al\n",
    "sigma7a = Rotation.from_neo_euler(AxAngle.from_axes_angles((1, 0, 0), np.radians(64.40)))\n",
    "sigma11a = Rotation.from_neo_euler(AxAngle.from_axes_angles((1, 0, 0), np.radians(34.96)))\n",
    "sigma11b = Rotation.from_neo_euler(AxAngle.from_axes_angles((2, 1, 0), np.radians(85.03)))\n",
    "sigma13a = Rotation.from_neo_euler(AxAngle.from_axes_angles((1, 0, 0), np.radians(76.89)))\n",
    "sigma13b = Rotation.from_neo_euler(AxAngle.from_axes_angles((2, 1, 0), np.radians(57.22)))\n",
    "\n",
    "twin_theory = Orientation.stack([sigma7a, sigma11a, sigma11b, sigma13a, sigma13b]).flatten()"
   ]
  },
  {
   "cell_type": "markdown",
   "metadata": {},
   "source": [
    "Calculate difference, defined as minimum rotation angle, between measured and theoretical values"
   ]
  },
  {
   "cell_type": "code",
   "execution_count": null,
   "metadata": {},
   "outputs": [],
   "source": [
    "mismisori = (~twin_theory).outer(cluster_means)\n",
    "mismisori_equiv = D6.outer(~twin_theory).outer(D6).outer(D6).outer(cluster_means).outer(D6)\n",
    "distance = mismisori_equiv.angle.data.min(axis=(0, 2, 3, 5))"
   ]
  },
  {
   "cell_type": "code",
   "execution_count": null,
   "metadata": {},
   "outputs": [],
   "source": [
    "np.degrees(distance)"
   ]
  },
  {
   "cell_type": "markdown",
   "metadata": {},
   "source": [
    "# <a id='vis'></a> 4. Visualisation"
   ]
  },
  {
   "cell_type": "markdown",
   "metadata": {},
   "source": [
    "Associate colors with clusters for plotting"
   ]
  },
  {
   "cell_type": "code",
   "execution_count": null,
   "metadata": {},
   "outputs": [],
   "source": [
    "colors = [to_rgb('C{}'.format(i)) for i in range(10)]\n",
    "c = label2rgb(dbscan.labels_, colors=colors)"
   ]
  },
  {
   "cell_type": "markdown",
   "metadata": {},
   "source": [
    "Plot the misorientation clusters within the fundamental zone for D6, D6 bicrystal symmetry"
   ]
  },
  {
   "cell_type": "code",
   "execution_count": null,
   "metadata": {},
   "outputs": [],
   "source": [
    "fig = plt.figure(figsize=(3.484252, 3.484252))\n",
    "gridspec = plt.GridSpec(1, 1, left=0, right=1, bottom=0, top=1, hspace=0.05)\n",
    "\n",
    "\n",
    "ax_misori = fig.add_subplot(gridspec[0], projection='axangle', aspect='equal', proj_type='ortho')\n",
    "ax_misori.scatter(misori,s=4,c=c) \n",
    "ax_misori.plot_wireframe(fundamental_region, color='black', linewidth=0.5, alpha=0.1, rcount=361, ccount=361)\n",
    "\n",
    "\n",
    "ax_misori.set_axis_off()\n",
    "ax_misori.set_xlim(0.2, 1.2)\n",
    "ax_misori.set_ylim(-.1, .9)\n",
    "ax_misori.set_zlim(-0, 1)\n",
    "ax_misori.view_init(90, -60)\n",
    "\n",
    "\n",
    "handles = [\n",
    "    Line2D(\n",
    "        [0], [0], \n",
    "        marker='o', color='none', \n",
    "        label=i+1, \n",
    "        markerfacecolor=color, markersize=5\n",
    "    ) for i, color in enumerate(colors[:n_clusters])\n",
    "]\n",
    "\n",
    "ax_misori.legend(handles=handles, loc='upper left')"
   ]
  },
  {
   "cell_type": "markdown",
   "metadata": {},
   "source": [
    "Plot side view of misorientation clusters in the fundamental zone for D6, D6 bicrystal symmetry"
   ]
  },
  {
   "cell_type": "code",
   "execution_count": null,
   "metadata": {},
   "outputs": [],
   "source": [
    "fig = plt.figure(figsize=(3.484252*2, 1.5*2))\n",
    "gridspec = plt.GridSpec(1, 1, left=0, right=1, bottom=0, top=1, hspace=0.05)\n",
    "\n",
    "ax_misori = fig.add_subplot(gridspec[0], projection='axangle', proj_type='ortho', aspect='equal')\n",
    "ax_misori.scatter(misori, c=c, s=4)\n",
    "ax_misori.plot_wireframe(fundamental_region, color='black', linewidth=0.5, alpha=0.1, rcount=181, ccount=361)\n",
    "\n",
    "ax_misori.set_axis_off()\n",
    "ax_misori.set_xlim(0.1, 1.1)\n",
    "ax_misori.set_ylim(0.1, 1.1)\n",
    "ax_misori.set_zlim(-0, 1)\n",
    "ax_misori.view_init(0, -60)"
   ]
  },
  {
   "cell_type": "markdown",
   "metadata": {},
   "source": [
    "Generate map of boundaries colored according to cluster membership"
   ]
  },
  {
   "cell_type": "code",
   "execution_count": null,
   "metadata": {},
   "outputs": [],
   "source": [
    "mapping = np.ones(misori_base.shape + (3,))\n",
    "mapping[np.where(boundary_mask)[0][~small_mask], np.where(boundary_mask)[1][~small_mask]] = c"
   ]
  },
  {
   "cell_type": "markdown",
   "metadata": {},
   "source": [
    "Plot map of boundaries colored according to cluster membership"
   ]
  },
  {
   "cell_type": "code",
   "execution_count": null,
   "metadata": {},
   "outputs": [],
   "source": [
    "fig = plt.figure(figsize=(3.484252, 2))\n",
    "\n",
    "gridspec = plt.GridSpec(1, 1, left=0, right=1, bottom=0, top=1, hspace=0.05)\n",
    "ax_mapping = fig.add_subplot(gridspec[0])\n",
    "ax_mapping.imshow(mapping)\n",
    "\n",
    "ax_mapping.set_xticks([])\n",
    "ax_mapping.set_yticks([])"
   ]
  },
  {
   "cell_type": "code",
   "execution_count": null,
   "metadata": {},
   "outputs": [],
   "source": []
  }
 ],
 "metadata": {
  "kernelspec": {
   "display_name": "Python 3",
   "language": "python",
   "name": "python3"
  },
  "language_info": {
   "codemirror_mode": {
    "name": "ipython",
    "version": 3
   },
   "file_extension": ".py",
   "mimetype": "text/x-python",
   "name": "python",
   "nbconvert_exporter": "python",
   "pygments_lexer": "ipython3",
   "version": "3.8.2"
  }
 },
 "nbformat": 4,
 "nbformat_minor": 2
}
